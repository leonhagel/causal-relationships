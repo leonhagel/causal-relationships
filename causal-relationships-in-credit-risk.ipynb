{
 "cells": [
  {
   "cell_type": "markdown",
   "id": "59173e36-d335-437d-a922-792e6fdfa55c",
   "metadata": {},
   "source": [
    "# **Causal Relationships in Credit Risk**\n",
    "\n",
    "**Applied Predictive Analytics | Summer 2022 | HU Berlin**\n",
    "\n",
    "Leon Hagel | Kieu-Long Huynh | Mehmet Oguzcan Kervanci | Peiqi Zhu"
   ]
  },
  {
   "cell_type": "code",
   "execution_count": 1,
   "id": "d6263a80-e330-42a0-943a-b10c15ed908e",
   "metadata": {},
   "outputs": [],
   "source": [
    "import os\n",
    "os.chdir(\"src\")"
   ]
  },
  {
   "cell_type": "code",
   "execution_count": 3,
   "id": "5c29d53f-82b2-4cab-ba75-7e235299b0c3",
   "metadata": {},
   "outputs": [],
   "source": [
    "import models\n",
    "import utils"
   ]
  },
  {
   "cell_type": "markdown",
   "id": "f94e7f99-129e-407b-b68b-f304e57c31b4",
   "metadata": {},
   "source": [
    "## **1. Introduction**"
   ]
  },
  {
   "cell_type": "markdown",
   "id": "53a56ff1-d266-4218-8eda-11ac469abfb5",
   "metadata": {},
   "source": [
    "Philosophy was the discipline that first introduced causality. Many Greek philosophers, like Plato and Aristotle, were motivated by the desire to understand the underlying causes of natural occurrences. Plato’s quote “everything that becomes or changes must be so owing to some cause” inspired other philosophers to construct their theories of causality using this term as their foundation (Noguiera et al., 2022). Moreover, causal understanding has been the fundamental goal of many different fields, from biology to the development of medical products to policy making (Vowels et al., 2021). In recent times, the concept of causality has evolved from a purely philosophical concept to one used in artificial intelligence and machine learning. The main reason is that causality can be a crucial tool in mitigating the resulting problems of correlation-based machine learning (ML) models (Noguiera et al., 2022). Association-based ML models are deceived by illusory dynamics and unable to adjust to changing circumstances. Another reason is that the traditional way to find causal relations would be randomized experiments or interventions. However, there are several problems with this approach. In most real-life scenarios, performing these experiments may not be ethical, financially feasible, or practical. Vowels et al. (2021) assert that this paves the way for researchers to investigate causality over observational data. Nevertheless, observational data has some problematic aspects. Again, Vowels et al. (2021) mentioned the existence of problems in observational data such as selection bias, non-existence of all relevant variables and not-known causal relationships a priori. Considering those two key reasons, researchers in the disciplines of statistics and machine learning have formed various methods for identifying causal links to solve these issues, which necessitates mostly strong assumptions. In fact, the Causal Bayesian Networks (CBN) is one of the most well-known ML algorithms for uncovering causal correlations given data. The constraint-based and scored-based algorithms are used under the hood of CBN. More recently, functional causal (Shimizu et al., 2016) and gradient-based optimization (Zheng et al., 2018) models also have taken a place in causal discovery."
   ]
  },
  {
   "cell_type": "markdown",
   "id": "ac48b553-12a3-4601-8d00-bcc503a88ea8",
   "metadata": {},
   "source": [
    "This study will analyze the benefits of incorporating causality in credit risk modeling in out-of-sample performance. The idea is that variables that have a causal effect on the target variable will predict the outcome better than purely correlating variables, regardless of ever-changing environments (e.g., financial and macroeconomic developments) that might influence data distribution. In the following parts, this study will present some concepts of causality, four causal discovery methods, and one causal prediction method in chapter 2. Our idea of incorporating causality in credit risk modeling will be laid out in chapter 3. The coding approach and our empirical results will be presented thereafter. The empirical results will be evaluated in chapter 5, followed by the summary of our findings in chapter 6."
   ]
  },
  {
   "cell_type": "markdown",
   "id": "3e3a4cdc-951a-42ff-b61f-2ec22077dd3e",
   "metadata": {},
   "source": [
    "## **2. Related Work**"
   ]
  },
  {
   "cell_type": "markdown",
   "id": "6e72a98c-f799-4fca-a171-9bf957bc242c",
   "metadata": {},
   "source": [
    "Before introducing algorithms for causal discovery in-depth, it is noteworthy to mention the usual assumptions and concepts of causal discovery. \n",
    "- **Acyclicity:** In the causal graph, there does not exist a direct route from a node back to itself. (Eberthard, 2017)\n",
    "- **Directed Acyclic Graph:** In order to describe a priori causal assumptions and facilitate variable selection techniques for causal problems, directed acyclic graphs (DAGs) are adopted (Piccininni et al., 2022). As illustrated below, nodes here stand in for variables. The causal linkages are represented by directed edges from cause to effect. For instance, in such a graph, a directed route from U to X denotes a causal relationship from U to X in the system, where cause U affects the value of its consequence X but not the other way around.\n",
    "- **Causal Markov Assumption:** After all the direct causes of an event are established, the event is found as probabilistically independent of its causal non-descendants (Druzdzel, 2019). \n",
    "- **Causal Faithfulness Assumption:** All interdependencies found in the data are structural, arising from the causal graph's structure rather than being coincidental (Druzdzel, 2019). \n",
    "- **Causal Sufficiency Assumption:** All the tested sets of variables include the common causes of the paired variables on the set (Spirtes et al., 2017).\n",
    "- **Markov blanket:** For a given causal graph, a node in a graph forms a Markov blanket with its child-, its parents-, and its spouses-nodes, which form the most relevant causal relationship of the node (Pellet et al., 2008)."
   ]
  },
  {
   "cell_type": "markdown",
   "id": "d4fe48ad-d3e0-4b2a-ba76-cca1a89afeff",
   "metadata": {},
   "source": [
    "<center>\n",
    "<figure>\n",
    "    <img src=\"img/simpleDAG.png\" alt=\"Figure 2.1: Example DAG (Dawid, 2010).\") style=height:250px>\n",
    "    <figcaption align = \"left\"><b>Figure 2.1:</b> Example DAG (Dawid, 2010).</figcaption>\n",
    "</figure>\n",
    "</center>"
   ]
  },
  {
   "cell_type": "markdown",
   "id": "104d8cd4-bdbe-460f-8452-6340a2275da8",
   "metadata": {},
   "source": [
    "After the fundamental concepts in causal discovery, algorithms in this study are explained in detail in the next section.\n",
    "\n",
    "There are numerous categories of causal discovery approaches (Glymour et al., 2019), and we have chosen the main four: constraint-based, score-based, functional causal model-based, and gradient-based. For these categories, we have selected respective models based on the code availability and the representativeness, i.e., in each category, the presented models are prominent and even have more recent models based on them (Vowels et al., 2021). "
   ]
  },
  {
   "cell_type": "markdown",
   "id": "f4195e42-daf9-4511-b753-3019b63cb3a5",
   "metadata": {},
   "source": [
    "### **2.1 Constraint-Based: PC Algorithm**"
   ]
  },
  {
   "cell_type": "markdown",
   "id": "f0a4063b-389c-42ff-8107-d82d0195f066",
   "metadata": {},
   "source": [
    "Out of the existing constraint-based causal discovery models, we have chosen the PC (Peter-Clark) algorithm presented by Spirtes et al. (1991), one of the most representative algorithms under this catalog and the foundation of many variations of constraint-based causal discovery models. The algorithm learns the causal structure constrained by conditional independence in the data through appropriate tests (Glymour et al., 2019). The output of the models is a causal relation graph that is, at best, Markov equivalent to the true graph (Le et al., 2016). The validity of the PC algorithm resulting in a Markov equivalent graph depends on faithfulness, which serves as a sufficient condition (Glymour et al., 2019). "
   ]
  },
  {
   "cell_type": "markdown",
   "id": "6288e641-8a28-4159-8a71-545c90ec91ea",
   "metadata": {},
   "source": [
    "The PC algorithm follows the same major steps (Spirtes et al., 2001) as other constraint-based causal discovery models. From a given dataset, \n",
    "1. Extract a complete undirected graph, from which a skeleton is extracted by testing the conditional independence of variables pairwise. \n",
    "1. Identify the immoralities to direct the edges in the skeleton. Given the paired variables A and B have no direct edges in the skeleton graph and A, B are dependent conditional on another variable C, then A, B, C form an immorality. The variable C makes the paired variables A, B dependent, so C is the immoral child of A and B. Therefore, the direction of the edges from the paired variables A, B point to the child node C. \t\n",
    "1. Directs the edges between colliders (the child nodes) and their incidents in the rest of the skeleton. Since the conditional independence between each pair of variables in the graph was tested and all the immoralities are marked in the previous steps, the direction of the rest of the undirected edges can be easily determined.\n"
   ]
  },
  {
   "cell_type": "markdown",
   "id": "05c93a21-03a8-4101-8927-df1b68f51fe1",
   "metadata": {},
   "source": [
    "### **2.2 Score-Based: GES**"
   ]
  },
  {
   "cell_type": "markdown",
   "id": "6e975526-8adf-48c3-9c6b-35fab2accfca",
   "metadata": {},
   "source": [
    "Score-based algorithms seek to discover causal relations by assigning a properly defined score function to candidate graphs. It assesses the strength of potential causal models using several score functions rather than individually checking each conditional independence criterion with a binary decision and then outputs one or more graphs with the best score. As Malinsky et al. (2017) argues, the Bayesian Information Criterion (BIC) score, which roughly approximates the model’s posterior probability given the dataset, is the most prevalent score. "
   ]
  },
  {
   "cell_type": "markdown",
   "id": "5de70724-0bb2-4e18-b85f-8fb4fe2c3652",
   "metadata": {},
   "source": [
    "One of the prominent approaches is Greedy Equivalence Search (GES) (Meek, 1997; Chickering, 2003), which directly searches the space of equivalence classes. Glymour et al. (2019) explain the two-phase process of GES. \n",
    "\n",
    "1. In the forward phase, it begins with a blank graph, adds any currently needed edges, and then removes any superfluous edges in a pattern. \n",
    "1. When it is judged that adding a directed edge will improve fit as measured by score, such as BIC, it is added at each stage of the algorithm.\n",
    "1. The process is repeated after mapping the generated model to the appropriate Markov equivalence class. \n",
    "1. The second step, the backward phase, starts once the score can no longer be enhanced. The GES algorithm then determines whether there can be any edges eliminated to improve the score. It goes edge by edge until it can remove no more edges.\n",
    "\n",
    "Given that its trajectory depends on the relative strengths of the linkages and conditional associations of the variables, the GES method is more difficult to illustrate than the PC algorithm. \n"
   ]
  },
  {
   "cell_type": "markdown",
   "id": "c0ed6116-8bdd-4f0b-96cd-b34ea0b618d8",
   "metadata": {},
   "source": [
    "### **2.3 Function-Based: LiNGAM**"
   ]
  },
  {
   "cell_type": "markdown",
   "id": "befd626a-b64b-4928-9df5-7a0291b95f7f",
   "metadata": {},
   "source": [
    "Functional-based causal discovery models learn the causal relation in the observed data based on a potential function between the input variables. The major difference between the functional-based causal discovery to other approaches is that it makes assumptions on the data distribution in addition to the conditional independencies (Shimizu et al., 2006). Moreover, it is able to determine the direction of the causal relation DAG graph as the independencies are only held in one direction. "
   ]
  },
  {
   "cell_type": "markdown",
   "id": "951c8cf9-d98f-4ad9-be0d-fbb4577ab9ba",
   "metadata": {},
   "source": [
    "The LiNGAM (Linear Non-Gaussian Acyclic Model) is the first computational efficient functional-based model (Shimizu et al., 2006). LiNGAM estimates the causality between variables in the observable data relatively efficiently based on a linear function, as the model assumes the underlying distribution of the data to be non-Gaussian (Shimizu et al., 2006). The first step of the estimation is the Independent Component Analysis to decompose the linear relationship between the dependent variables and the noise term after fitting the data to the linear function. By iteratively fitting the data, using different independent and dependent variables to fit the function, the direction of the variable that gives independent noise terms represents the causal relationship. "
   ]
  },
  {
   "cell_type": "markdown",
   "id": "c4914ccc-8c0a-4f1d-99bc-f8a8765b8565",
   "metadata": {},
   "source": [
    "### **2.4 Gradient-Based: NOTEARS**"
   ]
  },
  {
   "cell_type": "markdown",
   "id": "c1cd8fc6-1b98-444d-97fc-80f02bdfaeff",
   "metadata": {},
   "source": [
    "In general, a gradient-based approach attempts to optimize the graph parameters continuously as opposed to score-based approaches which try to optimize the graph parameters by a purely combinatorial approach.As one of the first and most influential implementations of a gradient based approach, NOTEARS (Non-combinatorial Optimization via Trace Exponential and Augmented lagRangian for Structure learning, Zheng et al., 2018) will be used. The NOTEARS approach converts a combinatorial problem into a continuous problem in a Bayesian network to address the challenge of asymmetric matrix and the acyclicity constraint."
   ]
  },
  {
   "cell_type": "markdown",
   "id": "d46463f6-3dcb-442b-866c-b4ae64acf839",
   "metadata": {},
   "source": [
    "<center>\n",
    "<figure>\n",
    "    <img src=\"img/adjacency.png\" alt=\"Figure 2.2: DAG and Adjacency Matrices.\") style=height:100px>\n",
    "    <br>\n",
    "    $W = \\begin{bmatrix}0 & 1 & 0 \\\\ 0 & 0 & 1 \\\\ 1 & 0 & 0 \\\\\\end{bmatrix} \\longrightarrow W^3 = \\begin{bmatrix}1 & 0 & 0 \\\\ 0 & 1 & 0 \\\\ 0 & 0 & 1 \\\\\\end{bmatrix}$\n",
    "    <br>\n",
    "    <br>\n",
    "    <figcaption align = \"left\"><b>Figure 2.2:</b> DAG and Adjacency Matrices.</figcaption>\n",
    "</figure>\n",
    "</center>\n"
   ]
  },
  {
   "cell_type": "markdown",
   "id": "03fc02f5-973b-49c2-a200-8cc7a28023fe",
   "metadata": {},
   "source": [
    "The objective of the NOTEARS algorithm is to minimize the recreation loss for the input features X while using a function $F(W)$ and fulfilling a continuous acyclicity constraint $h(W)$. Furthermore, NOTEARS uses two properties of adjacency matrices to determine acyclicity in the graphs. An element $w_{ij}$ in the adjacency matrix represents a directed edge from $i$ to $j$. Taking the adjacency matrix to the power of $n$, the element $w_{ij}$ in the matrix $W^n$ represents the walk from $i$ to $j$ using $n$ edges. Cyclicity using $n$ edges in an adjacency matrix $W^n$ can be found if there are non-zero elements on the matrix diagonal ($w_{ii} \\neq 0$). "
   ]
  },
  {
   "cell_type": "markdown",
   "id": "ab788372-c5ed-4498-abcc-23c3b195867b",
   "metadata": {},
   "source": [
    "The weights W used by the function $F(W)$ can be interpreted as an adjacency matrix with the dimensions $d * d$, where $d$ is the number of variables. In the weight matrices, elements $w_{ij} \\neq 0$ indicate a causal effect of $x_i$ on $x_j$. Weights $w_{ii} \\neq 0$ in the weight matrix $W^n$ for any $n$ indicate that $x_i$ has a causal effect on itself and hence violates the acylicity constraint. Visually, it causes a cycle in a DAG. \n"
   ]
  },
  {
   "cell_type": "markdown",
   "id": "01b923a3-2f67-4c6c-a15c-fcb9b8038dd1",
   "metadata": {},
   "source": [
    "NOTEARS accounts for acyclicity with the h-value $h(W)=tr(e^{W \\odot W})-d=0$, where $e^X = \\sum_{k=0}^{∞}\\frac{1}{k!}X^k = I+X+\\frac{X^2}{2!}+\\frac{X^3}{3!}+ ... $ is the exponential matrix of matrix $X$ and $d$ is the number of variables. The hadarmard product of $W$ is taken to guarantee that the elements of the weight matrix are non-negative. "
   ]
  },
  {
   "cell_type": "markdown",
   "id": "0dd91dcb-33ee-4387-b1e4-6304ab8ceb15",
   "metadata": {},
   "source": [
    "In the case that the DAG is acyclic, $tr(e^{W \\odot W})$ will be $d$ because for the exponential matrix, all elements of the main diagonal of the matrices besides the identity matrix will be zero, hence resulting in a h-value of zero. Opposed to that, a higher h-value indicates more cycles in the DAG and a stronger violation of the acyclicity assumption. "
   ]
  },
  {
   "cell_type": "markdown",
   "id": "39c1aa7d-fcb4-4f69-b00b-7b50effe3628",
   "metadata": {},
   "source": [
    "### **2.5 Causal Regularization: CASTLE**"
   ]
  },
  {
   "cell_type": "markdown",
   "id": "8ddacf41-42c7-47cd-82cd-85b637d3d9e3",
   "metadata": {},
   "source": [
    "In contrast to previous approaches, CASTLE (CAusal STructure LEarning, Kyono et al., 2020) is a predictive model incorporating causality, as a regularization component. It simultaneously learns the causal structure while predicting the target. It uses the NOTEARS acylicity constraint (h-value) as a regularization penalty during model training. CASTLE assumes that there is a causal DAG among the feature and target variables. However, CASTLE uses causal discovery only for regularization purposes and hence does not focus on returning a proper DAG. By choosing a threshold value, an approximated DAG can be returned for visualization purposes. "
   ]
  },
  {
   "cell_type": "markdown",
   "id": "8d3e55a7-2178-4026-bf6b-032cf15d7174",
   "metadata": {},
   "source": [
    "The training objective function which is given as:\n",
    "\n",
    "<center>\n",
    "$\\Theta \\in \\min_{\\Theta}\\frac{1}{N}||Y-[f_{\\Theta}(\\tilde{X})]_{:,2}|| ^2 + \\lambda R_{DAG}(\\tilde{X}, f_{\\Theta})$\n",
    "</center>\n",
    "\n",
    "<br>\n",
    "<center>\n",
    "$R_{DAG}(\\tilde{X}, f_{\\Theta}) = L_{N}(f_{\\Theta}) + R_{\\Theta_{1}} + \\beta V_{\\Theta_{1}}$\n",
    "</center>\n",
    "<br>\n",
    "\n",
    "Similar to other predictive models, it minimizes the prediction loss (left term) but in addition tries to minimize the so-called causal discovery loss (right term) as well. The causal discovery loss is the sum of recreation loss, acyclical constraint and lasso penalty."
   ]
  },
  {
   "cell_type": "markdown",
   "id": "1573c517-b138-4b5a-a5b7-b4c594237e82",
   "metadata": {},
   "source": [
    "<center>\n",
    "<figure>\n",
    "    <img src=\"img/castle.png\" alt=\"Figure 2.3: CASTLE Network Architechture (Kyono et al., 2020).\") style=height:300px>\n",
    "    <figcaption align = \"left\"><b>Figure 2.3:</b> CASTLE Network Architechture (Kyono et al., 2020).</figcaption>\n",
    "</figure>\n",
    "</center>"
   ]
  },
  {
   "cell_type": "markdown",
   "id": "286aa21b-be76-483b-b296-96c813cd72d8",
   "metadata": {},
   "source": [
    "The network structure illustrates how CASTLE learns the causal structure in the causal discovery task and performs the prediction task at the same time using a set of neural networks. Most noteworthy is, that all sub-networks, share the same hidden layers when determining both $f_1$ (prediction task) and $f_k$ (causal discovery task). "
   ]
  },
  {
   "cell_type": "markdown",
   "id": "4cbd305c-b689-48e6-bce6-55ef9f315783",
   "metadata": {},
   "source": [
    "## **3. Methodology**"
   ]
  },
  {
   "cell_type": "markdown",
   "id": "b0f6db10-0f1a-4790-9e43-a492be5e1141",
   "metadata": {},
   "source": [
    "After reviewing available methods within causal discovery and causal prediction, we propose two approaches in order to assess the benefits of incorporating causality in predictive modeling and use a non-causal benchmark model applying standard feature selection and regularization methods."
   ]
  },
  {
   "cell_type": "markdown",
   "id": "4757bf81-68b6-4cef-adef-24b51da20abd",
   "metadata": {},
   "source": [
    "The two causal approaches are as follows:\n",
    "\n",
    "1. **Causal Selection:** Incorporate causality by selecting features based on the Markov blanket determined by different causal discovery methods as laid out in chapter 2 (Pearl, 1989). The selected variables will be used as the input features for our hyperparameter-tuned prediction models.\n",
    "1. **Causal Regularization:** Incorporate causality by using the causal regulation approach CASTLE as presented in chapter 2.\n"
   ]
  },
  {
   "cell_type": "markdown",
   "id": "ffde337a-93ad-49fb-95d6-03a47bf636b4",
   "metadata": {},
   "source": [
    "The approaches will be assessed in the following three dimensions:\n",
    "1. **Predictive Performance:** To assess whether learning causal structures during a prediction task improves the predictive performance, we will compare the AUC score of our causal models to our benchmark models. We chose a black-box Gradient Boosting model for the causal selection models, as this model should achieve higher scores than the white-box models Logistic Regression and Decision Trees. \n",
    "1. **Interpretability:** Besides the predictive performance of our causal models, we are interested in how these models improve the interpretability of the prediction task. To achieve this, we will analyze the learned DAGs and check if causal structure learning during a prediction task improves the predictive performance of interpretable white box models, i.e., Logistic Regression and Decision Trees. During our analysis of the learned DAGs, we will do sanity checks if the models provide sensible DAGs and validate how these DAGs could be used in a credit risk setting (e.g., to improve risk assessment). As a true DAG does not exist, this is subject to the authors’ discretion.\n",
    "1. **Resources:** An important aspect in creating machine learning models is the scalability of these models and hence the required resources. To analyze the scalability, we will compare training times and required data. \n"
   ]
  },
  {
   "cell_type": "markdown",
   "id": "5f4f709e-cb6a-41a2-89f3-480c1db1753c",
   "metadata": {},
   "source": [
    "Our pipeline to predict the probability of credit default in the credit risk setting contains the following steps:\n",
    "1. **Exploratory Data Analysis:** Descriptive analysis of the provided credit data. \n",
    "1. **Data Cleaning:** Basic data cleaning operations include removing irrelevant data, fixing structural errors, and treating missing values.\n",
    "1. **Feature Creation:** Simple feature creation operations, mainly to address categorical variables. We refrain from exhaustive feature creation to not introduce bias in the causal relationships in the data. \n",
    "1. **Grid Search:** Hyperparameter tuning for causal and benchmark models using grid search.\n",
    "1. **Model training:** Training our models based on the optimal hyperparameters from the grid search.\n",
    "1. **Model evaluation:** Assessing the predictive performance, interpretability and required resources of our models."
   ]
  },
  {
   "cell_type": "markdown",
   "id": "06f55e5d-0e72-409e-955f-8c2d5d2a08cc",
   "metadata": {},
   "source": [
    "For our benchmark models and the predictive models of our causal selection, we used scikit-learn’s GradientBoostingClassifier, DecisionTreeClassifier and LogisticRegression (Scikit-learn, 2011). Furthermore, we chose to use statistically significant features provided by statsmodels’ OLS model (Seabold et al., 2019) and features selected by scikit-learn’s feature selection models RFE and SFS (Scikit-learn, 2011) as feature selection benchmarks. We choose RFE and SFS as our feature selection benchmark because they are the most common and primarily used approaches for feature selection. Regarding the causal discovery, no library is currently available which could provide all required models for our analysis. Therefore, we chose to use the PC and GES models provided by the causal discovery toolbox (Kalainathan et al., 2019) as well as the ICALiNGAM and NOTEARS model provided by the gcastle library (Zhang et al., 2021) for our causal discovery task. To build the CASTLE regularization model, we used a slightly modified version of the code provided by Kyono et al. (2020)"
   ]
  },
  {
   "cell_type": "markdown",
   "id": "f123c289-5870-4163-9c73-1ba70d969b1f",
   "metadata": {},
   "source": [
    "As we are using different libraries to train our models, the different models require different steps to train the models and predict our target. To unify the model training process, we added a pipeline object to the used models, which contains all methods and steps required for model training and our analysis. The template for our pipeline object can be found at `src/utils/Pipeline.py` and the modified model classes can be found at `src/models/`."
   ]
  },
  {
   "cell_type": "markdown",
   "id": "aa60ae46-73ce-4498-a5b3-16eed5e5ee3c",
   "metadata": {},
   "source": [
    "Most important pipeline methods:\n",
    "\n",
    "```\n",
    "model.pipeline.fit(X_train, y_train) # performs all operations to fit the model\n",
    "model.pipeline.predict(X): # performs all operations to predict credit default\n",
    "```"
   ]
  },
  {
   "cell_type": "markdown",
   "id": "88fa0db0-98ae-4bf1-8013-f4205b7ae1ea",
   "metadata": {},
   "source": [
    "To efficiently perform a grid search to tune the hyperparameter of our models, we created a Grid Search class. The Grid Search class uses our pipeline model framework and performs a stratified k-fold cross validation for the provided parameter combinations. Examples of our coding pipeline can be found in section 4. Empirical Results."
   ]
  },
  {
   "cell_type": "markdown",
   "id": "90254d21-1831-4790-b4eb-2a678abcda25",
   "metadata": {},
   "source": [
    "### **4. Empirical Results**"
   ]
  },
  {
   "cell_type": "markdown",
   "id": "443d9c49-5f0f-4af4-9447-9a60ca7fdab5",
   "metadata": {},
   "source": [
    "There are 149,985 observations, 31 features and one target variable in the raw training data. In the raw test data, there are observations (50,015) equal to 33% of the number of observations in the training data. The features contain various information about a specific loan, such as borrowers' credit scores, the used channel to get a mortgage, property's location, type etc. In this study, three variables “dt_first_pi”,”dt_matr” and “pre_relief” are dropped, which decreased the number of features from 31 to 28. The main reasons are that those features needed further feature creation effort and might introduce bias in the causal structure."
   ]
  },
  {
   "cell_type": "markdown",
   "id": "7b6aaeba-45fb-4e18-a3f9-649c0e78ec5e",
   "metadata": {},
   "source": [
    "Moreover, missing values in the data are checked before digging in further. The cases from training data that contain missing values are dropped, resulting in 123,823 remaining observations. Furthermore, we used mean imputation for the missing values in the test data to avoid losing any test cases. "
   ]
  },
  {
   "cell_type": "markdown",
   "id": "3a7a3263-69e0-4952-94e9-e9bd50f69a8b",
   "metadata": {},
   "source": [
    "Target is the dummy variable that indicates whether the loan defaulted and a value of 1 indicates that the loan defaulted. As seen in the plot below, credit defaults are rare in real-life scenarios (Bischl et al., 2016), leaving us with the problem of class imbalance. This study will use undersampling for specific models that are sensitive to class imbalance.  "
   ]
  },
  {
   "cell_type": "markdown",
   "id": "0cd1b5e8-6acd-4255-9291-32d0a0167a04",
   "metadata": {},
   "source": [
    "<center>\n",
    "<figure>\n",
    "    <img src=\"out/img/classimbalance.png\" alt=\"Figure 4.1: Class Imbalance of the Target Feature.\") style=height:100%>\n",
    "    <figcaption align = \"left\"><b>Figure 4.1:</b> Class Imbalance of the Target Feature.</figcaption>\n",
    "</figure>\n",
    "</center>"
   ]
  },
  {
   "cell_type": "markdown",
   "id": "6b883f64-5100-4563-b594-320fda28f66d",
   "metadata": {},
   "source": [
    "Related to credit-risk setting variables in the training dataset, the average interest rate for those who default is found as *4.3*, while for those who did not default is *4.0*. It is aligned with the common knowledge, such that creditors issue loans with higher interest rates to the riskier groups. We examined the “fico” variable in the training dataset, which indicates the credit score. Below is the histogram of credit scores for defaulters and non-defaulters. While the credit score histogram of defaulting borrowers is closer to the normal distribution, there is a lighter-skewed distribution in non-default borrowers. While the credit score average of defaulting borrowers is *709.3*, this ratio is *754.1* for non-default borrowers."
   ]
  },
  {
   "cell_type": "markdown",
   "id": "510d0e23-09e8-40d5-9772-f0fac3c123e9",
   "metadata": {},
   "source": [
    "<center>\n",
    "<figure>\n",
    "    <table><tr>\n",
    "        <td> <img src=\"out/img/credscorehist_withoutdefault.png\" alt=\"Credit Score without default\" style=\"width: 100%;\"/> </td>\n",
    "        <td> <img src=\"out/img/credscorehist_withdefault.png\" alt=\"Credit Score with default\" style=\"width: 100%;\"/> </td>\n",
    "    </tr></table>\n",
    "    <figcaption align = \"left\"><b>Figure 4.2:</b> Histograms of the Credit Score.</figcaption>\n",
    "</figure>\n",
    "</center>"
   ]
  },
  {
   "cell_type": "markdown",
   "id": "ed6d2b80-77dd-4932-8326-a16579490eaf",
   "metadata": {},
   "source": [
    "The training and test dataset are different in terms of distributions of numerical variables. Figure 4.3 shows a shared example of two of the crucial variables, namely “dti” and “fico”, which do present a significant difference. Furthermore, we perform a two-sample Kolmogorov-Smirnov test for numerical variables in those two datasets and the null hypothesis in this test is “the two distributions are identical”. For most of the column pairs,  p-value is close to zero, which helps us to conclude that the two groups had different distributions. "
   ]
  },
  {
   "cell_type": "markdown",
   "id": "98ffaebf-1e6d-4c4f-8f52-3d1958f8d8ec",
   "metadata": {},
   "source": [
    "<center>\n",
    "<figure>\n",
    "    <table>\n",
    "    <tr><td style=\"background:white;\"><img src=\"out/img/dtidist.png\" alt=\"dti\") style=height:75%></td></tr>\n",
    "    <tr><td style=\"background:white;\"><img src=\"out/img/creditscoredist.png\" alt=\"creditscore\") style=height:75%></td></tr>\n",
    "    </table>\n",
    "    <figcaption align = \"left\"><b>Figure 4.3:</b> Histograms of the Features Debt to Income and Credit Score.</figcaption>\n",
    "</figure>\n",
    "</center>"
   ]
  },
  {
   "cell_type": "markdown",
   "id": "d2c0ab90-e785-4896-9204-16d6f67b807d",
   "metadata": {},
   "source": [
    "After performing the EDA and preparing the data, we performed a grid search for all of our candidate models. Our GridSearch class uses our pipeline model framework and performs a stratified k-fold cross validation for the provided parameter combinations. The results are stored at `out/grid-search/` and a visualization of all results can be found in the appendix (`appendix/grid-seach.ipynb`)"
   ]
  },
  {
   "cell_type": "code",
   "execution_count": 4,
   "id": "dee2aff0-60a7-4945-88fd-97f7ee4a12c1",
   "metadata": {},
   "outputs": [
    {
     "name": "stdout",
     "output_type": "stream",
     "text": [
      "[grid search] 4 parameter combinations identified.\n",
      "[grid search] starting stratified kfold for parameter combination 1...\n",
      "[grid search] starting stratified kfold for parameter combination 2...\n",
      "[grid search] starting stratified kfold for parameter combination 3...\n",
      "[grid search] starting stratified kfold for parameter combination 4...\n"
     ]
    }
   ],
   "source": [
    "# Example: Grid-Search, used grid-search code located at src/grid-search\n",
    "\n",
    "# loading the data\n",
    "train = utils.csv.read(\"../data/features_train_pre-tts_no-dummies.csv\", low_memory=False).dropna()\n",
    "train = train.drop([\"id_loan\"], axis=1)\n",
    "y = train[\"TARGET\"]\n",
    "X = train.drop(\"TARGET\", axis=1)\n",
    "\n",
    "# candidate parameter\n",
    "train_test_split = {\n",
    "        \"to_woe\": [['zipcode', 'cd_msa', 'st', 'seller_name', 'servicer_name', 'prop_val_meth', 'prop_type', \n",
    "                    'flag_fthb', 'pgrm_ind', 'occpy_sts', 'loan_purpose', 'channel', 'prod_type']],\n",
    "        \"scaler\": [\"StandardScaler\"]\n",
    "}\n",
    "init = {\n",
    "        \"max_depth\": [None, 3, 6, 10],\n",
    "    }\n",
    "\n",
    "# cross-validation for candidate parameter\n",
    "gs = utils.GridSearch(models.sklearn.DecisionTreeClassifier)\n",
    "gs.fit(X, y, 5, train_test_split=train_test_split, init=init, verbose=1, dump=False)"
   ]
  },
  {
   "cell_type": "code",
   "execution_count": 5,
   "id": "587663ed-2682-4bee-8924-8c255b9ff67d",
   "metadata": {},
   "outputs": [
    {
     "data": {
      "image/png": "[encoded data removed]",
      "text/plain": [
       "<Figure size 432x288 with 1 Axes>"
      ]
     },
     "metadata": {
      "needs_background": "light"
     },
     "output_type": "display_data"
    }
   ],
   "source": [
    "# Example: Evaluation of grid search results, evaluation of performed grid search in appendix/model-evaluation.ipynb\n",
    "gs.plot()\n",
    "gs.set_best(\"gs_3\")"
   ]
  },
  {
   "cell_type": "code",
   "execution_count": 6,
   "id": "e926aec5-01df-420b-befa-d8ea2539065e",
   "metadata": {},
   "outputs": [
    {
     "name": "stdout",
     "output_type": "stream",
     "text": [
      "[causal-selection] train score:    0.8743\n",
      "stored plot to ../cache/dag.png.\n"
     ]
    },
    {
     "data": {
      "text/plain": [
       "<Figure size 432x288 with 0 Axes>"
      ]
     },
     "metadata": {},
     "output_type": "display_data"
    },
    {
     "data": {
      "image/png": "[encoded data removed]",
      "text/plain": [
       "<Figure size 864x576 with 1 Axes>"
      ]
     },
     "metadata": {},
     "output_type": "display_data"
    }
   ],
   "source": [
    "# Example: Model training, used model training code located at src/model-training/\n",
    "\n",
    "train = utils.csv.read(\"../data/features_train_no-dummies.csv\").dropna()\n",
    "test = utils.csv.read(\"../data/features_test_no-dummies.csv\")\n",
    "X_train = train.drop([\"TARGET\", \"id_loan\"], axis=1)\n",
    "X_test = test.drop([\"id_loan\"], axis=1)\n",
    "y_train = train[\"TARGET\"]\n",
    "\n",
    "# model training\n",
    "params = params = utils.json.load(f\"../out/grid-search/causal-selection_ges-logistic-regression.json\")[\"params\"][\"best\"]\n",
    "model = models.CausalSelection(**params.get(\"init\", {}))\n",
    "model.pipeline.fit(X_train, y_train, **params.get(\"fit\", {}))\n",
    "train_score = model.pipeline.evaluate(y_train, model.pipeline.predict(X_train), **params.get(\"predict\", {}))\n",
    "print(f\"[causal-selection] train score:    {train_score:.4f}\")\n",
    "model.pipeline.generate_plots(filepath=f\"../cache/dag.png\", figsize=(12, 8), title=\"ges-logistic-regression\", show=True);"
   ]
  },
  {
   "cell_type": "markdown",
   "id": "a0256337-1846-4821-b48d-05217395625d",
   "metadata": {},
   "source": [
    "We selected the optimal hyperparameter based on the grid search results to train our models. After model training, we predict the credit default for the test data and extract training statistics, DAGs, Markov blankets and selected features. The model training results are stored in the `out/` directory and are visualized in the appendix (`appendix/model-evaluation.ipynb`)."
   ]
  },
  {
   "cell_type": "markdown",
   "id": "8cf4cf50-3bb7-4fa2-b9e2-e8db2187f6f4",
   "metadata": {},
   "source": [
    "<center>\n",
    "<figure>\n",
    "    <table>\n",
    "    <tr>\n",
    "        <td style=\"background:white;\"><img src=\"out/img/dag_causal-selection_pc-boosting.png\" alt=\"pc-boosting\") style=height:25%></td>\n",
    "        <td style=\"background:white;\"><img src=\"out/img/dag_causal-selection_pc-decision-tree.png\" alt=\"pc-decision-tree\") style=height:25%></td>\n",
    "        <td style=\"background:white;\"><img src=\"out/img/dag_causal-selection_pc-logistic-regression.png\" alt=\"pc-logistic-regression\") style=height:25%></td>\n",
    "    </tr>\n",
    "    <tr>\n",
    "        <td style=\"background:white;\"><img src=\"out/img/dag_causal-selection_ges-boosting.png\" alt=\"ges-boosting\") style=height:25%></td>\n",
    "        <td style=\"background:white;\"><img src=\"out/img/dag_causal-selection_ges-decision-tree.png\" alt=\"ges-decision-tree\") style=height:25%></td>\n",
    "        <td style=\"background:white;\"><img src=\"out/img/dag_causal-selection_ges-logistic-regression.png\" alt=\"ges-logistic-regression\") style=height:25%></td>\n",
    "    </tr>\n",
    "    <tr>\n",
    "        <td style=\"background:white;\"><img src=\"out/img/dag_causal-selection_lingam-boosting.png\" alt=\"lingam-boosting\") style=height:25%></td>\n",
    "        <td style=\"background:white;\"><img src=\"out/img/dag_causal-selection_lingam-decision-tree.png\" alt=\"lingam-decision-tree\") style=height:25%></td>\n",
    "        <td style=\"background:white;\"><img src=\"out/img/dag_causal-selection_lingam-logistic-regression.png\" alt=\"lingam-logistic-regression\") style=height:25%></td>\n",
    "    </tr>\n",
    "    <tr>\n",
    "        <td style=\"background:white;\"><img src=\"out/img/dag_causal-selection_notears-boosting.png\" alt=\"notears-boosting\") style=height:25%></td>\n",
    "        <td style=\"background:white;\"><img src=\"out/img/dag_causal-selection_notears-decision-tree.png\" alt=\"notears-decision-tree\") style=height:25%></td>\n",
    "        <td style=\"background:white;\"><img src=\"out/img/dag_causal-selection_notears-logistic-regression.png\" alt=\"notears-logistic-regression\") style=height:25%></td>\n",
    "    </tr>\n",
    "    <tr>\n",
    "        <td style=\"background:white;\"><img src=\"out/img/dag_castle.png\" alt=\"castle\") style=height:25%></td>\n",
    "        <td style=\"background:white;\"></td>\n",
    "        <td style=\"background:white;\"></td>\n",
    "    </tr>\n",
    "    </table>\n",
    "    <figcaption align = \"left\"><b>Figure 4.4:</b> DAGs generated during Model Training.</figcaption>\n",
    "</figure>\n",
    "</center>"
   ]
  },
  {
   "cell_type": "markdown",
   "id": "fdcaa73b-5353-4b1c-9072-3b4cab7b796c",
   "metadata": {},
   "source": [
    "<center>\n",
    "<figure>\n",
    "    <img src=\"out/img/markov-blankets.png\" alt=\"Figure 4.5: Markov Blankets and Selected Features after Causal Discovery.\") style=height:100%>\n",
    "    <figcaption align = \"left\"><b>Figure 4.5:</b> Markov Blankets and Selected Features after Causal Discovery.</figcaption>\n",
    "</figure>\n",
    "</center>"
   ]
  },
  {
   "cell_type": "markdown",
   "id": "a0173505-6b51-46a5-bedd-fe7b18bbad18",
   "metadata": {},
   "source": [
    "We performed the grid search and model training for all models and aggregated the results to be able to compare our models in our three dimensions, i.e., predictive performance, interpretability and required resources."
   ]
  },
  {
   "cell_type": "code",
   "execution_count": 7,
   "id": "7290f62e-0f93-4351-9424-89bc281c83e0",
   "metadata": {},
   "outputs": [
    {
     "name": "stdout",
     "output_type": "stream",
     "text": [
      "Table 4.1: Statistics recorded during Model Training.\n"
     ]
    },
    {
     "data": {
      "text/html": [
       "<div>\n",
       "<style scoped>\n",
       "    .dataframe tbody tr th:only-of-type {\n",
       "        vertical-align: middle;\n",
       "    }\n",
       "\n",
       "    .dataframe tbody tr th {\n",
       "        vertical-align: top;\n",
       "    }\n",
       "\n",
       "    .dataframe thead th {\n",
       "        text-align: right;\n",
       "    }\n",
       "</style>\n",
       "<table border=\"1\" class=\"dataframe\">\n",
       "  <thead>\n",
       "    <tr style=\"text-align: right;\">\n",
       "      <th></th>\n",
       "      <th>train_score</th>\n",
       "      <th>h_value</th>\n",
       "      <th>time</th>\n",
       "      <th>time_selection</th>\n",
       "      <th>time_causal</th>\n",
       "      <th>time_predictive</th>\n",
       "      <th>time_sec</th>\n",
       "      <th>time_selection_sec</th>\n",
       "      <th>time_causal_sec</th>\n",
       "      <th>time_predictive_sec</th>\n",
       "      <th>X_train_shapes</th>\n",
       "      <th>y_train_shapes</th>\n",
       "      <th>X_train_shapes_selection</th>\n",
       "      <th>y_train_shapes_selection</th>\n",
       "      <th>X_train_shapes_causal</th>\n",
       "      <th>y_train_shapes_causal</th>\n",
       "      <th>X_train_shapes_predictive</th>\n",
       "      <th>y_train_shapes_predictive</th>\n",
       "      <th>n_features</th>\n",
       "    </tr>\n",
       "  </thead>\n",
       "  <tbody>\n",
       "    <tr>\n",
       "      <th>0</th>\n",
       "      <td>0.906</td>\n",
       "      <td>-</td>\n",
       "      <td>00:12</td>\n",
       "      <td>-</td>\n",
       "      <td>-</td>\n",
       "      <td>-</td>\n",
       "      <td>12.306</td>\n",
       "      <td>-</td>\n",
       "      <td>-</td>\n",
       "      <td>-</td>\n",
       "      <td>[123823, 27]</td>\n",
       "      <td>[123823]</td>\n",
       "      <td>-</td>\n",
       "      <td>-</td>\n",
       "      <td>-</td>\n",
       "      <td>-</td>\n",
       "      <td>-</td>\n",
       "      <td>-</td>\n",
       "      <td>27.0</td>\n",
       "    </tr>\n",
       "    <tr>\n",
       "      <th>1</th>\n",
       "      <td>0.736</td>\n",
       "      <td>-</td>\n",
       "      <td>00:00</td>\n",
       "      <td>-</td>\n",
       "      <td>-</td>\n",
       "      <td>-</td>\n",
       "      <td>0.035</td>\n",
       "      <td>-</td>\n",
       "      <td>-</td>\n",
       "      <td>-</td>\n",
       "      <td>[123823, 27]</td>\n",
       "      <td>[123823]</td>\n",
       "      <td>-</td>\n",
       "      <td>-</td>\n",
       "      <td>-</td>\n",
       "      <td>-</td>\n",
       "      <td>-</td>\n",
       "      <td>-</td>\n",
       "      <td>27.0</td>\n",
       "    </tr>\n",
       "    <tr>\n",
       "      <th>2</th>\n",
       "      <td>0.878</td>\n",
       "      <td>-</td>\n",
       "      <td>00:02</td>\n",
       "      <td>-</td>\n",
       "      <td>-</td>\n",
       "      <td>-</td>\n",
       "      <td>2.360</td>\n",
       "      <td>-</td>\n",
       "      <td>-</td>\n",
       "      <td>-</td>\n",
       "      <td>[123823, 27]</td>\n",
       "      <td>[123823]</td>\n",
       "      <td>-</td>\n",
       "      <td>-</td>\n",
       "      <td>-</td>\n",
       "      <td>-</td>\n",
       "      <td>-</td>\n",
       "      <td>-</td>\n",
       "      <td>27.0</td>\n",
       "    </tr>\n",
       "    <tr>\n",
       "      <th>3</th>\n",
       "      <td>0.906</td>\n",
       "      <td>-</td>\n",
       "      <td>00:12</td>\n",
       "      <td>-</td>\n",
       "      <td>-</td>\n",
       "      <td>00:12</td>\n",
       "      <td>12.230</td>\n",
       "      <td>-</td>\n",
       "      <td>-</td>\n",
       "      <td>12.054</td>\n",
       "      <td>-</td>\n",
       "      <td>-</td>\n",
       "      <td>[123823, 27]</td>\n",
       "      <td>[123823]</td>\n",
       "      <td>-</td>\n",
       "      <td>-</td>\n",
       "      <td>[123823, 27]</td>\n",
       "      <td>[123823]</td>\n",
       "      <td>27.0</td>\n",
       "    </tr>\n",
       "    <tr>\n",
       "      <th>4</th>\n",
       "      <td>0.875</td>\n",
       "      <td>-</td>\n",
       "      <td>00:00</td>\n",
       "      <td>-</td>\n",
       "      <td>-</td>\n",
       "      <td>00:00</td>\n",
       "      <td>0.435</td>\n",
       "      <td>-</td>\n",
       "      <td>-</td>\n",
       "      <td>0.256</td>\n",
       "      <td>-</td>\n",
       "      <td>-</td>\n",
       "      <td>[123823, 27]</td>\n",
       "      <td>[123823]</td>\n",
       "      <td>-</td>\n",
       "      <td>-</td>\n",
       "      <td>[123823, 27]</td>\n",
       "      <td>[123823]</td>\n",
       "      <td>27.0</td>\n",
       "    </tr>\n",
       "    <tr>\n",
       "      <th>5</th>\n",
       "      <td>0.879</td>\n",
       "      <td>-</td>\n",
       "      <td>00:01</td>\n",
       "      <td>-</td>\n",
       "      <td>-</td>\n",
       "      <td>00:01</td>\n",
       "      <td>1.519</td>\n",
       "      <td>-</td>\n",
       "      <td>-</td>\n",
       "      <td>1.347</td>\n",
       "      <td>-</td>\n",
       "      <td>-</td>\n",
       "      <td>[123823, 27]</td>\n",
       "      <td>[123823]</td>\n",
       "      <td>-</td>\n",
       "      <td>-</td>\n",
       "      <td>[123823, 27]</td>\n",
       "      <td>[123823]</td>\n",
       "      <td>27.0</td>\n",
       "    </tr>\n",
       "    <tr>\n",
       "      <th>6</th>\n",
       "      <td>0.711</td>\n",
       "      <td>-</td>\n",
       "      <td>00:01</td>\n",
       "      <td>-</td>\n",
       "      <td>-</td>\n",
       "      <td>00:01</td>\n",
       "      <td>1.850</td>\n",
       "      <td>-</td>\n",
       "      <td>-</td>\n",
       "      <td>1.749</td>\n",
       "      <td>-</td>\n",
       "      <td>-</td>\n",
       "      <td>[123823, 27]</td>\n",
       "      <td>[123823]</td>\n",
       "      <td>-</td>\n",
       "      <td>-</td>\n",
       "      <td>[123823, 11]</td>\n",
       "      <td>[123823]</td>\n",
       "      <td>11.0</td>\n",
       "    </tr>\n",
       "    <tr>\n",
       "      <th>7</th>\n",
       "      <td>0.654</td>\n",
       "      <td>-</td>\n",
       "      <td>00:00</td>\n",
       "      <td>-</td>\n",
       "      <td>-</td>\n",
       "      <td>00:00</td>\n",
       "      <td>0.142</td>\n",
       "      <td>-</td>\n",
       "      <td>-</td>\n",
       "      <td>0.034</td>\n",
       "      <td>-</td>\n",
       "      <td>-</td>\n",
       "      <td>[123823, 27]</td>\n",
       "      <td>[123823]</td>\n",
       "      <td>-</td>\n",
       "      <td>-</td>\n",
       "      <td>[123823, 11]</td>\n",
       "      <td>[123823]</td>\n",
       "      <td>11.0</td>\n",
       "    </tr>\n",
       "    <tr>\n",
       "      <th>8</th>\n",
       "      <td>0.639</td>\n",
       "      <td>-</td>\n",
       "      <td>00:00</td>\n",
       "      <td>-</td>\n",
       "      <td>-</td>\n",
       "      <td>00:00</td>\n",
       "      <td>0.607</td>\n",
       "      <td>-</td>\n",
       "      <td>-</td>\n",
       "      <td>0.462</td>\n",
       "      <td>-</td>\n",
       "      <td>-</td>\n",
       "      <td>[123823, 27]</td>\n",
       "      <td>[123823]</td>\n",
       "      <td>-</td>\n",
       "      <td>-</td>\n",
       "      <td>[123823, 11]</td>\n",
       "      <td>[123823]</td>\n",
       "      <td>11.0</td>\n",
       "    </tr>\n",
       "    <tr>\n",
       "      <th>9</th>\n",
       "      <td>0.773</td>\n",
       "      <td>-</td>\n",
       "      <td>08:13</td>\n",
       "      <td>-</td>\n",
       "      <td>-</td>\n",
       "      <td>00:02</td>\n",
       "      <td>493.925</td>\n",
       "      <td>-</td>\n",
       "      <td>-</td>\n",
       "      <td>2.894</td>\n",
       "      <td>-</td>\n",
       "      <td>-</td>\n",
       "      <td>[123823, 27]</td>\n",
       "      <td>[123823]</td>\n",
       "      <td>-</td>\n",
       "      <td>-</td>\n",
       "      <td>[123823, 1]</td>\n",
       "      <td>[123823]</td>\n",
       "      <td>1.0</td>\n",
       "    </tr>\n",
       "    <tr>\n",
       "      <th>10</th>\n",
       "      <td>0.553</td>\n",
       "      <td>-</td>\n",
       "      <td>00:20</td>\n",
       "      <td>-</td>\n",
       "      <td>-</td>\n",
       "      <td>00:00</td>\n",
       "      <td>20.569</td>\n",
       "      <td>-</td>\n",
       "      <td>-</td>\n",
       "      <td>0.024</td>\n",
       "      <td>-</td>\n",
       "      <td>-</td>\n",
       "      <td>[123823, 27]</td>\n",
       "      <td>[123823]</td>\n",
       "      <td>-</td>\n",
       "      <td>-</td>\n",
       "      <td>[123823, 1]</td>\n",
       "      <td>[123823]</td>\n",
       "      <td>1.0</td>\n",
       "    </tr>\n",
       "    <tr>\n",
       "      <th>11</th>\n",
       "      <td>0.877</td>\n",
       "      <td>-</td>\n",
       "      <td>00:09</td>\n",
       "      <td>-</td>\n",
       "      <td>-</td>\n",
       "      <td>00:00</td>\n",
       "      <td>9.500</td>\n",
       "      <td>-</td>\n",
       "      <td>-</td>\n",
       "      <td>0.657</td>\n",
       "      <td>-</td>\n",
       "      <td>-</td>\n",
       "      <td>[123823, 27]</td>\n",
       "      <td>[123823]</td>\n",
       "      <td>-</td>\n",
       "      <td>-</td>\n",
       "      <td>[123823, 16]</td>\n",
       "      <td>[123823]</td>\n",
       "      <td>16.0</td>\n",
       "    </tr>\n",
       "    <tr>\n",
       "      <th>12</th>\n",
       "      <td>0.845</td>\n",
       "      <td>-</td>\n",
       "      <td>28:16</td>\n",
       "      <td>-</td>\n",
       "      <td>-</td>\n",
       "      <td>00:03</td>\n",
       "      <td>1696.138</td>\n",
       "      <td>-</td>\n",
       "      <td>-</td>\n",
       "      <td>3.817</td>\n",
       "      <td>-</td>\n",
       "      <td>-</td>\n",
       "      <td>[123823, 27]</td>\n",
       "      <td>[123823]</td>\n",
       "      <td>-</td>\n",
       "      <td>-</td>\n",
       "      <td>[123823, 6]</td>\n",
       "      <td>[123823]</td>\n",
       "      <td>6.0</td>\n",
       "    </tr>\n",
       "    <tr>\n",
       "      <th>13</th>\n",
       "      <td>0.760</td>\n",
       "      <td>-</td>\n",
       "      <td>01:16</td>\n",
       "      <td>-</td>\n",
       "      <td>-</td>\n",
       "      <td>00:00</td>\n",
       "      <td>76.238</td>\n",
       "      <td>-</td>\n",
       "      <td>-</td>\n",
       "      <td>0.028</td>\n",
       "      <td>-</td>\n",
       "      <td>-</td>\n",
       "      <td>[123823, 27]</td>\n",
       "      <td>[123823]</td>\n",
       "      <td>-</td>\n",
       "      <td>-</td>\n",
       "      <td>[123823, 2]</td>\n",
       "      <td>[123823]</td>\n",
       "      <td>2.0</td>\n",
       "    </tr>\n",
       "    <tr>\n",
       "      <th>14</th>\n",
       "      <td>0.872</td>\n",
       "      <td>-</td>\n",
       "      <td>01:30</td>\n",
       "      <td>-</td>\n",
       "      <td>-</td>\n",
       "      <td>00:00</td>\n",
       "      <td>90.300</td>\n",
       "      <td>-</td>\n",
       "      <td>-</td>\n",
       "      <td>0.457</td>\n",
       "      <td>-</td>\n",
       "      <td>-</td>\n",
       "      <td>[123823, 27]</td>\n",
       "      <td>[123823]</td>\n",
       "      <td>-</td>\n",
       "      <td>-</td>\n",
       "      <td>[123823, 16]</td>\n",
       "      <td>[123823]</td>\n",
       "      <td>16.0</td>\n",
       "    </tr>\n",
       "    <tr>\n",
       "      <th>15</th>\n",
       "      <td>0.905</td>\n",
       "      <td>22.615</td>\n",
       "      <td>10:22</td>\n",
       "      <td>-</td>\n",
       "      <td>10:10</td>\n",
       "      <td>00:12</td>\n",
       "      <td>622.683</td>\n",
       "      <td>-</td>\n",
       "      <td>610.482</td>\n",
       "      <td>12.091</td>\n",
       "      <td>-</td>\n",
       "      <td>-</td>\n",
       "      <td>-</td>\n",
       "      <td>-</td>\n",
       "      <td>[79285, 27]</td>\n",
       "      <td>[79285, 1]</td>\n",
       "      <td>[123823, 21]</td>\n",
       "      <td>[123823]</td>\n",
       "      <td>21.0</td>\n",
       "    </tr>\n",
       "    <tr>\n",
       "      <th>16</th>\n",
       "      <td>0.674</td>\n",
       "      <td>6.634</td>\n",
       "      <td>04:25</td>\n",
       "      <td>-</td>\n",
       "      <td>04:25</td>\n",
       "      <td>00:00</td>\n",
       "      <td>265.390</td>\n",
       "      <td>-</td>\n",
       "      <td>265.296</td>\n",
       "      <td>0.044</td>\n",
       "      <td>-</td>\n",
       "      <td>-</td>\n",
       "      <td>-</td>\n",
       "      <td>-</td>\n",
       "      <td>[20410, 27]</td>\n",
       "      <td>[20410, 1]</td>\n",
       "      <td>[123823, 19]</td>\n",
       "      <td>[123823]</td>\n",
       "      <td>19.0</td>\n",
       "    </tr>\n",
       "    <tr>\n",
       "      <th>17</th>\n",
       "      <td>0.877</td>\n",
       "      <td>6.334</td>\n",
       "      <td>00:26</td>\n",
       "      <td>-</td>\n",
       "      <td>00:25</td>\n",
       "      <td>00:00</td>\n",
       "      <td>26.413</td>\n",
       "      <td>-</td>\n",
       "      <td>25.39</td>\n",
       "      <td>0.986</td>\n",
       "      <td>-</td>\n",
       "      <td>-</td>\n",
       "      <td>-</td>\n",
       "      <td>-</td>\n",
       "      <td>[8635, 27]</td>\n",
       "      <td>[8635, 1]</td>\n",
       "      <td>[123823, 17]</td>\n",
       "      <td>[123823]</td>\n",
       "      <td>17.0</td>\n",
       "    </tr>\n",
       "    <tr>\n",
       "      <th>18</th>\n",
       "      <td>0.894</td>\n",
       "      <td>1.086</td>\n",
       "      <td>00:13</td>\n",
       "      <td>-</td>\n",
       "      <td>00:04</td>\n",
       "      <td>00:08</td>\n",
       "      <td>13.021</td>\n",
       "      <td>-</td>\n",
       "      <td>4.343</td>\n",
       "      <td>8.671</td>\n",
       "      <td>-</td>\n",
       "      <td>-</td>\n",
       "      <td>-</td>\n",
       "      <td>-</td>\n",
       "      <td>[123823, 27]</td>\n",
       "      <td>[123823, 1]</td>\n",
       "      <td>[123823, 12]</td>\n",
       "      <td>[123823]</td>\n",
       "      <td>12.0</td>\n",
       "    </tr>\n",
       "    <tr>\n",
       "      <th>19</th>\n",
       "      <td>0.777</td>\n",
       "      <td>1.086</td>\n",
       "      <td>00:04</td>\n",
       "      <td>-</td>\n",
       "      <td>00:04</td>\n",
       "      <td>00:00</td>\n",
       "      <td>4.372</td>\n",
       "      <td>-</td>\n",
       "      <td>4.332</td>\n",
       "      <td>0.032</td>\n",
       "      <td>-</td>\n",
       "      <td>-</td>\n",
       "      <td>-</td>\n",
       "      <td>-</td>\n",
       "      <td>[123823, 27]</td>\n",
       "      <td>[123823, 1]</td>\n",
       "      <td>[123823, 12]</td>\n",
       "      <td>[123823]</td>\n",
       "      <td>12.0</td>\n",
       "    </tr>\n",
       "    <tr>\n",
       "      <th>20</th>\n",
       "      <td>0.874</td>\n",
       "      <td>1.086</td>\n",
       "      <td>00:04</td>\n",
       "      <td>-</td>\n",
       "      <td>00:04</td>\n",
       "      <td>00:00</td>\n",
       "      <td>4.918</td>\n",
       "      <td>-</td>\n",
       "      <td>4.361</td>\n",
       "      <td>0.549</td>\n",
       "      <td>-</td>\n",
       "      <td>-</td>\n",
       "      <td>-</td>\n",
       "      <td>-</td>\n",
       "      <td>[123823, 27]</td>\n",
       "      <td>[123823, 1]</td>\n",
       "      <td>[123823, 12]</td>\n",
       "      <td>[123823]</td>\n",
       "      <td>12.0</td>\n",
       "    </tr>\n",
       "    <tr>\n",
       "      <th>21</th>\n",
       "      <td>0.906</td>\n",
       "      <td>-0.0</td>\n",
       "      <td>02:10</td>\n",
       "      <td>-</td>\n",
       "      <td>01:58</td>\n",
       "      <td>00:11</td>\n",
       "      <td>130.276</td>\n",
       "      <td>-</td>\n",
       "      <td>118.339</td>\n",
       "      <td>11.928</td>\n",
       "      <td>-</td>\n",
       "      <td>-</td>\n",
       "      <td>-</td>\n",
       "      <td>-</td>\n",
       "      <td>[123823, 27]</td>\n",
       "      <td>[123823, 1]</td>\n",
       "      <td>[123823, 21]</td>\n",
       "      <td>[123823]</td>\n",
       "      <td>21.0</td>\n",
       "    </tr>\n",
       "    <tr>\n",
       "      <th>22</th>\n",
       "      <td>0.777</td>\n",
       "      <td>0.0</td>\n",
       "      <td>02:01</td>\n",
       "      <td>-</td>\n",
       "      <td>02:01</td>\n",
       "      <td>00:00</td>\n",
       "      <td>121.057</td>\n",
       "      <td>-</td>\n",
       "      <td>121.012</td>\n",
       "      <td>0.04</td>\n",
       "      <td>-</td>\n",
       "      <td>-</td>\n",
       "      <td>-</td>\n",
       "      <td>-</td>\n",
       "      <td>[123823, 27]</td>\n",
       "      <td>[123823, 1]</td>\n",
       "      <td>[123823, 2]</td>\n",
       "      <td>[123823]</td>\n",
       "      <td>2.0</td>\n",
       "    </tr>\n",
       "    <tr>\n",
       "      <th>23</th>\n",
       "      <td>0.877</td>\n",
       "      <td>0.0</td>\n",
       "      <td>02:01</td>\n",
       "      <td>-</td>\n",
       "      <td>01:59</td>\n",
       "      <td>00:01</td>\n",
       "      <td>121.067</td>\n",
       "      <td>-</td>\n",
       "      <td>119.932</td>\n",
       "      <td>1.13</td>\n",
       "      <td>-</td>\n",
       "      <td>-</td>\n",
       "      <td>-</td>\n",
       "      <td>-</td>\n",
       "      <td>[123823, 27]</td>\n",
       "      <td>[123823, 1]</td>\n",
       "      <td>[123823, 19]</td>\n",
       "      <td>[123823]</td>\n",
       "      <td>19.0</td>\n",
       "    </tr>\n",
       "    <tr>\n",
       "      <th>24</th>\n",
       "      <td>0.876</td>\n",
       "      <td>0.0</td>\n",
       "      <td>00:10</td>\n",
       "      <td>-</td>\n",
       "      <td>00:06</td>\n",
       "      <td>00:04</td>\n",
       "      <td>10.514</td>\n",
       "      <td>-</td>\n",
       "      <td>6.052</td>\n",
       "      <td>4.432</td>\n",
       "      <td>-</td>\n",
       "      <td>-</td>\n",
       "      <td>-</td>\n",
       "      <td>-</td>\n",
       "      <td>[3401, 27]</td>\n",
       "      <td>[3401, 1]</td>\n",
       "      <td>[123823, 5]</td>\n",
       "      <td>[123823]</td>\n",
       "      <td>5.0</td>\n",
       "    </tr>\n",
       "    <tr>\n",
       "      <th>25</th>\n",
       "      <td>0.795</td>\n",
       "      <td>0.0</td>\n",
       "      <td>00:05</td>\n",
       "      <td>-</td>\n",
       "      <td>00:05</td>\n",
       "      <td>00:00</td>\n",
       "      <td>5.937</td>\n",
       "      <td>-</td>\n",
       "      <td>5.855</td>\n",
       "      <td>0.055</td>\n",
       "      <td>-</td>\n",
       "      <td>-</td>\n",
       "      <td>-</td>\n",
       "      <td>-</td>\n",
       "      <td>[3401, 27]</td>\n",
       "      <td>[3401, 1]</td>\n",
       "      <td>[123823, 5]</td>\n",
       "      <td>[123823]</td>\n",
       "      <td>5.0</td>\n",
       "    </tr>\n",
       "    <tr>\n",
       "      <th>26</th>\n",
       "      <td>0.846</td>\n",
       "      <td>0.0</td>\n",
       "      <td>00:06</td>\n",
       "      <td>-</td>\n",
       "      <td>00:05</td>\n",
       "      <td>00:00</td>\n",
       "      <td>6.262</td>\n",
       "      <td>-</td>\n",
       "      <td>5.871</td>\n",
       "      <td>0.363</td>\n",
       "      <td>-</td>\n",
       "      <td>-</td>\n",
       "      <td>-</td>\n",
       "      <td>-</td>\n",
       "      <td>[3401, 27]</td>\n",
       "      <td>[3401, 1]</td>\n",
       "      <td>[123823, 5]</td>\n",
       "      <td>[123823]</td>\n",
       "      <td>5.0</td>\n",
       "    </tr>\n",
       "    <tr>\n",
       "      <th>27</th>\n",
       "      <td>0.868</td>\n",
       "      <td>0.046</td>\n",
       "      <td>00:23</td>\n",
       "      <td>-</td>\n",
       "      <td>-</td>\n",
       "      <td>-</td>\n",
       "      <td>23.269</td>\n",
       "      <td>-</td>\n",
       "      <td>-</td>\n",
       "      <td>-</td>\n",
       "      <td>[2544, 27]</td>\n",
       "      <td>[2544, 1]</td>\n",
       "      <td>-</td>\n",
       "      <td>-</td>\n",
       "      <td>-</td>\n",
       "      <td>-</td>\n",
       "      <td>-</td>\n",
       "      <td>-</td>\n",
       "      <td>27.0</td>\n",
       "    </tr>\n",
       "  </tbody>\n",
       "</table>\n",
       "</div>"
      ],
      "text/plain": [
       "    train_score h_value   time time_selection time_causal time_predictive  \\\n",
       "0         0.906       -  00:12              -           -               -   \n",
       "1         0.736       -  00:00              -           -               -   \n",
       "2         0.878       -  00:02              -           -               -   \n",
       "3         0.906       -  00:12              -           -           00:12   \n",
       "4         0.875       -  00:00              -           -           00:00   \n",
       "5         0.879       -  00:01              -           -           00:01   \n",
       "6         0.711       -  00:01              -           -           00:01   \n",
       "7         0.654       -  00:00              -           -           00:00   \n",
       "8         0.639       -  00:00              -           -           00:00   \n",
       "9         0.773       -  08:13              -           -           00:02   \n",
       "10        0.553       -  00:20              -           -           00:00   \n",
       "11        0.877       -  00:09              -           -           00:00   \n",
       "12        0.845       -  28:16              -           -           00:03   \n",
       "13        0.760       -  01:16              -           -           00:00   \n",
       "14        0.872       -  01:30              -           -           00:00   \n",
       "15        0.905  22.615  10:22              -       10:10           00:12   \n",
       "16        0.674   6.634  04:25              -       04:25           00:00   \n",
       "17        0.877   6.334  00:26              -       00:25           00:00   \n",
       "18        0.894   1.086  00:13              -       00:04           00:08   \n",
       "19        0.777   1.086  00:04              -       00:04           00:00   \n",
       "20        0.874   1.086  00:04              -       00:04           00:00   \n",
       "21        0.906    -0.0  02:10              -       01:58           00:11   \n",
       "22        0.777     0.0  02:01              -       02:01           00:00   \n",
       "23        0.877     0.0  02:01              -       01:59           00:01   \n",
       "24        0.876     0.0  00:10              -       00:06           00:04   \n",
       "25        0.795     0.0  00:05              -       00:05           00:00   \n",
       "26        0.846     0.0  00:06              -       00:05           00:00   \n",
       "27        0.868   0.046  00:23              -           -               -   \n",
       "\n",
       "    time_sec time_selection_sec time_causal_sec time_predictive_sec  \\\n",
       "0     12.306                  -               -                   -   \n",
       "1      0.035                  -               -                   -   \n",
       "2      2.360                  -               -                   -   \n",
       "3     12.230                  -               -              12.054   \n",
       "4      0.435                  -               -               0.256   \n",
       "5      1.519                  -               -               1.347   \n",
       "6      1.850                  -               -               1.749   \n",
       "7      0.142                  -               -               0.034   \n",
       "8      0.607                  -               -               0.462   \n",
       "9    493.925                  -               -               2.894   \n",
       "10    20.569                  -               -               0.024   \n",
       "11     9.500                  -               -               0.657   \n",
       "12  1696.138                  -               -               3.817   \n",
       "13    76.238                  -               -               0.028   \n",
       "14    90.300                  -               -               0.457   \n",
       "15   622.683                  -         610.482              12.091   \n",
       "16   265.390                  -         265.296               0.044   \n",
       "17    26.413                  -           25.39               0.986   \n",
       "18    13.021                  -           4.343               8.671   \n",
       "19     4.372                  -           4.332               0.032   \n",
       "20     4.918                  -           4.361               0.549   \n",
       "21   130.276                  -         118.339              11.928   \n",
       "22   121.057                  -         121.012                0.04   \n",
       "23   121.067                  -         119.932                1.13   \n",
       "24    10.514                  -           6.052               4.432   \n",
       "25     5.937                  -           5.855               0.055   \n",
       "26     6.262                  -           5.871               0.363   \n",
       "27    23.269                  -               -                   -   \n",
       "\n",
       "   X_train_shapes y_train_shapes X_train_shapes_selection  \\\n",
       "0    [123823, 27]       [123823]                        -   \n",
       "1    [123823, 27]       [123823]                        -   \n",
       "2    [123823, 27]       [123823]                        -   \n",
       "3               -              -             [123823, 27]   \n",
       "4               -              -             [123823, 27]   \n",
       "5               -              -             [123823, 27]   \n",
       "6               -              -             [123823, 27]   \n",
       "7               -              -             [123823, 27]   \n",
       "8               -              -             [123823, 27]   \n",
       "9               -              -             [123823, 27]   \n",
       "10              -              -             [123823, 27]   \n",
       "11              -              -             [123823, 27]   \n",
       "12              -              -             [123823, 27]   \n",
       "13              -              -             [123823, 27]   \n",
       "14              -              -             [123823, 27]   \n",
       "15              -              -                        -   \n",
       "16              -              -                        -   \n",
       "17              -              -                        -   \n",
       "18              -              -                        -   \n",
       "19              -              -                        -   \n",
       "20              -              -                        -   \n",
       "21              -              -                        -   \n",
       "22              -              -                        -   \n",
       "23              -              -                        -   \n",
       "24              -              -                        -   \n",
       "25              -              -                        -   \n",
       "26              -              -                        -   \n",
       "27     [2544, 27]      [2544, 1]                        -   \n",
       "\n",
       "   y_train_shapes_selection X_train_shapes_causal y_train_shapes_causal  \\\n",
       "0                         -                     -                     -   \n",
       "1                         -                     -                     -   \n",
       "2                         -                     -                     -   \n",
       "3                  [123823]                     -                     -   \n",
       "4                  [123823]                     -                     -   \n",
       "5                  [123823]                     -                     -   \n",
       "6                  [123823]                     -                     -   \n",
       "7                  [123823]                     -                     -   \n",
       "8                  [123823]                     -                     -   \n",
       "9                  [123823]                     -                     -   \n",
       "10                 [123823]                     -                     -   \n",
       "11                 [123823]                     -                     -   \n",
       "12                 [123823]                     -                     -   \n",
       "13                 [123823]                     -                     -   \n",
       "14                 [123823]                     -                     -   \n",
       "15                        -           [79285, 27]            [79285, 1]   \n",
       "16                        -           [20410, 27]            [20410, 1]   \n",
       "17                        -            [8635, 27]             [8635, 1]   \n",
       "18                        -          [123823, 27]           [123823, 1]   \n",
       "19                        -          [123823, 27]           [123823, 1]   \n",
       "20                        -          [123823, 27]           [123823, 1]   \n",
       "21                        -          [123823, 27]           [123823, 1]   \n",
       "22                        -          [123823, 27]           [123823, 1]   \n",
       "23                        -          [123823, 27]           [123823, 1]   \n",
       "24                        -            [3401, 27]             [3401, 1]   \n",
       "25                        -            [3401, 27]             [3401, 1]   \n",
       "26                        -            [3401, 27]             [3401, 1]   \n",
       "27                        -                     -                     -   \n",
       "\n",
       "   X_train_shapes_predictive y_train_shapes_predictive  n_features  \n",
       "0                          -                         -        27.0  \n",
       "1                          -                         -        27.0  \n",
       "2                          -                         -        27.0  \n",
       "3               [123823, 27]                  [123823]        27.0  \n",
       "4               [123823, 27]                  [123823]        27.0  \n",
       "5               [123823, 27]                  [123823]        27.0  \n",
       "6               [123823, 11]                  [123823]        11.0  \n",
       "7               [123823, 11]                  [123823]        11.0  \n",
       "8               [123823, 11]                  [123823]        11.0  \n",
       "9                [123823, 1]                  [123823]         1.0  \n",
       "10               [123823, 1]                  [123823]         1.0  \n",
       "11              [123823, 16]                  [123823]        16.0  \n",
       "12               [123823, 6]                  [123823]         6.0  \n",
       "13               [123823, 2]                  [123823]         2.0  \n",
       "14              [123823, 16]                  [123823]        16.0  \n",
       "15              [123823, 21]                  [123823]        21.0  \n",
       "16              [123823, 19]                  [123823]        19.0  \n",
       "17              [123823, 17]                  [123823]        17.0  \n",
       "18              [123823, 12]                  [123823]        12.0  \n",
       "19              [123823, 12]                  [123823]        12.0  \n",
       "20              [123823, 12]                  [123823]        12.0  \n",
       "21              [123823, 21]                  [123823]        21.0  \n",
       "22               [123823, 2]                  [123823]         2.0  \n",
       "23              [123823, 19]                  [123823]        19.0  \n",
       "24               [123823, 5]                  [123823]         5.0  \n",
       "25               [123823, 5]                  [123823]         5.0  \n",
       "26               [123823, 5]                  [123823]         5.0  \n",
       "27                         -                         -        27.0  "
      ]
     },
     "execution_count": 7,
     "metadata": {},
     "output_type": "execute_result"
    }
   ],
   "source": [
    "# training statistics\n",
    "print(\"Table 4.1: Statistics recorded during Model Training.\")\n",
    "utils.csv.read(\"../out/training-stats/stats.csv\").round(3).fillna(\"-\")"
   ]
  },
  {
   "cell_type": "markdown",
   "id": "0029f1ed-d956-42e7-9620-368d1013da8f",
   "metadata": {},
   "source": [
    "The performance on the Kaggle test dataset can be observed in the Table 4.2."
   ]
  },
  {
   "cell_type": "markdown",
   "id": "e545f8ea-755c-4a0b-a628-1f65fc48e2fd",
   "metadata": {},
   "source": [
    "<center>\n",
    "<figure>\n",
    "    \n",
    "<table>\n",
    "    <thead>\n",
    "        <tr>\n",
    "            <td><b>Model Name</b></td>\n",
    "            <td><b>Testing AUC</b></td>\n",
    "            <td><b>KAGGLE</b></td>\n",
    "        </tr>\n",
    "    </thead>\n",
    "    <tbody>\n",
    "        <tr>\n",
    "            <td>castle</td>\n",
    "            <td>0.8336</td>\n",
    "            <td>0.7203</td>\n",
    "        </tr>\n",
    "        <tr>\n",
    "            <td>boosting</td>\n",
    "            <td>0.8407</td>\n",
    "            <td>0.7160</td>\n",
    "        </tr>\n",
    "        <tr>\n",
    "            <td>causal-selection_pc-boosting</td>\n",
    "            <td>0.8411</td>\n",
    "            <td>0.7160</td>\n",
    "        </tr>\n",
    "        <tr>\n",
    "            <td>feature-selection_correlation-boosting</td>\n",
    "            <td>0.8409</td>\n",
    "            <td>0.7159</td>\n",
    "        </tr>\n",
    "        <tr>\n",
    "            <td>causal-selection_lingam-logistic-regression</td>\n",
    "            <td>0.8410</td>\n",
    "            <td>0.7157</td>\n",
    "        </tr>\n",
    "        <tr>\n",
    "            <td>logistic-regression</td>\n",
    "            <td>0.7618</td>\n",
    "            <td>0.7152</td>\n",
    "        </tr>\n",
    "        <tr>\n",
    "            <td>causal-selection_pc-logistic-regression</td>\n",
    "            <td>0.8409</td>\n",
    "            <td>0.7143</td>\n",
    "        </tr>\n",
    "        <tr>\n",
    "            <td>feature-selection_correlation-logistic-regression</td>\n",
    "            <td>0.8377</td>\n",
    "            <td>0.7134</td>\n",
    "        </tr>\n",
    "        <tr>\n",
    "            <td>causal-selection_lingam-boosting</td>\n",
    "            <td>0.8409</td>\n",
    "            <td>0.7129</td>\n",
    "        </tr>\n",
    "        <tr>\n",
    "            <td>causal-selection_ges-logistic-regression</td>\n",
    "            <td>0.8383</td>\n",
    "            <td>0.7128</td>\n",
    "        </tr>\n",
    "        <tr>\n",
    "            <td>feature-selection_sfs-logistic-regression</td>\n",
    "            <td>0.8126</td>\n",
    "            <td>0.7118</td>\n",
    "        </tr>\n",
    "        <tr>\n",
    "            <td>feature-selection_rfe-logistic-regression</td>\n",
    "            <td>0.8351</td>\n",
    "            <td>0.7106</td>\n",
    "        </tr>\n",
    "        <tr>\n",
    "            <td>causal-selection_ges-boosting</td>\n",
    "            <td>0.8356</td>\n",
    "            <td>0.7060</td>\n",
    "        </tr>\n",
    "        <tr>\n",
    "            <td>feature-selection_sfs-boosting</td>\n",
    "            <td>0.7576</td>\n",
    "            <td>0.6852</td>\n",
    "        </tr>\n",
    "        <tr>\n",
    "            <td>feature-selection_sfs-decision-tree</td>\n",
    "            <td>0.6564</td>\n",
    "            <td>0.6816</td>\n",
    "        </tr>\n",
    "        <tr>\n",
    "            <td>causal-selection_notears-decision-tree</td>\n",
    "            <td>0.7502</td>\n",
    "            <td>0.6730</td>\n",
    "        </tr>\n",
    "        <tr>\n",
    "            <td>causal-selection_notears-logistic-regression</td>\n",
    "            <td>0.8095</td>\n",
    "            <td>0.6684</td>\n",
    "        </tr>\n",
    "        <tr>\n",
    "            <td>causal-selection_notears-boosting</td>\n",
    "            <td>0.8060</td>\n",
    "            <td>0.6661</td>\n",
    "        </tr>\n",
    "        <tr>\n",
    "            <td>causal-selection_pc-decision-tree</td>\n",
    "            <td>0.7408</td>\n",
    "            <td>0.6558</td>\n",
    "        </tr>\n",
    "        <tr>\n",
    "            <td>decision-tree</td>\n",
    "            <td>0.7770</td>\n",
    "            <td>0.6557</td>\n",
    "        </tr>\n",
    "        <tr>\n",
    "            <td>feature-selection_correlation-decision-tree</td>\n",
    "            <td>0.7770</td>\n",
    "            <td>0.6557</td>\n",
    "        </tr>\n",
    "        <tr>\n",
    "            <td>causal-selection_lingam-decision-tree</td>\n",
    "            <td>0.7354</td>\n",
    "            <td>0.6070</td>\n",
    "        </tr>\n",
    "        <tr>\n",
    "            <td>feature-selection_ols-boosting</td>\n",
    "            <td>0.6701</td>\n",
    "            <td>0.5772</td>\n",
    "        </tr>\n",
    "        <tr>\n",
    "            <td>causal-selection_ges-decision-tree</td>\n",
    "            <td>0.6934</td>\n",
    "            <td>0.5757</td>\n",
    "        </tr>\n",
    "        <tr>\n",
    "            <td>feature-selection_ols-logistic-regression</td>\n",
    "            <td>0.6508</td>\n",
    "            <td>0.5665</td>\n",
    "        </tr>\n",
    "        <tr>\n",
    "            <td>feature-selection_ols-decision-tree</td>\n",
    "            <td>0.6415</td>\n",
    "            <td>0.5623</td>\n",
    "        </tr>\n",
    "        <tr>\n",
    "            <td>feature-selection_rfe-decision-tree</td>\n",
    "            <td>0.5327</td>\n",
    "            <td>0.5298</td>\n",
    "        </tr>\n",
    "        <tr>\n",
    "            <td>feature-selection_rfe-boosting</td>\n",
    "            <td>0.7522</td>\n",
    "            <td>0.5212</td>\n",
    "        </tr>\n",
    "    </tbody>\n",
    "</table>\n",
    "\n",
    "<figcaption align = \"left\"><b>Table 4.2:</b> AUC Scores based on Kaggle Test Data.</figcaption>\n",
    "</figure>\n",
    "</center>"
   ]
  },
  {
   "cell_type": "markdown",
   "id": "a0e64e98-a263-44e3-a1a9-22e92c3c5f1e",
   "metadata": {},
   "source": [
    "## **5. Discussion**"
   ]
  },
  {
   "cell_type": "markdown",
   "id": "f1804432-3e0c-4da1-9b66-d83b42fbc1cd",
   "metadata": {},
   "source": [
    "### **5.1 Predictive Performance**"
   ]
  },
  {
   "cell_type": "markdown",
   "id": "4b189a88-724d-4a8b-9d20-1e1dd33ee546",
   "metadata": {},
   "source": [
    "After selecting the optimal hyperparameter combinations for all our models, we applied a five-fold cross-validation to compare the predictive performance of our models. For our feature selection models, we combined the causal feature selection and usual feature selection model with a black box method, i.e., gradient boosting, and with white-box methods, i.e., logistic regression and decision tree, to investigate if including causality in prediction will improve the performance. Here the performance is judged based on the AUC score. Further material used to evaluate the performance of the models can be found in the appendix (`appendix/model-evaluation.ipynb`)."
   ]
  },
  {
   "cell_type": "markdown",
   "id": "54ec7bc4-c95b-47b9-b97a-2f430ffe37e8",
   "metadata": {},
   "source": [
    "<center>\n",
    "<figure>\n",
    "    <img src=\"out/img/performance-boosting.png\" alt=\"Figure 5.1: Test AUC scores from Five-Fold Cross Validation, Gradient Boosting Models.\") style=height:100%>\n",
    "    <figcaption align = \"left\"><b>Figure 5.1:</b> Test AUC scores from Five-Fold Cross Validation, Gradient Boosting Models.</figcaption>\n",
    "</figure>\n",
    "</center>"
   ]
  },
  {
   "cell_type": "markdown",
   "id": "cc2dacde-411c-4bd7-9f2a-341eaf90c0b7",
   "metadata": {},
   "source": [
    "Figure 5.1 illustrates the predictive performance of boosting based on each causal discovery model. Among all the causal discovery models, only the PC-based causal selection model achieved a slight improvement in predictive performance compared to our benchmark gradient boosting model. One of the possible reasons is that the PC algorithm has selected the most features from the data compared to other feature selection models. In contrast, the worst performing model, NOTEARS has selected the least amount of features from the data (c.f. Table 4.1, *n_features*). However, all our causal selection models dropped features without a causal relationship to our target. So, regarding our performance focused black-box models, causal feature selection approach could improve the absolute prediction performance only on an insignificant level in our case. However, our causal selection was able to outperform the standard feature selection models using the gradient boosting model as a predictive model."
   ]
  },
  {
   "cell_type": "markdown",
   "id": "8b48717e-ae6f-483a-a153-9737712d1baf",
   "metadata": {},
   "source": [
    "<center>\n",
    "<figure>\n",
    "    <img src=\"out/img/performance-logistic-regression.png\" alt=\"Figure 5.2: Test AUC scores from Five-Fold Cross Validation, Logistic Regression Models.\") style=height:100%>\n",
    "    <figcaption align = \"left\"><b>Figure 5.2:</b> Test AUC scores from Five-Fold Cross Validation, Logistic Regression Models.</figcaption>\n",
    "</figure>\n",
    "</center>"
   ]
  },
  {
   "cell_type": "markdown",
   "id": "228f97b8-75c9-4c07-ba62-b49e94ad66c2",
   "metadata": {},
   "source": [
    "Considering the interpretable white-box model Logistic Regression, all causal discovery models could improve the prediction performance compared to our benchmark. In this case, the PC algorithm still outperformed the other causal discovery models, while the level of improvement brought by NOTEARS is the least significant. Hence, causal selection is a viable option to improve the performance of the interpretable logistic regression. "
   ]
  },
  {
   "cell_type": "markdown",
   "id": "22028de4-8b37-479b-ac87-7bde2d058693",
   "metadata": {},
   "source": [
    "<center>\n",
    "<figure>\n",
    "    <img src=\"out/img/performance-decision-tree.png\" alt=\"Figure 5.3: Test AUC scores from Five-Fold Cross Validation, Decision Tree Models.\") style=height:100%>\n",
    "    <figcaption align = \"left\"><b>Figure 5.3:</b> Test AUC scores from Five-Fold Cross Validation, Decision Tree Models.</figcaption>\n",
    "</figure>\n",
    "</center>"
   ]
  },
  {
   "cell_type": "markdown",
   "id": "7209b314-1751-4a23-b829-f671173e1069",
   "metadata": {},
   "source": [
    "As for the second white-box model, the Decision Tree, causal selection did not result in a satisfying outcome. Our grid search approach of first tuning the hyperparameter of the predictive model followed by tuning the parameter of the causal model separately might be a possible reason why we did not see an improvement in predictive performance for the causal Decision Tree models. A possible way to improve the performance might be to simultaneously tune the parameters in the causal discovery and predictive models. However, this approach is resource and time-consuming. Therefore, it was not performed during our work. "
   ]
  },
  {
   "cell_type": "markdown",
   "id": "79bb0234-daea-4bc8-8db2-a32372312df9",
   "metadata": {},
   "source": [
    "<center>\n",
    "<figure>\n",
    "\n",
    "<table>\n",
    "    <thead>\n",
    "        <tr>\n",
    "            <td><b>Gradient Boosting</b></td>\n",
    "            <td><b>Testing AUC</b></td>\n",
    "            <td><b>Kaggle AUC</b></td>\n",
    "            <td><b>Delta in PPS</b></td>\n",
    "            <td><b>Relative delta (in %)</b></td>\n",
    "        </tr>\n",
    "    </thead>\n",
    "    <tbody>\n",
    "        <tr>\n",
    "            <td>boosting</td>\n",
    "            <td>0.8407</td>\n",
    "            <td>0.7160</td>\n",
    "            <td>-</td>\n",
    "            <td>-</td>\n",
    "        </tr>\n",
    "        <tr>\n",
    "            <td>causal-selection_pc-boosting</td>\n",
    "            <td>0.8411</td>\n",
    "            <td>0.7160</td>\n",
    "            <td>0.00</td>\n",
    "            <td>0.00%</td>\n",
    "        </tr>\n",
    "        <tr>\n",
    "            <td>feature-selection_correlation-boosting</td>\n",
    "            <td>0.8409</td>\n",
    "            <td>0.7159</td>\n",
    "            <td>0.00</td>\n",
    "            <td>0.02%</td>\n",
    "        </tr>\n",
    "        <tr>\n",
    "            <td>causal-selection_lingam-boosting</td>\n",
    "            <td>0.8409</td>\n",
    "            <td>0.7129</td>\n",
    "            <td>0.00</td>\n",
    "            <td>0.45%</td>\n",
    "        </tr>\n",
    "        <tr>\n",
    "            <td>causal-selection_ges-boosting</td>\n",
    "            <td>0.8356</td>\n",
    "            <td>0.7060</td>\n",
    "            <td>0.01</td>\n",
    "            <td>1.42%</td>\n",
    "        </tr>\n",
    "        <tr>\n",
    "            <td>feature-selection_sfs-boosting</td>\n",
    "            <td>0.7576</td>\n",
    "            <td>0.6852</td>\n",
    "            <td>0.03</td>\n",
    "            <td>4.51%</td>\n",
    "        </tr>\n",
    "        <tr>\n",
    "            <td>causal-selection_notears-boosting</td>\n",
    "            <td>0.8060</td>\n",
    "            <td>0.6661</td>\n",
    "            <td>0.05</td>\n",
    "            <td>7.50%</td>\n",
    "        </tr>\n",
    "        <tr>\n",
    "            <td>feature-selection_ols-boosting</td>\n",
    "            <td>0.6701</td>\n",
    "            <td>0.5772</td>\n",
    "            <td>0.14</td>\n",
    "            <td>24.06%</td>\n",
    "        </tr>\n",
    "        <tr>\n",
    "            <td>feature-selection_rfe-boosting</td>\n",
    "            <td>0.7522</td>\n",
    "            <td>0.5212</td>\n",
    "            <td>0.19</td>\n",
    "            <td>37.39%</td>\n",
    "        </tr>\n",
    "    </tbody>\n",
    "</table>\n",
    "\n",
    "<figcaption align = \"left\"><b>Table 5.1:</b> AUC Scores based on Kaggle Test Data, Gradient Boosting Models.</figcaption>\n",
    "</figure>\n",
    "</center>"
   ]
  },
  {
   "cell_type": "markdown",
   "id": "b275b8d7-661d-41e1-b4f5-a0962e43d889",
   "metadata": {},
   "source": [
    "Recall that a distributional change can be observed in chapter 4. When comparing the predictive performance with testing data on Kaggle, we expect our causal approaches to perform better as the idea of introducing causality is improving the out-of-sample performance of credit risk modeling. CASTLE is the overall best-performing model, supporting the idea of incorporating causality in making predictions. This could be explained by the fact that CASTLE was developed and optimized in order to incorporate causality in the prediction task itself, unlike in our approach, where we separately learn the DAG and then apply the output in a predictive model."
   ]
  },
  {
   "cell_type": "markdown",
   "id": "301d47e4-ba76-468d-bd16-a2397418bbc2",
   "metadata": {},
   "source": [
    "<center>\n",
    "<figure>\n",
    "\n",
    "<table>\n",
    "    <thead>\n",
    "        <tr>\n",
    "            <td><b>Logistic Regression</b></td>\n",
    "            <td><b>Testing AUC</b></td>\n",
    "            <td><b>Kaggle AUC</b></td>\n",
    "            <td><b>Delta in PPS</b></td>\n",
    "            <td><b>Relative delta (in %)</b></td>\n",
    "        </tr>\n",
    "    </thead>\n",
    "    <tbody>\n",
    "        <tr>\n",
    "            <td>causal-selection_lingam-logistic-regression</td>\n",
    "            <td>0.8410</td>\n",
    "            <td>0.7157</td>\n",
    "            <td>-</td>\n",
    "            <td>-</td>\n",
    "        </tr>\n",
    "        <tr>\n",
    "            <td>logistic-regression</td>\n",
    "            <td>0.7618</td>\n",
    "            <td>0.7152</td>\n",
    "            <td>0.00</td>\n",
    "            <td>0.08%</td>\n",
    "        </tr>\n",
    "        <tr>\n",
    "            <td>causal-selection_pc-logistic-regression</td>\n",
    "            <td>0.8409</td>\n",
    "            <td>0.7143</td>\n",
    "            <td>0.00</td>\n",
    "            <td>0.20%</td>\n",
    "        </tr>\n",
    "        <tr>\n",
    "            <td>feature-selection_correlation-logistic-regression</td>\n",
    "            <td>0.8377</td>\n",
    "            <td>0.7134</td>\n",
    "            <td>0.00</td>\n",
    "            <td>0.33%</td>\n",
    "        </tr>\n",
    "        <tr>\n",
    "            <td>causal-selection_ges-logistic-regression</td>\n",
    "            <td>0.8383</td>\n",
    "            <td>0.7128</td>\n",
    "            <td>0.00</td>\n",
    "            <td>0.41%</td>\n",
    "        </tr>\n",
    "        <tr>\n",
    "            <td>feature-selection_sfs-logistic-regression</td>\n",
    "            <td>0.8126</td>\n",
    "            <td>0.7118</td>\n",
    "            <td>0.00</td>\n",
    "            <td>0.55%</td>\n",
    "        </tr>\n",
    "        <tr>\n",
    "            <td>feature-selection_rfe-logistic-regression</td>\n",
    "            <td>0.8351</td>\n",
    "            <td>0.7106</td>\n",
    "            <td>0.01</td>\n",
    "            <td>0.72%</td>\n",
    "        </tr>\n",
    "        <tr>\n",
    "            <td>causal-selection_notears-logistic-regression</td>\n",
    "            <td>0.8095</td>\n",
    "            <td>0.6684</td>\n",
    "            <td>0.05</td>\n",
    "            <td>7.08%</td>\n",
    "        </tr>\n",
    "        <tr>\n",
    "            <td>feature-selection_ols-logistic-regression</td>\n",
    "            <td>0.6508</td>\n",
    "            <td>0.5665</td>\n",
    "            <td>0.15</td>\n",
    "            <td>26.33%</td>\n",
    "        </tr>\n",
    "    </tbody>\n",
    "</table>\n",
    "\n",
    "<figcaption align = \"left\"><b>Table 5.2:</b> AUC Scores based on Kaggle Test Data, Logistic Regression Models.</figcaption>\n",
    "</figure>\n",
    "</center>\n",
    "\n",
    "*Note:* Delta is calculated in reference to the best performing score."
   ]
  },
  {
   "cell_type": "markdown",
   "id": "87b3f02c-a950-4b4a-a944-db2282d9dddc",
   "metadata": {},
   "source": [
    "For Gradient Boosting and Logistic Regression, we can observe that the causal model performance is either the best or not too far off from the best performing score (max. 1 percentage point) with the exception of the approaches using the NOTEARS algorithm. The reason for that might be that NOTEARS’ markov blanket only consists of five variables which limits the predictive power as the penalty in the model to create a sparse matrix is too high. "
   ]
  },
  {
   "cell_type": "markdown",
   "id": "5a293707-8716-46e0-9d15-a5b2914fc36a",
   "metadata": {},
   "source": [
    "<center>\n",
    "<figure>\n",
    "\n",
    "<table>\n",
    "    <thead>\n",
    "        <tr>\n",
    "            <td><b>Decision Tree</b></td>\n",
    "            <td><b>Testing AUC</b></td>\n",
    "            <td><b>Kaggle AUC</b></td>\n",
    "            <td><b>Delta in PPS</b></td>\n",
    "            <td><b>Relative delta (in %)</b>\n",
    "            </td>\n",
    "        </tr>\n",
    "    </thead>\n",
    "    <tbody>\n",
    "        <tr>\n",
    "            <td>feature-selection_sfs-decision-tree</td>\n",
    "            <td>0.6564</td>\n",
    "            <td>0.6816</td>\n",
    "            <td>-</td>\n",
    "            <td>-</td>\n",
    "        </tr>\n",
    "        <tr>\n",
    "            <td>causal-selection_notears-decision-tree</td>\n",
    "            <td>0.7502</td>\n",
    "            <td>0.6730</td>\n",
    "            <td>0.01</td>\n",
    "            <td>1.28%</td>\n",
    "        </tr>\n",
    "        <tr>\n",
    "            <td>causal-selection_pc-decision-tree</td>\n",
    "            <td>0.7408</td>\n",
    "            <td>0.6558</td>\n",
    "            <td>0.03</td>\n",
    "            <td>3.93%</td>\n",
    "        </tr>\n",
    "        <tr>\n",
    "            <td>decision-tree</td>\n",
    "            <td>0.7770</td>\n",
    "            <td>0.6557</td>\n",
    "            <td>0.03</td>\n",
    "            <td>3.95%</td>\n",
    "        </tr>\n",
    "        <tr>\n",
    "            <td>feature-selection_correlation-decision-tree</td>\n",
    "            <td>0.7770</td>\n",
    "            <td>0.6557</td>\n",
    "            <td>0.03</td>\n",
    "            <td>3.95%</td>\n",
    "        </tr>\n",
    "        <tr>\n",
    "            <td>causal-selection_lingam-decision-tree</td>\n",
    "            <td>0.7354</td>\n",
    "            <td>0.6070</td>\n",
    "            <td>0.07</td>\n",
    "            <td>12.30%</td>\n",
    "        </tr>\n",
    "        <tr>\n",
    "            <td>causal-selection_ges-decision-tree</td>\n",
    "            <td>0.6934</td>\n",
    "            <td>0.5757</td>\n",
    "            <td>0.11</td>\n",
    "            <td>18.40%</td>\n",
    "        </tr>\n",
    "        <tr>\n",
    "            <td>feature-selection_ols-decision-tree</td>\n",
    "            <td>0.6415</td>\n",
    "            <td>0.5623</td>\n",
    "            <td>0.12</td>\n",
    "            <td>21.23%</td>\n",
    "        </tr>\n",
    "        <tr>\n",
    "            <td>feature-selection_rfe-decision-tree</td>\n",
    "            <td>0.5327</td>\n",
    "            <td>0.5298</td>\n",
    "            <td>0.15</td>\n",
    "            <td>28.66%</td>\n",
    "        </tr>\n",
    "    </tbody>\n",
    "</table>\n",
    "\n",
    "<figcaption align = \"left\"><b>Table 5.3:</b> AUC Scores based on Kaggle Test Data, Decision Tree Models.</figcaption>\n",
    "</figure>\n",
    "</center>"
   ]
  },
  {
   "cell_type": "markdown",
   "id": "f906a7e9-167b-48dd-a01f-84cc88d67143",
   "metadata": {},
   "source": [
    "However, for the Decision Tree, NOTEARS performs best and the following models perform with at least 2 percentage points worse. After reviewing the predictive performance, we argue that in general causal models should at least perform as good as or even better than purely correlation-based methods. "
   ]
  },
  {
   "cell_type": "markdown",
   "id": "9fb63881-2cf0-4825-8103-06f76d4fe1ba",
   "metadata": {},
   "source": [
    "### **5.2 Interpretability**"
   ]
  },
  {
   "cell_type": "markdown",
   "id": "5a95d947-a1e9-47e8-8bf8-fc31e8af430b",
   "metadata": {},
   "source": [
    "For the interpretability evaluation, the following analysis is based on the DAGs of respective causal models combined with logistic regression, whose prediction performance was enhanced through all the causal feature selection models to avoid redundancies. As mentioned earlier, a higher h-value denotes a more significant violation of the acyclicity assumption and more cycles in the DAG, which helped us in the interpretations."
   ]
  },
  {
   "cell_type": "markdown",
   "id": "78889a9d-6e26-49e0-a2fd-ef8994750266",
   "metadata": {},
   "source": [
    "<center>\n",
    "<figure>\n",
    "    <img src=\"out/img/dag_causal-selection_pc-logistic-regression.png\" alt=\"Figure 5.4: DAG based on Causal Selection using PC and Logistic Regression.\") style=height:500px;>\n",
    "    <figcaption align = \"left\"><b>Figure 5.4:</b> DAG based on Causal Selection using PC and Logistic Regression.</figcaption>\n",
    "</figure>\n",
    "</center>"
   ]
  },
  {
   "cell_type": "markdown",
   "id": "e8eb968a-2d7d-4b62-99a7-121e3bafc3a3",
   "metadata": {},
   "source": [
    "Among the causal discovery models, the PC algorithm has selected the most features and also gaven a DAG with the highest h-value, indicating a high level of cyclicity in the graph. Hence, the acyclicity assumption of the algorithm is violated. The algorithm has selected the most features and high level of cyclicity because it starts with a complete undirected graph and removes the edges of the paired variables only if they are conditionally dependent. Furthermore, the PC algorithm requires a large amount of data to get an accurate result (Le et al., 2019), which our available dataset does not fulfill. "
   ]
  },
  {
   "cell_type": "markdown",
   "id": "3e3a7542-7317-477a-aeb6-31b877a8b2d3",
   "metadata": {},
   "source": [
    "In terms of interpretability, in the DAG, the target variable was identified as a causal parent, e.g. meaning the expected risk of defaulting causes a high credit score, which is logical. However, all the interpretations and causal relationships are hard to verify, as the true DAG is unavailable. One of the cycles we detected in the DAG is between four variables: the target variable, debt to income ratio, the interest rate and the credit score. There are ways to interpret this relationship. For example, people who defaulted at the end were assigned a low credit score during the evaluation due to their high debt to income ratio. The high risk of defaulting led the credit provider to increase the interest rate on loans for these individuals, which burdened the borrower more and resulted in a default. This cycle can indicate that there are confounders of these variables, which are not included in the dataset. If this is true, the causal sufficiency assumption is also violated. Having cycles and containing many variables in the DAG hinder the interpretability of the causal relationship. In this regard, the PC algorithm shows its disadvantage."
   ]
  },
  {
   "cell_type": "markdown",
   "id": "8c67f200-5291-40c9-9fa9-b5c2947561f4",
   "metadata": {},
   "source": [
    "<center>\n",
    "<figure>\n",
    "    <img src=\"out/img/dag_causal-selection_ges-logistic-regression.png\" alt=\"Figure 5.5: DAG based on Causal Selection using GES and Logistic Regression.\") style=height:500px;>\n",
    "    <figcaption align = \"left\"><b>Figure 5.5:</b> DAG based on Causal Selection using GES and Logistic Regression.</figcaption>\n",
    "</figure>\n",
    "</center>"
   ]
  },
  {
   "cell_type": "markdown",
   "id": "2481dba1-52e7-420e-aa5f-dda31956137f",
   "metadata": {},
   "source": [
    "GES algorithm generates a graph where the h-value is considerably high (1.08). Compared to the PC algorithm, GES is better at generating an acyclic graph and h-value. In the case of GES, the target variable has been identified as a causal child and causal features have been specified as parents. Considering the greedy concept in its algorithm, this complex DAG is expected due to building up a graph from scratch step by step with directed edges. However, extracting useful causal interpretations from this complex DAG is difficult."
   ]
  },
  {
   "cell_type": "markdown",
   "id": "612eac65-0e3c-42a3-a6c4-ef3425d0573b",
   "metadata": {},
   "source": [
    "<center>\n",
    "<figure>\n",
    "    <img src=\"out/img/dag_causal-selection_lingam-logistic-regression.png\" alt=\"Figure 5.6: DAG based on Causal Selection using LiNGAM and Logistic Regression.\") style=height:500px;>\n",
    "    <figcaption align = \"left\"><b>Figure 5.6:</b> DAG based on Causal Selection using LiNGAM and Logistic Regression.</figcaption>\n",
    "</figure>\n",
    "</center>"
   ]
  },
  {
   "cell_type": "markdown",
   "id": "d94c03a6-cfd8-408e-9587-3a57982329f1",
   "metadata": {},
   "source": [
    "The DAG conducted through the LiNGAM algorithm is acyclic (h-value = 0). LiNGAM can hold the acyclicity assumption as it tests the causal relationship between multiple variables with different combinations of dependent and independent variables and the independence between the chosen independent variables and the noise term. LiNGAM has also identified the target variable as the causal parent to the other variables, same as mentioned above, this is open to logical interpretation but unable to verify as the true causal relationship is unknown. Overall the DAGs output of LiNGAM did not include many variables in the causal graph compared to the PC algorithm and managed to hold the acyclicity assumption, which all helped to enhance the interpretability."
   ]
  },
  {
   "cell_type": "markdown",
   "id": "5fbf82f6-73ad-4902-b196-f2140505ad19",
   "metadata": {},
   "source": [
    "<center>\n",
    "<figure>\n",
    "    <img src=\"out/img/dag_causal-selection_notears-logistic-regression.png\" alt=\"Figure 5.7: DAG based on Causal Selection using NOTEARS and Logistic Regression.\") style=height:500px;>\n",
    "    <figcaption align = \"left\"><b>Figure 5.7:</b> DAG based on Causal Selection using NOTEARS and Logistic Regression.</figcaption>\n",
    "</figure>\n",
    "</center>"
   ]
  },
  {
   "cell_type": "markdown",
   "id": "fa5028fd-b509-4508-9d92-14447eb0bf64",
   "metadata": {},
   "source": [
    "Notable about the DAG produced by NOTEARS is its acyclicity, similar to the DAG returned by LiNGAM (h-value = 0). NOTEARS creates a relatively sparse matrix, making the visual interpretation relatively easy. The target variable has no causal parents but three causal children (zipcode, servicer_name and fico). The spouses consist of fico, seller_name and channel. The Markov blanket therefore consists of five variables. While it intuitively does not make sense that the target variable is causing its explanatory variables, the fact or risk that a customer is defaulting can arguably influence other variables. For example, the creditor anticipates the debtor has a high risk of defaulting and therefore the debtor receives a lower fico score. This relation is represented in the direction of the causal effect between the target and the fico score in the NOTEARS DAG. Hence, it can be argued that the direction of the causal effects learnt by the NOTEARS algorithm represent the correct causal effect. However, an objective statement of the correctness of the DAG cannot be provided as no information about the true causal structure is available. "
   ]
  },
  {
   "cell_type": "markdown",
   "id": "ae583f61-fa18-4c17-b1a3-cd6fc5b787b8",
   "metadata": {},
   "source": [
    "Furthermore, in the DAG generated by NOTEARS, the sufficiency assumption might not be fulfilled in our case. The DAG identified a causal relationship between credit default and the zip code. However, the borrower’s zip code should not contain any information of the borrower’s creditworthiness and hence have no causal effect on the target feature. The fact that our causal models identified causal effects, including the zip code indicates that the zip code feature contains further information which has a causal effect on the target. For example, a high risk of default might suggest that the borrower lives in a zip code area with a low-income level. Hence, not all required information is included in the data and the sufficiency assumption might be violated."
   ]
  },
  {
   "cell_type": "markdown",
   "id": "00a26a4b-8e38-441a-9d22-c7dc8d9e0f85",
   "metadata": {},
   "source": [
    "<center>\n",
    "<figure>\n",
    "    <img src=\"out/img/dag_castle.png\" alt=\"Figure 5.8: DAG based on CASTLE.\") style=height:500px;>\n",
    "    <figcaption align = \"left\"><b>Figure 5.8:</b> DAG based on CASTLE.</figcaption>\n",
    "</figure>\n",
    "</center>"
   ]
  },
  {
   "cell_type": "markdown",
   "id": "e08a93cf-9e1f-442a-a35c-471c40a726ab",
   "metadata": {},
   "source": [
    "As CASTLE incorporates NOTEARS’ acyclicity constraint, we expected a similar DAG but found the h-value to be higher than zero (0.04563). This can be traced back to the fact that CASTLE’s intention is not to uncover the true DAG but rather to incorporate the benefits of causality in its prediction task, possibly leading to a different threshold used to determine causality. This can explain the non-acyclicity even though the NOTEARS constraint has been used. It has to be noted that a threshold has to be selected to extract the DAG from the CASTLE model. Different threshold values lead to different DAGs with different levels of acyclicity. We chose the optimal threshold after a visual inspection of different threshold values. The threshold value however has no impact on the predictive performance of the CASTLE model and is only used for visualization purposes. "
   ]
  },
  {
   "cell_type": "markdown",
   "id": "5dadf661-90f7-4948-91d4-fcc885332d4a",
   "metadata": {},
   "source": [
    "In CASTLE’s DAG, the target variable has 3 causal children: flag_fthb (First Time Homebuyer Flag), servicer_name and pgrm_ind (Program Indicator). Notably, flag_fthb and pgrm_ind share many causal parents (19 in total). The Markov blanket consists of 20 unique causal variables. As the Markov blanket is based on the DAG, it also depends on the chosen threshold. \n",
    "This is due to the fact that the DAG is mainly used for regularization and causal discovery is not the main objective of CASTLE. Hence, the meaningfulness of the interpretability of CASTLE’s DAG remains questionable. \n"
   ]
  },
  {
   "cell_type": "markdown",
   "id": "3d595cf4-0740-49c3-baac-a6221bbffc8e",
   "metadata": {},
   "source": [
    "After analyzing the DAGs of all the causal selection models, we noticed that besides GES, all the other algorithms had identified the target variable as a causal parent instead of a causal child of the other variables. Since the true causal relationship and the DAG are impossible to acquire, the results are interpretable but not verifiable. Furthermore, it also indicates that confounders of the variables are not included in the datasets. Thus, the causal sufficiency assumption is violated."
   ]
  },
  {
   "cell_type": "markdown",
   "id": "73acb294-0982-4ca2-8ebf-07331bd7dafd",
   "metadata": {},
   "source": [
    "Moreover, based on the result, both the PC and GES algorithms have chosen more causal features and given higher h-values than the other algorithms, violating the acyclicity assumption and increasing the difficulty of interpretation."
   ]
  },
  {
   "cell_type": "markdown",
   "id": "c1e3a2b0-af4d-44da-9cd3-94dce678bac0",
   "metadata": {},
   "source": [
    "Another noticeable point is that all the causal discovery models have selected zip code as a feature. However, the zip code itself is only a meaningless number. The demographic and economic information behind an individual's zip code might be the actual cause of the causal effect and the common cause of some variables in the data. This outcome, on the one hand, states that underlying causal sufficiency assumption is violated in all these methods. On the other hand, it shows that using causal discovery models for feature selection help uncover some potential information that should be included in evaluating credit risks and lead to further understanding of the causal relationship beyond the available data. "
   ]
  },
  {
   "cell_type": "markdown",
   "id": "ae04bb77-a4d7-4846-a809-029faf195cfb",
   "metadata": {},
   "source": [
    "### **5.3 Required Resources**"
   ]
  },
  {
   "cell_type": "markdown",
   "id": "3b594ece-f08a-4b96-8403-c91e389bbe32",
   "metadata": {},
   "source": [
    "The third dimension of the evaluation is the resource consumption of the approach. From the computation result, we conclude that learning the causal structure takes time. Although the time to train the models is within 15 minutes, in our case, the dataset is relatively small. The training time can increase immensely as the data size and the dimension grow. Among all the implemented approaches, the PC algorithm is the most consuming, while the others result in a similar time-consumption level."
   ]
  },
  {
   "cell_type": "markdown",
   "id": "b8a16b9b-959c-471c-be2e-4d2ae3a10296",
   "metadata": {},
   "source": [
    "During the application, CASTLE and NOTEARS were the most class-imbalance-sensitive algorithms. We suspect that the sensibility to class imbalance of these gradient-based approaches is due to the fact that both approaches penalize the weights to create a more sparse DAG. In our case, the majority class is the negative class, represented by a zero. As both of our gradient-based approaches recreated input features, the trivial solution to minimize the recreation loss for our imbalanced target while accounting for the weight penalty is to set all weights to zero. Hence, result in no causal relations including the imbalanced target. If this assumption is correct, changing the binary labels so that the majority class is the positive class could solve the issue. However, this also changes the interpretation of the target feature. Therefore, we chose an undersampling approach to solve the class imbalance problem during our work and did obtain more presentable results. "
   ]
  },
  {
   "cell_type": "markdown",
   "id": "4cc622d7-cc16-40cf-8575-9637c029fe8c",
   "metadata": {},
   "source": [
    "## **6. Conclusion**"
   ]
  },
  {
   "cell_type": "markdown",
   "id": "064e7381-923c-4892-8cfc-e27cba202fe5",
   "metadata": {},
   "source": [
    "To evaluate the impact of introducing causality in credit risk modeling, we proposed 2 approaches: (1) using causal discovery methods as a feature selection and apply the results in Gradient Boosting, Logistic Regression and Decision Tree models and (2) using a causal predictive model CASTLE (see chapter 3). We then assessed the models within predictive performance, interpretability and resource consumption. We benchmarked our causal approach against the same predictive models with standard feature selection approaches, RFE and SFS. "
   ]
  },
  {
   "cell_type": "markdown",
   "id": "bfa77ba5-c48f-437c-a667-b5d6d3c3fdd5",
   "metadata": {},
   "source": [
    "The results demonstrated that the performance of the causal selection models combined with prediction models outperformed the standard feature selection models, which addressed our research question. In the interpretability dimension, when we look at the performance of the interpretable white-box model Logistic Regression, it is observed that the causal selection improves the prediction performance, and the PC algorithm gives the best result. Moreover, in this dimension, we also analyzed generated DAGs and explained the main findings according to their acyclicity and cause-effect relations. An objective statement regarding the performance of the learnt DAGs cannot be made as no true DAG exists. Considering the resource, the causal selection algorithms increase the training time and especially the PC algorithm has a considerable disadvantage in terms of time compared to the other examined algorithms. CASTLE is the most innovative algorithm among all. While the other models focused only on learning causal, CASTLE combines causal discovery and prediction in one model. However, compared to the causal discovery models, its performance in causal discovery is less satisfying. "
   ]
  },
  {
   "cell_type": "markdown",
   "id": "fd7d938b-978d-496f-9f76-21f9a332dc61",
   "metadata": {},
   "source": [
    "In our work, we did not focus on exhaustive feature creation, as we suspected that feature creation might introduce bias into the data, which would also affect the causal structure of the data. Therefore, we chose the weight of evidence encoding as our feature selection approach. However, it is worth further investigating other more sophisticated ways of feature creation without disrupting the causal structure, which might improve the performance of the models. Since the observed data was a snap-shot dataset, future research can also consider using time-series data. This will allow the study to investigate the development over time and the impact of incidents that might lead to default behavior. Moreover, recall that the idea of introducing causality in predictive modeling was to explain the prediction of the target with variables that inherently have a causal effect on it. The reasoning was that the variation of these variables will always, regardless of changing circumstances, which might cause a distributional change in data, cause the target variable. The thesis is that correlation-based predictive models are susceptible to these changes and causality-based models are not, as they capture the real predictive function of the target variable. As we have detected a shift in the distribution in the test data, we could validate this thesis by analyzing the AUC scores on Kaggle. Based on our findings as discussed and presented in chapter 5, we argue that incorporating causality in predictive modeling can be beneficial. This is further supported by the fact that according to our internal AUC scoring, except for the Decision Tree models, causal models outperformed correlation based models even when there is no distributional change observable in the input data. However, incorporating causality in predictive modeling is a relatively new area of research and we encourage further developments in this area."
   ]
  },
  {
   "cell_type": "markdown",
   "id": "94ab8251-263a-4557-8b18-48786de08f08",
   "metadata": {},
   "source": [
    "## **References**"
   ]
  },
  {
   "cell_type": "markdown",
   "id": "14fe1390-2a3e-4a91-9633-16d923a7f2de",
   "metadata": {},
   "source": [
    "1. Bischl, Bernd & Kühn, Tobias & Szepannek, Gero. (2016). On Class Imbalance Correction for Classification Algorithms in Credit Scoring. 10.1007/978-3-319-28697-6_6.\n",
    "1. Dawid, A. P. (2010, February). Beware of the DAG!. In Causality: objectives and assessment (pp. 59-86). PMLR.\n",
    "1. Druzdzel, M. J. (2009). The role of assumptions in causal discovery.\n",
    "1. Glymour, Clark & Zhang, Kun & Spirtes, Peter. (2019). Review of Causal Discovery Methods Based on Graphical Models. Frontiers in Genetics. 10. 10.3389/fgene.2019.00524.\n",
    "1. Kalainathan, D., & Goudet, O. (2019). Causal Discovery Toolbox: Uncover causal relationships in Python. arXiv:1903.02278.\n",
    "1. Kyono, Trent, Yao Zhang, and Mihaela van der Schaar. \"CASTLE: regularization via auxiliary causal graph discovery.\" Advances in Neural Information Processing Systems 33 (2020): 1501-1512.\n",
    "1. Le, T. D., Hoang, T., Li, J., Liu, L., Liu, H., & Hu, S. (2016). A fast PC algorithm for high dimensional causal discovery with multi-core PCs. IEEE/ACM transactions on computational biology and bioinformatics, 16(5), 1483-1495.\n",
    "1. Malinsky, D., & Danks, D. (2018). Causal discovery algorithms: A practical guide. Philosophy Compass, 13(1), e12470.\n",
    "1. Meek, C. (1997). Graphical Models: Selecting causal and statistical models (Doctoral dissertation, PhD thesis, Carnegie Mellon University).\n",
    "1. Nogueira, A. R., Pugnana, A., Ruggieri, S., Pedreschi, D., & Gama, J. (2022). Methods and tools for causal discovery and causal inference. Wiley Interdisciplinary Reviews: Data Mining and Knowledge Discovery, 12( 2), e1449. https://doi.org/10.1002/widm.1449\n",
    "1. Pearl, J. (1989). Probabilistic reasoning in intelligent systems - networks of plausible inference. Morgan Kaufmann series in representation and reasoning.\n",
    "1. Pellet, Jean-Philippe & Elisseeff, Andre. (2008). Using Markov Blankets for Causal Structure Learning.. Journal of Machine Learning Research. 9. 1295-1342. 10.1145/1390681.1442776.\n",
    "1. Piccininni, M., Konigorski, S., Rohmann, J.L. et al. Directed acyclic graphs and causal thinking in clinical risk prediction modeling. BMC Med Res Methodol 20, 179 (2020). https://doi.org/10.1186/s12874-020-01058-z\n",
    "1. Scikit-learn: Machine Learning in Python, Pedregosa et al., JMLR 12, pp. 2825-2830, 2011.\n",
    "1. Seabold, Skipper, and Josef Perktold. “statsmodels: Econometric and statistical modeling with python.” Proceedings of the 9th Python in Science Conference. 2010.\n",
    "1. Shimizu, S., Hoyer, P., Hyvärinen, A., and Kerminen, A. (2006). A linear non-Gaussian acyclic model for causal discovery. J. Mach. Learn. Res. 7, 2003–2030.\n",
    "1. Spirtes, P., & Glymour, C. (1991). An algorithm for fast recovery of sparse causal graphs. Social science computer review, 9(1), 62-72.\n",
    "1. Spirtes, P., Glymour, C. N., Scheines, R., & Heckerman, D. (2000). Causation, prediction, and search. MIT press.\n",
    "1. Vowels, M.J., Camgoz, N.C., & Bowden, R. (2021). D’ya Like DAGs? A Survey on Structure Learning and Causal Discovery. ACM Computing Surveys (CSUR).\n",
    "1. Zhang, K., Zhu, S., Kalander, M., Ng, I., Ye, J., Chen, Z., & Pan, L. (2021). gCastle: A Python Toolbox for Causal Discovery. arXiv preprint arXiv:2111.15155.\n",
    "1. Zheng, X., Aragam, B., Ravikumar, P. K., & Xing, E. P. (2018). Dags with no tears: Continuous optimization for structure learning. Advances in Neural Information Processing Systems, 31."
   ]
  },
  {
   "cell_type": "markdown",
   "id": "7eced2aa-76c0-4395-8c22-919760f15af4",
   "metadata": {},
   "source": [
    "## **GitHub Repository**"
   ]
  },
  {
   "cell_type": "markdown",
   "id": "8eb64367-5ef8-4b1b-b04a-2cd370f3a1a8",
   "metadata": {},
   "source": [
    "This paper is part of our GitHub repository [leonhagel/causal-relationships](https://github.com/leonhagel/causal-relationships). Besides this report, the repository contains the appendix, python scripts used to perform our research and output created during out exploratory data analysis, grid search and model training."
   ]
  }
 ],
 "metadata": {
  "kernelspec": {
   "display_name": "Python 3 (ipykernel)",
   "language": "python",
   "name": "python3"
  },
  "language_info": {
   "codemirror_mode": {
    "name": "ipython",
    "version": 3
   },
   "file_extension": ".py",
   "mimetype": "text/x-python",
   "name": "python",
   "nbconvert_exporter": "python",
   "pygments_lexer": "ipython3",
   "version": "3.9.13"
  }
 },
 "nbformat": 4,
 "nbformat_minor": 5
}
