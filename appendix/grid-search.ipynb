{
 "cells": [
  {
   "cell_type": "markdown",
   "id": "c5e972b3-4235-49fc-9316-0151adb5eb9c",
   "metadata": {},
   "source": [
    "# **Grid Search Results**"
   ]
  },
  {
   "cell_type": "code",
   "execution_count": 1,
   "id": "76244f4c-f740-48b5-9eb3-70ee5d2a4e5d",
   "metadata": {},
   "outputs": [],
   "source": [
    "import os\n",
    "os.chdir(\"../src\")"
   ]
  },
  {
   "cell_type": "code",
   "execution_count": 2,
   "id": "8d1f43c9-9202-42cc-aa61-f7381883e09c",
   "metadata": {},
   "outputs": [
    {
     "name": "stderr",
     "output_type": "stream",
     "text": [
      "2022-07-21 15:11:26.577381: W tensorflow/stream_executor/platform/default/dso_loader.cc:64] Could not load dynamic library 'libcudart.so.11.0'; dlerror: libcudart.so.11.0: cannot open shared object file: No such file or directory\n",
      "2022-07-21 15:11:26.577408: I tensorflow/stream_executor/cuda/cudart_stub.cc:29] Ignore above cudart dlerror if you do not have a GPU set up on your machine.\n"
     ]
    },
    {
     "name": "stdout",
     "output_type": "stream",
     "text": [
      "WARNING:tensorflow:From /home/leon/causal-relationships/.env/lib/python3.9/site-packages/tensorflow/python/compat/v2_compat.py:107: disable_resource_variables (from tensorflow.python.ops.variable_scope) is deprecated and will be removed in a future version.\n",
      "Instructions for updating:\n",
      "non-resource variables are not supported in the long term\n"
     ]
    },
    {
     "name": "stderr",
     "output_type": "stream",
     "text": [
      "[2022-07-21 15:11:27,462][__init__.py - line 36] - INFO - You can use `os.environ['CASTLE_BACKEND'] = backend` to set the backend(`pytorch` or `mindspore`).\n",
      "/home/leon/causal-relationships/.env/lib/python3.9/site-packages/tqdm/auto.py:22: TqdmWarning: IProgress not found. Please update jupyter and ipywidgets. See https://ipywidgets.readthedocs.io/en/stable/user_install.html\n",
      "  from .autonotebook import tqdm as notebook_tqdm\n",
      "[2022-07-21 15:11:27,789][__init__.py - line 31] - INFO - You are using ``pytorch`` as the backend.\n",
      "No GPU automatically detected. Setting SETTINGS.GPU to 0, and SETTINGS.NJOBS to cpu_count.\n"
     ]
    }
   ],
   "source": [
    "import utils\n",
    "import models"
   ]
  },
  {
   "cell_type": "code",
   "execution_count": 3,
   "id": "85410f8e-4e87-4122-8bad-b57586639a95",
   "metadata": {},
   "outputs": [],
   "source": [
    "import matplotlib.pyplot as plt"
   ]
  },
  {
   "cell_type": "code",
   "execution_count": 4,
   "id": "a3f516a3-1892-4418-b1f6-1732a4fcb7b3",
   "metadata": {},
   "outputs": [
    {
     "data": {
      "text/plain": [
       "{'boosting.json': '../out/grid-search/boosting.json',\n",
       " 'castle.json': '../out/grid-search/castle.json',\n",
       " 'causal-selection_ges-boosting.json': '../out/grid-search/causal-selection_ges-boosting.json',\n",
       " 'causal-selection_ges-decision-tree.json': '../out/grid-search/causal-selection_ges-decision-tree.json',\n",
       " 'causal-selection_ges-logistic-regression.json': '../out/grid-search/causal-selection_ges-logistic-regression.json',\n",
       " 'causal-selection_lingam-boosting.json': '../out/grid-search/causal-selection_lingam-boosting.json',\n",
       " 'causal-selection_lingam-decision-tree.json': '../out/grid-search/causal-selection_lingam-decision-tree.json',\n",
       " 'causal-selection_lingam-logistic-regression.json': '../out/grid-search/causal-selection_lingam-logistic-regression.json',\n",
       " 'causal-selection_notears-boosting.json': '../out/grid-search/causal-selection_notears-boosting.json',\n",
       " 'causal-selection_notears-decision-tree.json': '../out/grid-search/causal-selection_notears-decision-tree.json',\n",
       " 'causal-selection_notears-logistic-regression.json': '../out/grid-search/causal-selection_notears-logistic-regression.json',\n",
       " 'causal-selection_pc-boosting.json': '../out/grid-search/causal-selection_pc-boosting.json',\n",
       " 'causal-selection_pc-decision-tree.json': '../out/grid-search/causal-selection_pc-decision-tree.json',\n",
       " 'causal-selection_pc-logistic-regression.json': '../out/grid-search/causal-selection_pc-logistic-regression.json',\n",
       " 'decision-tree.json': '../out/grid-search/decision-tree.json',\n",
       " 'feature-selection_correlation-boosting.json': '../out/grid-search/feature-selection_correlation-boosting.json',\n",
       " 'feature-selection_correlation-decision-tree.json': '../out/grid-search/feature-selection_correlation-decision-tree.json',\n",
       " 'feature-selection_correlation-logistic-regression.json': '../out/grid-search/feature-selection_correlation-logistic-regression.json',\n",
       " 'feature-selection_ols-boosting.json': '../out/grid-search/feature-selection_ols-boosting.json',\n",
       " 'feature-selection_ols-decision-tree.json': '../out/grid-search/feature-selection_ols-decision-tree.json',\n",
       " 'feature-selection_ols-logistic-regression.json': '../out/grid-search/feature-selection_ols-logistic-regression.json',\n",
       " 'feature-selection_rfe-boosting-old.json': '../out/grid-search/feature-selection_rfe-boosting-old.json',\n",
       " 'feature-selection_rfe-boosting.json': '../out/grid-search/feature-selection_rfe-boosting.json',\n",
       " 'feature-selection_rfe-decision-tree.json': '../out/grid-search/feature-selection_rfe-decision-tree.json',\n",
       " 'feature-selection_rfe-logistic-regression.json': '../out/grid-search/feature-selection_rfe-logistic-regression.json',\n",
       " 'feature-selection_sfs-boosting.json': '../out/grid-search/feature-selection_sfs-boosting.json',\n",
       " 'feature-selection_sfs-decision-tree.json': '../out/grid-search/feature-selection_sfs-decision-tree.json',\n",
       " 'feature-selection_sfs-logistic-regression.json': '../out/grid-search/feature-selection_sfs-logistic-regression.json',\n",
       " 'logistic-regression.json': '../out/grid-search/logistic-regression.json'}"
      ]
     },
     "execution_count": 4,
     "metadata": {},
     "output_type": "execute_result"
    }
   ],
   "source": [
    "path_to_results = \"../out/grid-search/\"\n",
    "results = utils.get_files(path_to_results)\n",
    "{model: results[model] for model in sorted(results)}"
   ]
  },
  {
   "cell_type": "markdown",
   "id": "f0a87329-2b0e-4b06-abba-16b4cb9ac7a3",
   "metadata": {},
   "source": [
    "## Benchmark Models"
   ]
  },
  {
   "cell_type": "markdown",
   "id": "f2fcb39e-fdd9-419c-93e3-2e013161d068",
   "metadata": {},
   "source": [
    "### Logistic Regression"
   ]
  },
  {
   "cell_type": "code",
   "execution_count": 5,
   "id": "c09781b7-a8e6-4f0c-b296-57112771b760",
   "metadata": {},
   "outputs": [
    {
     "name": "stdout",
     "output_type": "stream",
     "text": [
      "finished loading results from ../out/grid-search/logistic-regression.json.\n"
     ]
    }
   ],
   "source": [
    "lr = utils.GridSearch(models.sklearn.LogisticRegression, results[\"logistic-regression.json\"])"
   ]
  },
  {
   "cell_type": "code",
   "execution_count": 6,
   "id": "8453798a-57af-4784-b9d6-30088ca8f25c",
   "metadata": {},
   "outputs": [
    {
     "data": {
      "image/png": "[encoded data removed]",
      "text/plain": [
       "<Figure size 432x288 with 1 Axes>"
      ]
     },
     "metadata": {
      "needs_background": "light"
     },
     "output_type": "display_data"
    }
   ],
   "source": [
    "lr.plot()"
   ]
  },
  {
   "cell_type": "code",
   "execution_count": 7,
   "id": "ac24e299-e314-4c56-91db-51500b443d16",
   "metadata": {},
   "outputs": [
    {
     "data": {
      "text/plain": [
       "{'train_test_split': {'to_woe': ['zipcode',\n",
       "   'cd_msa',\n",
       "   'st',\n",
       "   'seller_name',\n",
       "   'servicer_name',\n",
       "   'prop_val_meth',\n",
       "   'prop_type',\n",
       "   'flag_fthb',\n",
       "   'pgrm_ind',\n",
       "   'occpy_sts',\n",
       "   'loan_purpose',\n",
       "   'channel',\n",
       "   'prod_type'],\n",
       "  'scaler': None},\n",
       " 'undersampling': {},\n",
       " 'init': {'penalty': 'l2', 'C': 1, 'class_weight': None, 'n_jobs': -1},\n",
       " 'fit': {},\n",
       " 'predict': {}}"
      ]
     },
     "execution_count": 7,
     "metadata": {},
     "output_type": "execute_result"
    }
   ],
   "source": [
    "lr.set_best(\"gs_1\")\n",
    "lr.params[\"best\"]"
   ]
  },
  {
   "cell_type": "code",
   "execution_count": 8,
   "id": "1e993c3e-fbda-4d74-aa83-d1ffe627b5b2",
   "metadata": {},
   "outputs": [
    {
     "name": "stdout",
     "output_type": "stream",
     "text": [
      "stored dictionary to ../out/grid-search/logistic-regression.json.\n"
     ]
    }
   ],
   "source": [
    "lr.dump()"
   ]
  },
  {
   "cell_type": "markdown",
   "id": "bf7381e4-f903-4b8b-a09a-40d8747f8f91",
   "metadata": {
    "tags": []
   },
   "source": [
    "#### Feature Selection: Correlation"
   ]
  },
  {
   "cell_type": "code",
   "execution_count": 9,
   "id": "05f8799e-86f3-4747-9175-46892a1035f0",
   "metadata": {},
   "outputs": [
    {
     "name": "stdout",
     "output_type": "stream",
     "text": [
      "finished loading results from ../out/grid-search/feature-selection_correlation-logistic-regression.json.\n"
     ]
    }
   ],
   "source": [
    "selection_model = \"correlation\"\n",
    "predictive_model = \"logistic-regression\"\n",
    "lr_corr = utils.GridSearch(models.FeatureSelection, results[f\"feature-selection_{selection_model}-{predictive_model}.json\"])"
   ]
  },
  {
   "cell_type": "code",
   "execution_count": 10,
   "id": "997ff9d8-de16-4ca6-911b-a2ddab053748",
   "metadata": {},
   "outputs": [
    {
     "data": {
      "image/png": "[encoded data removed]",
      "text/plain": [
       "<Figure size 432x288 with 1 Axes>"
      ]
     },
     "metadata": {
      "needs_background": "light"
     },
     "output_type": "display_data"
    }
   ],
   "source": [
    "lr_corr.plot()"
   ]
  },
  {
   "cell_type": "code",
   "execution_count": 11,
   "id": "367e2541-1bdb-463b-8e9e-b56bfb243f87",
   "metadata": {},
   "outputs": [
    {
     "data": {
      "text/plain": [
       "{'train_test_split': {'to_woe': ['zipcode',\n",
       "   'cd_msa',\n",
       "   'st',\n",
       "   'seller_name',\n",
       "   'servicer_name',\n",
       "   'prop_val_meth',\n",
       "   'prop_type',\n",
       "   'flag_fthb',\n",
       "   'pgrm_ind',\n",
       "   'occpy_sts',\n",
       "   'loan_purpose',\n",
       "   'channel',\n",
       "   'prod_type'],\n",
       "  'scaler': 'StandardScaler'},\n",
       " 'undersampling': {},\n",
       " 'init': {'selection_model': 'correlation',\n",
       "  'predictive_model': 'LogisticRegression',\n",
       "  'predictive_init': {'penalty': 'l2',\n",
       "   'C': 0.5,\n",
       "   'class_weight': 'balanced',\n",
       "   'n_jobs': -1}},\n",
       " 'fit': {'predictive_params': {}},\n",
       " 'predict': {}}"
      ]
     },
     "execution_count": 11,
     "metadata": {},
     "output_type": "execute_result"
    }
   ],
   "source": [
    "lr_corr.set_best(\"gs_6\")\n",
    "lr_corr.params[\"best\"]"
   ]
  },
  {
   "cell_type": "code",
   "execution_count": 12,
   "id": "3b473caf-38a1-4c55-8716-21ee224789b5",
   "metadata": {},
   "outputs": [
    {
     "name": "stdout",
     "output_type": "stream",
     "text": [
      "stored dictionary to ../out/grid-search/feature-selection_correlation-logistic-regression.json.\n"
     ]
    }
   ],
   "source": [
    "lr_corr.dump()"
   ]
  },
  {
   "cell_type": "markdown",
   "id": "59cc9a28-bee5-449a-aa18-ffdc04e158c2",
   "metadata": {},
   "source": [
    "#### Feature Selection: OLS"
   ]
  },
  {
   "cell_type": "code",
   "execution_count": 13,
   "id": "9a2c522c-6fcb-4d77-81d2-8cee0b03acda",
   "metadata": {},
   "outputs": [
    {
     "name": "stdout",
     "output_type": "stream",
     "text": [
      "finished loading results from ../out/grid-search/feature-selection_ols-logistic-regression.json.\n"
     ]
    }
   ],
   "source": [
    "selection_model = \"ols\"\n",
    "predictive_model = \"logistic-regression\"\n",
    "lr_ols = utils.GridSearch(models.FeatureSelection, results[f\"feature-selection_{selection_model}-{predictive_model}.json\"])"
   ]
  },
  {
   "cell_type": "code",
   "execution_count": 14,
   "id": "be43de68-64e0-42f4-8d4b-30b056f1e4f2",
   "metadata": {},
   "outputs": [
    {
     "data": {
      "image/png": "[encoded data removed]",
      "text/plain": [
       "<Figure size 432x288 with 1 Axes>"
      ]
     },
     "metadata": {
      "needs_background": "light"
     },
     "output_type": "display_data"
    }
   ],
   "source": [
    "lr_ols.plot()"
   ]
  },
  {
   "cell_type": "code",
   "execution_count": 15,
   "id": "ebefb284-4cbe-452b-beb6-1bfcbb1173cc",
   "metadata": {},
   "outputs": [
    {
     "data": {
      "text/plain": [
       "{'train_test_split': {'to_woe': ['zipcode',\n",
       "   'cd_msa',\n",
       "   'st',\n",
       "   'seller_name',\n",
       "   'servicer_name',\n",
       "   'prop_val_meth',\n",
       "   'prop_type',\n",
       "   'flag_fthb',\n",
       "   'pgrm_ind',\n",
       "   'occpy_sts',\n",
       "   'loan_purpose',\n",
       "   'channel',\n",
       "   'prod_type'],\n",
       "  'scaler': 'StandardScaler'},\n",
       " 'undersampling': {},\n",
       " 'init': {'selection_model': 'ols',\n",
       "  'predictive_model': 'LogisticRegression',\n",
       "  'predictive_init': {'penalty': 'l2',\n",
       "   'C': 0.5,\n",
       "   'class_weight': None,\n",
       "   'n_jobs': -1}},\n",
       " 'fit': {'predictive_params': {}},\n",
       " 'predict': {}}"
      ]
     },
     "execution_count": 15,
     "metadata": {},
     "output_type": "execute_result"
    }
   ],
   "source": [
    "lr_ols.set_best(\"gs_5\")\n",
    "lr_ols.params[\"best\"]"
   ]
  },
  {
   "cell_type": "code",
   "execution_count": 16,
   "id": "82e5b872-2965-490c-8fd9-d1025c1b0f81",
   "metadata": {},
   "outputs": [
    {
     "name": "stdout",
     "output_type": "stream",
     "text": [
      "stored dictionary to ../out/grid-search/feature-selection_ols-logistic-regression.json.\n"
     ]
    }
   ],
   "source": [
    "lr_ols.dump()"
   ]
  },
  {
   "cell_type": "markdown",
   "id": "c2b05e9a-eddf-4d38-a161-9c6f90badfa6",
   "metadata": {},
   "source": [
    "#### Feature Selection: RFE"
   ]
  },
  {
   "cell_type": "code",
   "execution_count": 17,
   "id": "d044a6d8-537c-4fae-beae-b8b84e6cc832",
   "metadata": {},
   "outputs": [
    {
     "name": "stdout",
     "output_type": "stream",
     "text": [
      "finished loading results from ../out/grid-search/feature-selection_rfe-logistic-regression.json.\n"
     ]
    }
   ],
   "source": [
    "selection_model = \"rfe\"\n",
    "predictive_model = \"logistic-regression\"\n",
    "lr_rfe = utils.GridSearch(models.FeatureSelection, results[f\"feature-selection_{selection_model}-{predictive_model}.json\"])"
   ]
  },
  {
   "cell_type": "code",
   "execution_count": 18,
   "id": "8184dd7c-dbc2-42bd-8784-a5bb1e8a94f0",
   "metadata": {},
   "outputs": [
    {
     "data": {
      "image/png": "[encoded data removed]",
      "text/plain": [
       "<Figure size 432x288 with 1 Axes>"
      ]
     },
     "metadata": {
      "needs_background": "light"
     },
     "output_type": "display_data"
    }
   ],
   "source": [
    "lr_rfe.plot()"
   ]
  },
  {
   "cell_type": "code",
   "execution_count": 19,
   "id": "57f68013-093d-4df0-b213-943c2073f918",
   "metadata": {},
   "outputs": [
    {
     "data": {
      "text/plain": [
       "{'train_test_split': {'to_woe': ['zipcode',\n",
       "   'cd_msa',\n",
       "   'st',\n",
       "   'seller_name',\n",
       "   'servicer_name',\n",
       "   'prop_val_meth',\n",
       "   'prop_type',\n",
       "   'flag_fthb',\n",
       "   'pgrm_ind',\n",
       "   'occpy_sts',\n",
       "   'loan_purpose',\n",
       "   'channel',\n",
       "   'prod_type'],\n",
       "  'scaler': 'StandardScaler'},\n",
       " 'undersampling': {},\n",
       " 'init': {'selection_model': 'rfe',\n",
       "  'predictive_model': 'LogisticRegression',\n",
       "  'predictive_init': {'penalty': 'l2',\n",
       "   'C': 0.5,\n",
       "   'class_weight': 'balanced',\n",
       "   'n_jobs': -1}},\n",
       " 'fit': {'predictive_params': {}},\n",
       " 'predict': {}}"
      ]
     },
     "execution_count": 19,
     "metadata": {},
     "output_type": "execute_result"
    }
   ],
   "source": [
    "lr_rfe.set_best(\"gs_6\")\n",
    "lr_rfe.params[\"best\"]"
   ]
  },
  {
   "cell_type": "code",
   "execution_count": 20,
   "id": "380bef44-2b1e-43aa-8f17-d8e069761fe9",
   "metadata": {},
   "outputs": [
    {
     "name": "stdout",
     "output_type": "stream",
     "text": [
      "stored dictionary to ../out/grid-search/feature-selection_rfe-logistic-regression.json.\n"
     ]
    }
   ],
   "source": [
    "lr_rfe.dump()"
   ]
  },
  {
   "cell_type": "markdown",
   "id": "177dac51-db65-4d6e-a5f5-d566bd76cac3",
   "metadata": {},
   "source": [
    "#### Feature Selection: SFS"
   ]
  },
  {
   "cell_type": "code",
   "execution_count": 21,
   "id": "97c8a88a-4142-4fd8-9db9-590152912e73",
   "metadata": {},
   "outputs": [
    {
     "name": "stdout",
     "output_type": "stream",
     "text": [
      "finished loading results from ../out/grid-search/feature-selection_sfs-logistic-regression.json.\n"
     ]
    }
   ],
   "source": [
    "selection_model = \"sfs\"\n",
    "predictive_model = \"logistic-regression\"\n",
    "lr_sfs = utils.GridSearch(models.FeatureSelection, results[f\"feature-selection_{selection_model}-{predictive_model}.json\"])"
   ]
  },
  {
   "cell_type": "code",
   "execution_count": 22,
   "id": "688b72cc-6d75-47b6-948d-03a381391cd3",
   "metadata": {},
   "outputs": [
    {
     "data": {
      "image/png": "[encoded data removed]",
      "text/plain": [
       "<Figure size 432x288 with 1 Axes>"
      ]
     },
     "metadata": {
      "needs_background": "light"
     },
     "output_type": "display_data"
    }
   ],
   "source": [
    "lr_sfs.plot()"
   ]
  },
  {
   "cell_type": "code",
   "execution_count": 23,
   "id": "6ab6edfa-9841-4136-b9bd-b5db08012288",
   "metadata": {},
   "outputs": [
    {
     "data": {
      "text/plain": [
       "{'train_test_split': {'to_woe': ['zipcode',\n",
       "   'cd_msa',\n",
       "   'st',\n",
       "   'seller_name',\n",
       "   'servicer_name',\n",
       "   'prop_val_meth',\n",
       "   'prop_type',\n",
       "   'flag_fthb',\n",
       "   'pgrm_ind',\n",
       "   'occpy_sts',\n",
       "   'loan_purpose',\n",
       "   'channel',\n",
       "   'prod_type'],\n",
       "  'scaler': 'StandardScaler'},\n",
       " 'undersampling': {},\n",
       " 'init': {'selection_model': 'sfs',\n",
       "  'predictive_model': 'LogisticRegression',\n",
       "  'predictive_init': {'penalty': 'l2',\n",
       "   'C': 0.75,\n",
       "   'class_weight': 'balanced',\n",
       "   'n_jobs': -1}},\n",
       " 'fit': {'predictive_params': {}},\n",
       " 'predict': {}}"
      ]
     },
     "execution_count": 23,
     "metadata": {},
     "output_type": "execute_result"
    }
   ],
   "source": [
    "lr_sfs.set_best(\"gs_4\")\n",
    "lr_sfs.params[\"best\"]"
   ]
  },
  {
   "cell_type": "code",
   "execution_count": 24,
   "id": "cd1dc08e-74a3-4b55-9f39-32464e5f109d",
   "metadata": {},
   "outputs": [
    {
     "name": "stdout",
     "output_type": "stream",
     "text": [
      "stored dictionary to ../out/grid-search/feature-selection_sfs-logistic-regression.json.\n"
     ]
    }
   ],
   "source": [
    "lr_sfs.dump()"
   ]
  },
  {
   "cell_type": "markdown",
   "id": "4ae31009-349d-45ee-bfaf-49c48b3bd29b",
   "metadata": {},
   "source": [
    "### Decision Tree"
   ]
  },
  {
   "cell_type": "code",
   "execution_count": 25,
   "id": "b2b9705e-f0de-43fe-8d60-8d22d357f795",
   "metadata": {},
   "outputs": [
    {
     "name": "stdout",
     "output_type": "stream",
     "text": [
      "finished loading results from ../out/grid-search/decision-tree.json.\n"
     ]
    }
   ],
   "source": [
    "dt = utils.GridSearch(models.sklearn.DecisionTreeClassifier, results[\"decision-tree.json\"])"
   ]
  },
  {
   "cell_type": "code",
   "execution_count": 26,
   "id": "e3485d47-5925-442c-bc3a-e441e79eb12c",
   "metadata": {},
   "outputs": [
    {
     "data": {
      "image/png": "[encoded data removed]",
      "text/plain": [
       "<Figure size 2160x720 with 1 Axes>"
      ]
     },
     "metadata": {
      "needs_background": "light"
     },
     "output_type": "display_data"
    }
   ],
   "source": [
    "dt.evaluate()\n",
    "dt.plot(figsize=(30, 10))"
   ]
  },
  {
   "cell_type": "code",
   "execution_count": 27,
   "id": "7a2ceeea-6eba-454f-b259-6c6f351d80b7",
   "metadata": {},
   "outputs": [
    {
     "data": {
      "text/plain": [
       "{'train_test_split': {'to_woe': ['zipcode',\n",
       "   'cd_msa',\n",
       "   'st',\n",
       "   'seller_name',\n",
       "   'servicer_name',\n",
       "   'prop_val_meth',\n",
       "   'prop_type',\n",
       "   'flag_fthb',\n",
       "   'pgrm_ind',\n",
       "   'occpy_sts',\n",
       "   'loan_purpose',\n",
       "   'channel',\n",
       "   'prod_type'],\n",
       "  'scaler': 'StandardScaler'},\n",
       " 'undersampling': {},\n",
       " 'init': {'max_depth': 10,\n",
       "  'max_features': None,\n",
       "  'min_samples_leaf': 0.01,\n",
       "  'class_weight': None,\n",
       "  'random_state': 123},\n",
       " 'fit': {},\n",
       " 'predict': {}}"
      ]
     },
     "execution_count": 27,
     "metadata": {},
     "output_type": "execute_result"
    }
   ],
   "source": [
    "dt.set_best(\"gs_53\")\n",
    "dt.params[\"best\"]"
   ]
  },
  {
   "cell_type": "code",
   "execution_count": 28,
   "id": "a0993091-255a-4afa-8139-91c0ca9d1b3d",
   "metadata": {},
   "outputs": [
    {
     "name": "stdout",
     "output_type": "stream",
     "text": [
      "stored dictionary to ../out/grid-search/decision-tree.json.\n"
     ]
    }
   ],
   "source": [
    "dt.dump()"
   ]
  },
  {
   "cell_type": "markdown",
   "id": "7eed8e51-bd0b-4525-a421-4558f2755a6c",
   "metadata": {
    "tags": []
   },
   "source": [
    "#### Feature Selection: Correlation"
   ]
  },
  {
   "cell_type": "code",
   "execution_count": 29,
   "id": "f32f2a30-07ff-4d0b-9af5-2c0aafd7c950",
   "metadata": {},
   "outputs": [
    {
     "name": "stdout",
     "output_type": "stream",
     "text": [
      "finished loading results from ../out/grid-search/feature-selection_correlation-decision-tree.json.\n"
     ]
    }
   ],
   "source": [
    "selection_model = \"correlation\"\n",
    "predictive_model = \"decision-tree\"\n",
    "dt_corr = utils.GridSearch(models.FeatureSelection, results[f\"feature-selection_{selection_model}-{predictive_model}.json\"])"
   ]
  },
  {
   "cell_type": "code",
   "execution_count": 30,
   "id": "19f7cdf5-c5fe-4942-8a88-fe83d770cdb6",
   "metadata": {},
   "outputs": [
    {
     "data": {
      "image/png": "[encoded data removed]",
      "text/plain": [
       "<Figure size 1440x432 with 1 Axes>"
      ]
     },
     "metadata": {
      "needs_background": "light"
     },
     "output_type": "display_data"
    }
   ],
   "source": [
    "dt_corr.plot(figsize=(20, 6))"
   ]
  },
  {
   "cell_type": "code",
   "execution_count": 31,
   "id": "c650080d-8e73-476e-a650-ae5fcc209a94",
   "metadata": {},
   "outputs": [
    {
     "data": {
      "text/plain": [
       "{'train_test_split': {'to_woe': ['zipcode',\n",
       "   'cd_msa',\n",
       "   'st',\n",
       "   'seller_name',\n",
       "   'servicer_name',\n",
       "   'prop_val_meth',\n",
       "   'prop_type',\n",
       "   'flag_fthb',\n",
       "   'pgrm_ind',\n",
       "   'occpy_sts',\n",
       "   'loan_purpose',\n",
       "   'channel',\n",
       "   'prod_type'],\n",
       "  'scaler': 'StandardScaler'},\n",
       " 'undersampling': {},\n",
       " 'init': {'selection_model': 'correlation',\n",
       "  'predictive_model': 'DecisionTreeClassifier',\n",
       "  'predictive_init': {'max_depth': 10,\n",
       "   'max_features': None,\n",
       "   'min_samples_leaf': 0.01,\n",
       "   'class_weight': None,\n",
       "   'random_state': 123}},\n",
       " 'fit': {'predictive_params': {}},\n",
       " 'predict': {}}"
      ]
     },
     "execution_count": 31,
     "metadata": {},
     "output_type": "execute_result"
    }
   ],
   "source": [
    "dt_corr.set_best(\"gs_60\")\n",
    "dt_corr.params[\"best\"]"
   ]
  },
  {
   "cell_type": "code",
   "execution_count": 32,
   "id": "11168aeb-08a0-46c0-85ea-a5aeb05e0049",
   "metadata": {},
   "outputs": [
    {
     "name": "stdout",
     "output_type": "stream",
     "text": [
      "stored dictionary to ../out/grid-search/feature-selection_correlation-decision-tree.json.\n"
     ]
    }
   ],
   "source": [
    "dt_corr.dump()"
   ]
  },
  {
   "cell_type": "markdown",
   "id": "a1aa7633-13f1-48b9-999a-599844c91974",
   "metadata": {},
   "source": [
    "#### Feature Selection: OLS"
   ]
  },
  {
   "cell_type": "code",
   "execution_count": 33,
   "id": "e94aa41d-c674-4bcb-86e0-eec02dc9385d",
   "metadata": {},
   "outputs": [
    {
     "name": "stdout",
     "output_type": "stream",
     "text": [
      "finished loading results from ../out/grid-search/feature-selection_ols-decision-tree.json.\n"
     ]
    }
   ],
   "source": [
    "selection_model = \"ols\"\n",
    "predictive_model = \"decision-tree\"\n",
    "dt_ols = utils.GridSearch(models.FeatureSelection, results[f\"feature-selection_{selection_model}-{predictive_model}.json\"])"
   ]
  },
  {
   "cell_type": "code",
   "execution_count": 34,
   "id": "2ca7da36-53b3-4f73-a645-2859c5cf2b1d",
   "metadata": {},
   "outputs": [
    {
     "data": {
      "image/png": "[encoded data removed]",
      "text/plain": [
       "<Figure size 1440x432 with 1 Axes>"
      ]
     },
     "metadata": {
      "needs_background": "light"
     },
     "output_type": "display_data"
    }
   ],
   "source": [
    "dt_ols.plot(figsize=(20, 6))"
   ]
  },
  {
   "cell_type": "code",
   "execution_count": 35,
   "id": "57c12fb3-4800-451f-9566-81fb613042bc",
   "metadata": {},
   "outputs": [
    {
     "data": {
      "text/plain": [
       "{'train_test_split': {'to_woe': ['zipcode',\n",
       "   'cd_msa',\n",
       "   'st',\n",
       "   'seller_name',\n",
       "   'servicer_name',\n",
       "   'prop_val_meth',\n",
       "   'prop_type',\n",
       "   'flag_fthb',\n",
       "   'pgrm_ind',\n",
       "   'occpy_sts',\n",
       "   'loan_purpose',\n",
       "   'channel',\n",
       "   'prod_type'],\n",
       "  'scaler': 'StandardScaler'},\n",
       " 'undersampling': {},\n",
       " 'init': {'selection_model': 'ols',\n",
       "  'predictive_model': 'DecisionTreeClassifier',\n",
       "  'predictive_init': {'max_depth': 10,\n",
       "   'max_features': 'sqrt',\n",
       "   'min_samples_leaf': 0.01,\n",
       "   'class_weight': None,\n",
       "   'random_state': 123}},\n",
       " 'fit': {'predictive_params': {}},\n",
       " 'predict': {}}"
      ]
     },
     "execution_count": 35,
     "metadata": {},
     "output_type": "execute_result"
    }
   ],
   "source": [
    "dt_ols.set_best(\"gs_61\")\n",
    "dt_ols.params[\"best\"]"
   ]
  },
  {
   "cell_type": "code",
   "execution_count": 36,
   "id": "5a7b9c82-9b29-4d30-96a4-82796ef7ba1c",
   "metadata": {},
   "outputs": [
    {
     "name": "stdout",
     "output_type": "stream",
     "text": [
      "stored dictionary to ../out/grid-search/feature-selection_ols-decision-tree.json.\n"
     ]
    }
   ],
   "source": [
    "dt_ols.dump()"
   ]
  },
  {
   "cell_type": "markdown",
   "id": "56def7fa-53e4-4824-aae7-dc8eee6bb303",
   "metadata": {},
   "source": [
    "#### Feature Selection: RFE"
   ]
  },
  {
   "cell_type": "code",
   "execution_count": 37,
   "id": "57d2535a-d208-4288-9c94-6bab7d63cfa8",
   "metadata": {},
   "outputs": [
    {
     "name": "stdout",
     "output_type": "stream",
     "text": [
      "finished loading results from ../out/grid-search/feature-selection_rfe-decision-tree.json.\n"
     ]
    }
   ],
   "source": [
    "selection_model = \"rfe\"\n",
    "predictive_model = \"decision-tree\"\n",
    "dt_rfe = utils.GridSearch(models.FeatureSelection, results[f\"feature-selection_{selection_model}-{predictive_model}.json\"])"
   ]
  },
  {
   "cell_type": "code",
   "execution_count": 38,
   "id": "8e4c9ad6-0c82-426a-942a-a80045c5fc94",
   "metadata": {},
   "outputs": [
    {
     "data": {
      "image/png": "[encoded data removed]",
      "text/plain": [
       "<Figure size 1440x432 with 1 Axes>"
      ]
     },
     "metadata": {
      "needs_background": "light"
     },
     "output_type": "display_data"
    }
   ],
   "source": [
    "dt_rfe.plot(figsize=(20,6))"
   ]
  },
  {
   "cell_type": "code",
   "execution_count": 39,
   "id": "fa94d2e5-2b07-41da-b773-73b0a556f21d",
   "metadata": {},
   "outputs": [
    {
     "data": {
      "text/plain": [
       "{'train_test_split': {'to_woe': ['zipcode',\n",
       "   'cd_msa',\n",
       "   'st',\n",
       "   'seller_name',\n",
       "   'servicer_name',\n",
       "   'prop_val_meth',\n",
       "   'prop_type',\n",
       "   'flag_fthb',\n",
       "   'pgrm_ind',\n",
       "   'occpy_sts',\n",
       "   'loan_purpose',\n",
       "   'channel',\n",
       "   'prod_type'],\n",
       "  'scaler': 'StandardScaler'},\n",
       " 'undersampling': {},\n",
       " 'init': {'selection_model': 'rfe',\n",
       "  'predictive_model': 'DecisionTreeClassifier',\n",
       "  'predictive_init': {'max_depth': 3,\n",
       "   'max_features': 'sqrt',\n",
       "   'min_samples_leaf': 0.1,\n",
       "   'class_weight': None,\n",
       "   'random_state': 123}},\n",
       " 'fit': {'predictive_params': {}},\n",
       " 'predict': {}}"
      ]
     },
     "execution_count": 39,
     "metadata": {},
     "output_type": "execute_result"
    }
   ],
   "source": [
    "dt_rfe.set_best(\"gs_31\")\n",
    "dt_rfe.params[\"best\"]"
   ]
  },
  {
   "cell_type": "code",
   "execution_count": 40,
   "id": "e525d43d-32c4-4dc9-a75e-3cc53306e0a3",
   "metadata": {},
   "outputs": [
    {
     "name": "stdout",
     "output_type": "stream",
     "text": [
      "stored dictionary to ../out/grid-search/feature-selection_rfe-decision-tree.json.\n"
     ]
    }
   ],
   "source": [
    "dt_rfe.dump()"
   ]
  },
  {
   "cell_type": "markdown",
   "id": "51f8a73e-a2b6-45b8-b306-9cd64370fcc7",
   "metadata": {},
   "source": [
    "#### Feature Selection: SFS"
   ]
  },
  {
   "cell_type": "code",
   "execution_count": 41,
   "id": "d79da4b8-e64e-4caa-97ed-d185f4a3068b",
   "metadata": {},
   "outputs": [
    {
     "name": "stdout",
     "output_type": "stream",
     "text": [
      "finished loading results from ../out/grid-search/feature-selection_sfs-decision-tree.json.\n"
     ]
    }
   ],
   "source": [
    "selection_model = \"sfs\"\n",
    "predictive_model = \"decision-tree\"\n",
    "dt_sfs = utils.GridSearch(models.FeatureSelection, results[f\"feature-selection_{selection_model}-{predictive_model}.json\"])"
   ]
  },
  {
   "cell_type": "code",
   "execution_count": 42,
   "id": "19d224e7-ad8c-4a23-926a-a24a2f83f461",
   "metadata": {},
   "outputs": [
    {
     "data": {
      "image/png": "[encoded data removed]",
      "text/plain": [
       "<Figure size 1440x432 with 1 Axes>"
      ]
     },
     "metadata": {
      "needs_background": "light"
     },
     "output_type": "display_data"
    }
   ],
   "source": [
    "dt_sfs.plot(figsize=(20, 6))"
   ]
  },
  {
   "cell_type": "code",
   "execution_count": 43,
   "id": "b2189237-e3c1-4291-b1e8-9269d58e418f",
   "metadata": {},
   "outputs": [
    {
     "data": {
      "text/plain": [
       "{'train_test_split': {'to_woe': ['zipcode',\n",
       "   'cd_msa',\n",
       "   'st',\n",
       "   'seller_name',\n",
       "   'servicer_name',\n",
       "   'prop_val_meth',\n",
       "   'prop_type',\n",
       "   'flag_fthb',\n",
       "   'pgrm_ind',\n",
       "   'occpy_sts',\n",
       "   'loan_purpose',\n",
       "   'channel',\n",
       "   'prod_type'],\n",
       "  'scaler': 'StandardScaler'},\n",
       " 'undersampling': {},\n",
       " 'init': {'selection_model': 'sfs',\n",
       "  'predictive_model': 'DecisionTreeClassifier',\n",
       "  'predictive_init': {'max_depth': 3,\n",
       "   'max_features': None,\n",
       "   'min_samples_leaf': 0.01,\n",
       "   'class_weight': 'balanced',\n",
       "   'random_state': 123}},\n",
       " 'fit': {'predictive_params': {}},\n",
       " 'predict': {}}"
      ]
     },
     "execution_count": 43,
     "metadata": {},
     "output_type": "execute_result"
    }
   ],
   "source": [
    "dt_sfs.set_best(\"gs_22\")\n",
    "dt_sfs.params[\"best\"]"
   ]
  },
  {
   "cell_type": "code",
   "execution_count": 44,
   "id": "86d3e0a4-7a3e-4369-8ee6-68b0ca82a19f",
   "metadata": {},
   "outputs": [
    {
     "name": "stdout",
     "output_type": "stream",
     "text": [
      "stored dictionary to ../out/grid-search/feature-selection_sfs-decision-tree.json.\n"
     ]
    }
   ],
   "source": [
    "dt_sfs.dump()"
   ]
  },
  {
   "cell_type": "markdown",
   "id": "494dd539-4449-4527-8b85-826b42db2ea6",
   "metadata": {},
   "source": [
    "### Gradient Boosting "
   ]
  },
  {
   "cell_type": "code",
   "execution_count": 45,
   "id": "ffdd9613-6a8f-4b03-adf2-a1419cd9edce",
   "metadata": {},
   "outputs": [
    {
     "name": "stdout",
     "output_type": "stream",
     "text": [
      "finished loading results from ../out/grid-search/boosting.json.\n"
     ]
    }
   ],
   "source": [
    "gb = utils.GridSearch(models.sklearn.GradientBoostingClassifier, results[\"boosting.json\"])"
   ]
  },
  {
   "cell_type": "code",
   "execution_count": 46,
   "id": "67a1f13b-6c87-4ce0-a86d-517504c5cea7",
   "metadata": {},
   "outputs": [
    {
     "data": {
      "image/png": "[encoded data removed]",
      "text/plain": [
       "<Figure size 1800x432 with 1 Axes>"
      ]
     },
     "metadata": {
      "needs_background": "light"
     },
     "output_type": "display_data"
    }
   ],
   "source": [
    "gb.evaluate()\n",
    "gb.plot(figsize=(25,6))"
   ]
  },
  {
   "cell_type": "code",
   "execution_count": 47,
   "id": "0e08e3a3-8469-4051-adde-402eefe93991",
   "metadata": {},
   "outputs": [
    {
     "data": {
      "text/plain": [
       "{'train_test_split': {'to_woe': ['zipcode',\n",
       "   'cd_msa',\n",
       "   'st',\n",
       "   'seller_name',\n",
       "   'servicer_name',\n",
       "   'prop_val_meth',\n",
       "   'prop_type',\n",
       "   'flag_fthb',\n",
       "   'pgrm_ind',\n",
       "   'occpy_sts',\n",
       "   'loan_purpose',\n",
       "   'channel',\n",
       "   'prod_type'],\n",
       "  'scaler': 'StandardScaler'},\n",
       " 'undersampling': {},\n",
       " 'init': {'learning_rate': 0.1,\n",
       "  'subsample': 1,\n",
       "  'min_samples_leaf': 1,\n",
       "  'max_depth': 3,\n",
       "  'max_features': None},\n",
       " 'fit': {},\n",
       " 'predict': {}}"
      ]
     },
     "execution_count": 47,
     "metadata": {},
     "output_type": "execute_result"
    }
   ],
   "source": [
    "gb.set_best(\"gs_1\")\n",
    "gb.params[\"best\"]"
   ]
  },
  {
   "cell_type": "code",
   "execution_count": 48,
   "id": "c99bf08d-27db-4a92-bc40-9fde79a7c3be",
   "metadata": {},
   "outputs": [
    {
     "name": "stdout",
     "output_type": "stream",
     "text": [
      "stored dictionary to ../out/grid-search/boosting.json.\n"
     ]
    }
   ],
   "source": [
    "gb.dump()"
   ]
  },
  {
   "cell_type": "markdown",
   "id": "668f62b3-c2c4-42e8-908e-6f0eaa318f60",
   "metadata": {
    "tags": []
   },
   "source": [
    "#### Feature Selection: Correlation"
   ]
  },
  {
   "cell_type": "code",
   "execution_count": 49,
   "id": "9b1356d0-afda-42a7-8aa3-f29602c16e7b",
   "metadata": {},
   "outputs": [
    {
     "name": "stdout",
     "output_type": "stream",
     "text": [
      "finished loading results from ../out/grid-search/feature-selection_correlation-boosting.json.\n"
     ]
    }
   ],
   "source": [
    "selection_model = \"correlation\"\n",
    "predictive_model = \"boosting\"\n",
    "gb_corr = utils.GridSearch(models.FeatureSelection, results[f\"feature-selection_{selection_model}-{predictive_model}.json\"])"
   ]
  },
  {
   "cell_type": "code",
   "execution_count": 50,
   "id": "b08252d2-d1c5-4af8-a7fb-9fcdd728ce90",
   "metadata": {},
   "outputs": [
    {
     "data": {
      "image/png": "[encoded data removed]",
      "text/plain": [
       "<Figure size 1800x432 with 1 Axes>"
      ]
     },
     "metadata": {
      "needs_background": "light"
     },
     "output_type": "display_data"
    }
   ],
   "source": [
    "gb_corr.plot(figsize=(25, 6))"
   ]
  },
  {
   "cell_type": "code",
   "execution_count": 51,
   "id": "8e212291-c110-443c-b523-ebd724d8b5f3",
   "metadata": {},
   "outputs": [
    {
     "data": {
      "text/plain": [
       "{'train_test_split': {'to_woe': ['zipcode',\n",
       "   'cd_msa',\n",
       "   'st',\n",
       "   'seller_name',\n",
       "   'servicer_name',\n",
       "   'prop_val_meth',\n",
       "   'prop_type',\n",
       "   'flag_fthb',\n",
       "   'pgrm_ind',\n",
       "   'occpy_sts',\n",
       "   'loan_purpose',\n",
       "   'channel',\n",
       "   'prod_type'],\n",
       "  'scaler': 'StandardScaler'},\n",
       " 'undersampling': {},\n",
       " 'init': {'selection_model': 'correlation',\n",
       "  'predictive_model': 'GradientBoostingClassifier',\n",
       "  'predictive_init': {'learning_rate': 0.1,\n",
       "   'subsample': 1,\n",
       "   'min_samples_leaf': 1,\n",
       "   'max_depth': 3,\n",
       "   'max_features': None}},\n",
       " 'fit': {'predictive_params': {}},\n",
       " 'predict': {}}"
      ]
     },
     "execution_count": 51,
     "metadata": {},
     "output_type": "execute_result"
    }
   ],
   "source": [
    "gb_corr.set_best(\"gs_1\")\n",
    "gb_corr.params[\"best\"]"
   ]
  },
  {
   "cell_type": "code",
   "execution_count": 52,
   "id": "9dcef419-7f69-460a-a49a-5c4f4e6b14ef",
   "metadata": {},
   "outputs": [
    {
     "name": "stdout",
     "output_type": "stream",
     "text": [
      "stored dictionary to ../out/grid-search/feature-selection_correlation-boosting.json.\n"
     ]
    }
   ],
   "source": [
    "gb_corr.dump()"
   ]
  },
  {
   "cell_type": "markdown",
   "id": "ad322a4d-884f-46d9-94f6-12d6f0d183bf",
   "metadata": {},
   "source": [
    "#### Feature Selection: OLS"
   ]
  },
  {
   "cell_type": "code",
   "execution_count": 53,
   "id": "b9af9edb-d851-46a8-84a6-1ec9b398b9e6",
   "metadata": {},
   "outputs": [
    {
     "name": "stdout",
     "output_type": "stream",
     "text": [
      "finished loading results from ../out/grid-search/feature-selection_ols-boosting.json.\n"
     ]
    }
   ],
   "source": [
    "selection_model = \"ols\"\n",
    "predictive_model = \"boosting\"\n",
    "gb_ols = utils.GridSearch(models.FeatureSelection, results[f\"feature-selection_{selection_model}-{predictive_model}.json\"])"
   ]
  },
  {
   "cell_type": "code",
   "execution_count": 54,
   "id": "a79f7790-fc3a-49a3-9630-bce974b1da90",
   "metadata": {},
   "outputs": [
    {
     "data": {
      "image/png": "[encoded data removed]",
      "text/plain": [
       "<Figure size 1800x432 with 1 Axes>"
      ]
     },
     "metadata": {
      "needs_background": "light"
     },
     "output_type": "display_data"
    }
   ],
   "source": [
    "gb_ols.plot(figsize=(25, 6))"
   ]
  },
  {
   "cell_type": "code",
   "execution_count": 55,
   "id": "2a5ec63b-c913-4634-bd87-e759e4ad8661",
   "metadata": {},
   "outputs": [
    {
     "data": {
      "text/plain": [
       "{'train_test_split': {'to_woe': ['zipcode',\n",
       "   'cd_msa',\n",
       "   'st',\n",
       "   'seller_name',\n",
       "   'servicer_name',\n",
       "   'prop_val_meth',\n",
       "   'prop_type',\n",
       "   'flag_fthb',\n",
       "   'pgrm_ind',\n",
       "   'occpy_sts',\n",
       "   'loan_purpose',\n",
       "   'channel',\n",
       "   'prod_type'],\n",
       "  'scaler': 'StandardScaler'},\n",
       " 'undersampling': {},\n",
       " 'init': {'selection_model': 'ols',\n",
       "  'predictive_model': 'GradientBoostingClassifier',\n",
       "  'predictive_init': {'learning_rate': 0.1,\n",
       "   'subsample': 1,\n",
       "   'min_samples_leaf': 1,\n",
       "   'max_depth': 3,\n",
       "   'max_features': 'sqrt'}},\n",
       " 'fit': {'predictive_params': {}},\n",
       " 'predict': {}}"
      ]
     },
     "execution_count": 55,
     "metadata": {},
     "output_type": "execute_result"
    }
   ],
   "source": [
    "gb_ols.set_best(\"gs_2\")\n",
    "gb_ols.params[\"best\"]"
   ]
  },
  {
   "cell_type": "code",
   "execution_count": 56,
   "id": "00288fa0-5bbc-4d05-95b7-acf7f46428c5",
   "metadata": {},
   "outputs": [
    {
     "name": "stdout",
     "output_type": "stream",
     "text": [
      "stored dictionary to ../out/grid-search/feature-selection_ols-boosting.json.\n"
     ]
    }
   ],
   "source": [
    "gb_ols.dump()"
   ]
  },
  {
   "cell_type": "markdown",
   "id": "690b0015-282b-4ce8-b17b-82627dc787c9",
   "metadata": {},
   "source": [
    "#### Feature Selection: RFE\n",
    "\n",
    "Due to a long training time for the RFE-Gradient Boosting combination, we refrain from performing a grid search for this model and choose the default parameter for training the model."
   ]
  },
  {
   "cell_type": "code",
   "execution_count": 57,
   "id": "37445350-495f-4cef-98c3-a9905a7dd6dc",
   "metadata": {},
   "outputs": [
    {
     "name": "stdout",
     "output_type": "stream",
     "text": [
      "finished loading results from ../out/grid-search/feature-selection_rfe-boosting.json.\n"
     ]
    }
   ],
   "source": [
    "selection_model = \"rfe\"\n",
    "predictive_model = \"boosting\"\n",
    "gb_rfe = utils.GridSearch(models.FeatureSelection, results[f\"feature-selection_{selection_model}-{predictive_model}.json\"])"
   ]
  },
  {
   "cell_type": "code",
   "execution_count": 58,
   "id": "4d339a3f-2a2e-4951-b2f6-5717897b5eb3",
   "metadata": {},
   "outputs": [
    {
     "data": {
      "image/png": "[encoded data removed]",
      "text/plain": [
       "<Figure size 144x432 with 1 Axes>"
      ]
     },
     "metadata": {
      "needs_background": "light"
     },
     "output_type": "display_data"
    }
   ],
   "source": [
    "gb_rfe.plot(figsize=(2, 6))"
   ]
  },
  {
   "cell_type": "code",
   "execution_count": 59,
   "id": "8e78dd44-8bc9-4f06-8a0f-ce541e629c02",
   "metadata": {},
   "outputs": [
    {
     "data": {
      "text/plain": [
       "{'train_test_split': {'to_woe': ['zipcode',\n",
       "   'cd_msa',\n",
       "   'st',\n",
       "   'seller_name',\n",
       "   'servicer_name',\n",
       "   'prop_val_meth',\n",
       "   'prop_type',\n",
       "   'flag_fthb',\n",
       "   'pgrm_ind',\n",
       "   'occpy_sts',\n",
       "   'loan_purpose',\n",
       "   'channel',\n",
       "   'prod_type'],\n",
       "  'scaler': 'StandardScaler'},\n",
       " 'undersampling': {},\n",
       " 'init': {'selection_model': 'rfe',\n",
       "  'predictive_model': 'GradientBoostingClassifier',\n",
       "  'selection_init': {'cv': 2},\n",
       "  'predictive_init': {}},\n",
       " 'fit': {'predictive_params': {}},\n",
       " 'predict': {}}"
      ]
     },
     "execution_count": 59,
     "metadata": {},
     "output_type": "execute_result"
    }
   ],
   "source": [
    "gb_rfe.set_best(\"gs_3\")\n",
    "gb_rfe.params[\"best\"]"
   ]
  },
  {
   "cell_type": "code",
   "execution_count": 60,
   "id": "2e369dae-c974-4ef8-bcaf-9b90587d7dce",
   "metadata": {},
   "outputs": [
    {
     "name": "stdout",
     "output_type": "stream",
     "text": [
      "stored dictionary to ../out/grid-search/feature-selection_rfe-boosting.json.\n"
     ]
    }
   ],
   "source": [
    "gb_rfe.dump()"
   ]
  },
  {
   "cell_type": "markdown",
   "id": "96371cd0-ea7a-4397-9f75-c9ecbf5c4244",
   "metadata": {},
   "source": [
    "#### Feature Selection: SFS\n",
    "\n",
    "Due to a long training time for the SFS-Gradient Boosting combination, we refrain from performing a grid search for this model and choose the default parameter for training the model."
   ]
  },
  {
   "cell_type": "code",
   "execution_count": 61,
   "id": "c79c01a8-ab2d-407d-8b3e-77f5b8df0aec",
   "metadata": {},
   "outputs": [
    {
     "name": "stdout",
     "output_type": "stream",
     "text": [
      "finished loading results from ../out/grid-search/feature-selection_sfs-boosting.json.\n"
     ]
    }
   ],
   "source": [
    "selection_model = \"sfs\"\n",
    "predictive_model = \"boosting\"\n",
    "gb_sfs = utils.GridSearch(models.FeatureSelection, results[f\"feature-selection_{selection_model}-{predictive_model}.json\"])"
   ]
  },
  {
   "cell_type": "code",
   "execution_count": 62,
   "id": "c9db030c-22e0-493d-86d5-4c48b8d93a65",
   "metadata": {},
   "outputs": [
    {
     "data": {
      "image/png": "[encoded data removed]",
      "text/plain": [
       "<Figure size 144x432 with 1 Axes>"
      ]
     },
     "metadata": {
      "needs_background": "light"
     },
     "output_type": "display_data"
    }
   ],
   "source": [
    "gb_sfs.plot(figsize=(2, 6))"
   ]
  },
  {
   "cell_type": "code",
   "execution_count": 63,
   "id": "ee36171e-0dad-4b7b-8090-67006fc51cfe",
   "metadata": {},
   "outputs": [
    {
     "data": {
      "text/plain": [
       "{'train_test_split': {'to_woe': ['zipcode',\n",
       "   'cd_msa',\n",
       "   'st',\n",
       "   'seller_name',\n",
       "   'servicer_name',\n",
       "   'prop_val_meth',\n",
       "   'prop_type',\n",
       "   'flag_fthb',\n",
       "   'pgrm_ind',\n",
       "   'occpy_sts',\n",
       "   'loan_purpose',\n",
       "   'channel',\n",
       "   'prod_type'],\n",
       "  'scaler': 'StandardScaler'},\n",
       " 'undersampling': {},\n",
       " 'init': {'selection_model': 'sfs',\n",
       "  'predictive_model': 'GradientBoostingClassifier',\n",
       "  'selection_init': {'cv': 2},\n",
       "  'predictive_init': {}},\n",
       " 'fit': {'predictive_params': {}},\n",
       " 'predict': {}}"
      ]
     },
     "execution_count": 63,
     "metadata": {},
     "output_type": "execute_result"
    }
   ],
   "source": [
    "gb_sfs.set_best(\"gs_3\")\n",
    "gb_sfs.params[\"best\"]"
   ]
  },
  {
   "cell_type": "code",
   "execution_count": 64,
   "id": "5c6e9343-aef8-4a81-a162-552c3fe23355",
   "metadata": {},
   "outputs": [
    {
     "name": "stdout",
     "output_type": "stream",
     "text": [
      "stored dictionary to ../out/grid-search/feature-selection_sfs-boosting.json.\n"
     ]
    }
   ],
   "source": [
    "gb_sfs.dump()"
   ]
  },
  {
   "cell_type": "markdown",
   "id": "f6029c65-e49b-4f54-8eab-6026afc31e3c",
   "metadata": {},
   "source": [
    "## Performance models"
   ]
  },
  {
   "cell_type": "markdown",
   "id": "791518de-0c94-4fb9-ab78-c6b06ef031d0",
   "metadata": {
    "tags": []
   },
   "source": [
    "### Causal Selection: PC, GradientBoosting"
   ]
  },
  {
   "cell_type": "code",
   "execution_count": 65,
   "id": "64c1cb9c-c2f0-4a5f-b5db-ee6e9fdd83c4",
   "metadata": {},
   "outputs": [
    {
     "name": "stdout",
     "output_type": "stream",
     "text": [
      "finished loading results from ../out/grid-search/causal-selection_pc-boosting.json.\n"
     ]
    }
   ],
   "source": [
    "pc_gb = utils.GridSearch(models.CausalSelection, results[\"causal-selection_pc-boosting.json\"])"
   ]
  },
  {
   "cell_type": "code",
   "execution_count": 66,
   "id": "07c5a01c-0a03-4b77-9518-ca6edd71419a",
   "metadata": {},
   "outputs": [
    {
     "data": {
      "image/png": "[encoded data removed]",
      "text/plain": [
       "<Figure size 1440x576 with 1 Axes>"
      ]
     },
     "metadata": {
      "needs_background": "light"
     },
     "output_type": "display_data"
    }
   ],
   "source": [
    "pc_gb.evaluate()\n",
    "pc_gb.plot(figsize=(20, 8))"
   ]
  },
  {
   "cell_type": "code",
   "execution_count": 67,
   "id": "afce5eb8-3bb3-48f7-a412-082cf85783fb",
   "metadata": {},
   "outputs": [
    {
     "data": {
      "text/plain": [
       "{'train_test_split': {'to_woe': ['zipcode',\n",
       "   'cd_msa',\n",
       "   'st',\n",
       "   'seller_name',\n",
       "   'servicer_name',\n",
       "   'prop_val_meth',\n",
       "   'prop_type',\n",
       "   'flag_fthb',\n",
       "   'pgrm_ind',\n",
       "   'occpy_sts',\n",
       "   'loan_purpose',\n",
       "   'channel',\n",
       "   'prod_type'],\n",
       "  'scaler': 'StandardScaler'},\n",
       " 'undersampling': {},\n",
       " 'init': {'causal_model': 'PC',\n",
       "  'predictive_model': 'GradientBoostingClassifier',\n",
       "  'causal_init': {'alpha': 0.1},\n",
       "  'predictive_init': {'learning_rate': 0.1,\n",
       "   'subsample': 1,\n",
       "   'min_samples_leaf': 1,\n",
       "   'max_depth': 3,\n",
       "   'max_features': None}},\n",
       " 'fit': {'X_labels': ['fico',\n",
       "   'flag_fthb',\n",
       "   'cd_msa',\n",
       "   'mi_pct',\n",
       "   'cnt_units',\n",
       "   'occpy_sts',\n",
       "   'cltv',\n",
       "   'dti',\n",
       "   'orig_upb',\n",
       "   'ltv',\n",
       "   'int_rt',\n",
       "   'channel',\n",
       "   'ppmt_pnlty',\n",
       "   'prod_type',\n",
       "   'st',\n",
       "   'prop_type',\n",
       "   'zipcode',\n",
       "   'loan_purpose',\n",
       "   'orig_loan_term',\n",
       "   'cnt_borr',\n",
       "   'seller_name',\n",
       "   'servicer_name',\n",
       "   'flag_sc',\n",
       "   'pgrm_ind',\n",
       "   'rel_ref_ind',\n",
       "   'prop_val_meth',\n",
       "   'int_only_ind'],\n",
       "  'causal_undersampling_ratio': 0.01,\n",
       "  'predictive_undersampling_ratio': None,\n",
       "  'predictive_params': {}},\n",
       " 'predict': {}}"
      ]
     },
     "execution_count": 67,
     "metadata": {},
     "output_type": "execute_result"
    }
   ],
   "source": [
    "pc_gb.set_best(\"gs_15\")\n",
    "pc_gb.params[\"best\"]"
   ]
  },
  {
   "cell_type": "code",
   "execution_count": 68,
   "id": "b13cd935-232d-469a-9514-3767e28ade0e",
   "metadata": {},
   "outputs": [
    {
     "name": "stdout",
     "output_type": "stream",
     "text": [
      "stored dictionary to ../out/grid-search/causal-selection_pc-boosting.json.\n"
     ]
    }
   ],
   "source": [
    "pc_gb.dump()"
   ]
  },
  {
   "cell_type": "markdown",
   "id": "973aa687-39e8-4e9a-91f5-ed7fbfe14aa5",
   "metadata": {
    "tags": []
   },
   "source": [
    "### Causal Selection: GES, GradientBoosting"
   ]
  },
  {
   "cell_type": "code",
   "execution_count": 69,
   "id": "517043f2-34e1-4753-8eee-6e617f7eeb6a",
   "metadata": {},
   "outputs": [
    {
     "name": "stdout",
     "output_type": "stream",
     "text": [
      "finished loading results from ../out/grid-search/causal-selection_ges-boosting.json.\n"
     ]
    }
   ],
   "source": [
    "ges_gb = utils.GridSearch(models.CausalSelection, results[\"causal-selection_ges-boosting.json\"])"
   ]
  },
  {
   "cell_type": "code",
   "execution_count": 70,
   "id": "de0a3a4f-f2f4-4683-97cb-4df029608fc2",
   "metadata": {},
   "outputs": [
    {
     "data": {
      "image/png": "[encoded data removed]",
      "text/plain": [
       "<Figure size 144x288 with 1 Axes>"
      ]
     },
     "metadata": {
      "needs_background": "light"
     },
     "output_type": "display_data"
    }
   ],
   "source": [
    "ges_gb.evaluate()\n",
    "ges_gb.plot(figsize=(2, 4))"
   ]
  },
  {
   "cell_type": "code",
   "execution_count": 71,
   "id": "01b3d6b8-1422-4c18-88d0-752170088570",
   "metadata": {},
   "outputs": [
    {
     "data": {
      "text/plain": [
       "{'train_test_split': {'to_woe': ['zipcode',\n",
       "   'cd_msa',\n",
       "   'st',\n",
       "   'seller_name',\n",
       "   'servicer_name',\n",
       "   'prop_val_meth',\n",
       "   'prop_type',\n",
       "   'flag_fthb',\n",
       "   'pgrm_ind',\n",
       "   'occpy_sts',\n",
       "   'loan_purpose',\n",
       "   'channel',\n",
       "   'prod_type'],\n",
       "  'scaler': 'StandardScaler'},\n",
       " 'undersampling': {},\n",
       " 'init': {'causal_model': 'GES',\n",
       "  'predictive_model': 'GradientBoostingClassifier',\n",
       "  'causal_init': {},\n",
       "  'predictive_init': {'learning_rate': 0.1,\n",
       "   'subsample': 1,\n",
       "   'min_samples_leaf': 1,\n",
       "   'max_depth': 3,\n",
       "   'max_features': None}},\n",
       " 'fit': {'X_labels': ['fico',\n",
       "   'flag_fthb',\n",
       "   'cd_msa',\n",
       "   'mi_pct',\n",
       "   'cnt_units',\n",
       "   'occpy_sts',\n",
       "   'cltv',\n",
       "   'dti',\n",
       "   'orig_upb',\n",
       "   'ltv',\n",
       "   'int_rt',\n",
       "   'channel',\n",
       "   'ppmt_pnlty',\n",
       "   'prod_type',\n",
       "   'st',\n",
       "   'prop_type',\n",
       "   'zipcode',\n",
       "   'loan_purpose',\n",
       "   'orig_loan_term',\n",
       "   'cnt_borr',\n",
       "   'seller_name',\n",
       "   'servicer_name',\n",
       "   'flag_sc',\n",
       "   'pgrm_ind',\n",
       "   'rel_ref_ind',\n",
       "   'prop_val_meth',\n",
       "   'int_only_ind'],\n",
       "  'predictive_undersampling_ratio': None,\n",
       "  'predictive_params': {}},\n",
       " 'predict': {}}"
      ]
     },
     "execution_count": 71,
     "metadata": {},
     "output_type": "execute_result"
    }
   ],
   "source": [
    "ges_gb.set_best(\"gs_1\")\n",
    "ges_gb.params[\"best\"]"
   ]
  },
  {
   "cell_type": "code",
   "execution_count": 72,
   "id": "675a935d-f508-4aa4-b5f1-a14c1c28cd78",
   "metadata": {},
   "outputs": [
    {
     "name": "stdout",
     "output_type": "stream",
     "text": [
      "stored dictionary to ../out/grid-search/causal-selection_ges-boosting.json.\n"
     ]
    }
   ],
   "source": [
    "ges_gb.dump()"
   ]
  },
  {
   "cell_type": "markdown",
   "id": "2681912a-ca4f-43c9-a57b-e3bd9042442d",
   "metadata": {
    "tags": []
   },
   "source": [
    "### Causal Selection: LiNGAM, GradientBoosting"
   ]
  },
  {
   "cell_type": "code",
   "execution_count": 73,
   "id": "a0369601-8f1a-4e07-924d-cf412d61f535",
   "metadata": {},
   "outputs": [
    {
     "name": "stdout",
     "output_type": "stream",
     "text": [
      "finished loading results from ../out/grid-search/causal-selection_lingam-boosting.json.\n"
     ]
    }
   ],
   "source": [
    "lingam_gb = utils.GridSearch(models.CausalSelection, results[\"causal-selection_lingam-boosting.json\"])"
   ]
  },
  {
   "cell_type": "code",
   "execution_count": 74,
   "id": "928724db-0c3a-48f7-9cd2-c95b83b4a255",
   "metadata": {},
   "outputs": [
    {
     "data": {
      "image/png": "[encoded data removed]",
      "text/plain": [
       "<Figure size 432x288 with 1 Axes>"
      ]
     },
     "metadata": {
      "needs_background": "light"
     },
     "output_type": "display_data"
    }
   ],
   "source": [
    "lingam_gb.evaluate()\n",
    "lingam_gb.plot()"
   ]
  },
  {
   "cell_type": "code",
   "execution_count": 75,
   "id": "a9926a97-61bc-4541-a1d3-1ec682e5cdd2",
   "metadata": {},
   "outputs": [
    {
     "data": {
      "text/plain": [
       "{'train_test_split': {'to_woe': ['zipcode',\n",
       "   'cd_msa',\n",
       "   'st',\n",
       "   'seller_name',\n",
       "   'servicer_name',\n",
       "   'prop_val_meth',\n",
       "   'prop_type',\n",
       "   'flag_fthb',\n",
       "   'pgrm_ind',\n",
       "   'occpy_sts',\n",
       "   'loan_purpose',\n",
       "   'channel',\n",
       "   'prod_type'],\n",
       "  'scaler': 'StandardScaler'},\n",
       " 'undersampling': {},\n",
       " 'init': {'causal_model': 'ICALiNGAM',\n",
       "  'predictive_model': 'GradientBoostingClassifier',\n",
       "  'causal_init': {'thresh': 0.01},\n",
       "  'predictive_init': {'learning_rate': 0.1,\n",
       "   'subsample': 1,\n",
       "   'min_samples_leaf': 1,\n",
       "   'max_depth': 3,\n",
       "   'max_features': None}},\n",
       " 'fit': {'X_labels': ['fico',\n",
       "   'flag_fthb',\n",
       "   'cd_msa',\n",
       "   'mi_pct',\n",
       "   'cnt_units',\n",
       "   'occpy_sts',\n",
       "   'cltv',\n",
       "   'dti',\n",
       "   'orig_upb',\n",
       "   'ltv',\n",
       "   'int_rt',\n",
       "   'channel',\n",
       "   'ppmt_pnlty',\n",
       "   'prod_type',\n",
       "   'st',\n",
       "   'prop_type',\n",
       "   'zipcode',\n",
       "   'loan_purpose',\n",
       "   'orig_loan_term',\n",
       "   'cnt_borr',\n",
       "   'seller_name',\n",
       "   'servicer_name',\n",
       "   'flag_sc',\n",
       "   'pgrm_ind',\n",
       "   'rel_ref_ind',\n",
       "   'prop_val_meth',\n",
       "   'int_only_ind'],\n",
       "  'predictive_undersampling_ratio': None,\n",
       "  'predictive_params': {}},\n",
       " 'predict': {}}"
      ]
     },
     "execution_count": 75,
     "metadata": {},
     "output_type": "execute_result"
    }
   ],
   "source": [
    "lingam_gb.set_best(\"gs_3\")\n",
    "lingam_gb.params[\"best\"]"
   ]
  },
  {
   "cell_type": "code",
   "execution_count": 76,
   "id": "814f0797-94e6-4e61-bf93-7d1411745c7d",
   "metadata": {},
   "outputs": [
    {
     "name": "stdout",
     "output_type": "stream",
     "text": [
      "stored dictionary to ../out/grid-search/causal-selection_lingam-boosting.json.\n"
     ]
    }
   ],
   "source": [
    "lingam_gb.dump()"
   ]
  },
  {
   "cell_type": "markdown",
   "id": "ce33707b-c529-4978-8c8a-5bdba72d0d4e",
   "metadata": {
    "tags": []
   },
   "source": [
    "### Causal Selection: NOTEARS, GradientBoosting"
   ]
  },
  {
   "cell_type": "code",
   "execution_count": 77,
   "id": "b824e581-89b3-4945-9935-37bc82840a79",
   "metadata": {},
   "outputs": [
    {
     "name": "stdout",
     "output_type": "stream",
     "text": [
      "finished loading results from ../out/grid-search/causal-selection_notears-boosting.json.\n"
     ]
    }
   ],
   "source": [
    "notears_gb = utils.GridSearch(models.CausalSelection, results[\"causal-selection_notears-boosting.json\"])"
   ]
  },
  {
   "cell_type": "code",
   "execution_count": 78,
   "id": "6000e2a2-d9ec-485f-afbf-b7df6c7e2588",
   "metadata": {},
   "outputs": [
    {
     "data": {
      "image/png": "[encoded data removed]",
      "text/plain": [
       "<Figure size 432x288 with 1 Axes>"
      ]
     },
     "metadata": {
      "needs_background": "light"
     },
     "output_type": "display_data"
    }
   ],
   "source": [
    "notears_gb.evaluate()\n",
    "notears_gb.plot()"
   ]
  },
  {
   "cell_type": "code",
   "execution_count": 79,
   "id": "ac27f78d-8ccc-45c1-879f-ab43fffe2eff",
   "metadata": {},
   "outputs": [
    {
     "data": {
      "text/plain": [
       "{'train_test_split': {'to_woe': ['zipcode',\n",
       "   'cd_msa',\n",
       "   'st',\n",
       "   'seller_name',\n",
       "   'servicer_name',\n",
       "   'prop_val_meth',\n",
       "   'prop_type',\n",
       "   'flag_fthb',\n",
       "   'pgrm_ind',\n",
       "   'occpy_sts',\n",
       "   'loan_purpose',\n",
       "   'channel',\n",
       "   'prod_type'],\n",
       "  'scaler': 'StandardScaler'},\n",
       " 'undersampling': {},\n",
       " 'init': {'causal_model': 'Notears',\n",
       "  'predictive_model': 'GradientBoostingClassifier',\n",
       "  'causal_init': {'w_threshold': 0.01},\n",
       "  'predictive_init': {'learning_rate': 0.1,\n",
       "   'subsample': 1,\n",
       "   'min_samples_leaf': 1,\n",
       "   'max_depth': 3,\n",
       "   'max_features': None}},\n",
       " 'fit': {'X_labels': ['fico',\n",
       "   'flag_fthb',\n",
       "   'cd_msa',\n",
       "   'mi_pct',\n",
       "   'cnt_units',\n",
       "   'occpy_sts',\n",
       "   'cltv',\n",
       "   'dti',\n",
       "   'orig_upb',\n",
       "   'ltv',\n",
       "   'int_rt',\n",
       "   'channel',\n",
       "   'ppmt_pnlty',\n",
       "   'prod_type',\n",
       "   'st',\n",
       "   'prop_type',\n",
       "   'zipcode',\n",
       "   'loan_purpose',\n",
       "   'orig_loan_term',\n",
       "   'cnt_borr',\n",
       "   'seller_name',\n",
       "   'servicer_name',\n",
       "   'flag_sc',\n",
       "   'pgrm_ind',\n",
       "   'rel_ref_ind',\n",
       "   'prop_val_meth',\n",
       "   'int_only_ind'],\n",
       "  'causal_undersampling_ratio': 0.3,\n",
       "  'predictive_undersampling_ratio': None,\n",
       "  'predictive_params': {}},\n",
       " 'predict': {}}"
      ]
     },
     "execution_count": 79,
     "metadata": {},
     "output_type": "execute_result"
    }
   ],
   "source": [
    "notears_gb.set_best(\"gs_6\")\n",
    "notears_gb.params[\"best\"]"
   ]
  },
  {
   "cell_type": "code",
   "execution_count": 80,
   "id": "121d135a-ea67-4d14-9f34-3d3827f58b5b",
   "metadata": {},
   "outputs": [
    {
     "name": "stdout",
     "output_type": "stream",
     "text": [
      "stored dictionary to ../out/grid-search/causal-selection_notears-boosting.json.\n"
     ]
    }
   ],
   "source": [
    "notears_gb.dump()"
   ]
  },
  {
   "cell_type": "markdown",
   "id": "192ce127-80d8-4348-9587-4696344a8a66",
   "metadata": {},
   "source": [
    "### CASTLE"
   ]
  },
  {
   "cell_type": "code",
   "execution_count": 81,
   "id": "98dd4115-e6bf-4cf8-bcbe-8d1b2e561122",
   "metadata": {},
   "outputs": [
    {
     "name": "stdout",
     "output_type": "stream",
     "text": [
      "finished loading results from ../out/grid-search/castle.json.\n"
     ]
    }
   ],
   "source": [
    "castle = utils.GridSearch(models.CASTLE, results[\"castle.json\"])"
   ]
  },
  {
   "cell_type": "code",
   "execution_count": 82,
   "id": "3a9a1dc5-a21c-414d-b2d7-f4df83c2600e",
   "metadata": {},
   "outputs": [
    {
     "data": {
      "image/png": "[encoded data removed]",
      "text/plain": [
       "<Figure size 2160x720 with 1 Axes>"
      ]
     },
     "metadata": {
      "needs_background": "light"
     },
     "output_type": "display_data"
    }
   ],
   "source": [
    "castle.evaluate()\n",
    "castle.plot(figsize=(30, 10))"
   ]
  },
  {
   "cell_type": "code",
   "execution_count": 83,
   "id": "6b7e4a12-b5f3-4934-981d-87dd5c0d258d",
   "metadata": {},
   "outputs": [
    {
     "data": {
      "text/plain": [
       "{'train_test_split': {'to_woe': ['zipcode',\n",
       "   'cd_msa',\n",
       "   'st',\n",
       "   'seller_name',\n",
       "   'servicer_name',\n",
       "   'prop_val_meth',\n",
       "   'prop_type',\n",
       "   'flag_fthb',\n",
       "   'pgrm_ind',\n",
       "   'occpy_sts',\n",
       "   'loan_purpose',\n",
       "   'channel',\n",
       "   'prod_type'],\n",
       "  'scaler': 'StandardScaler'},\n",
       " 'undersampling': {},\n",
       " 'init': {'reg_lambda': 15,\n",
       "  'reg_beta': 3,\n",
       "  'w_threshold': -3,\n",
       "  'sigmoid_output': [0],\n",
       "  'ckpt_file': '../cache/tmp.ckpt',\n",
       "  'loss_function': 'bce'},\n",
       " 'fit': {'X_labels': ['fico',\n",
       "   'flag_fthb',\n",
       "   'cd_msa',\n",
       "   'mi_pct',\n",
       "   'cnt_units',\n",
       "   'occpy_sts',\n",
       "   'cltv',\n",
       "   'dti',\n",
       "   'orig_upb',\n",
       "   'ltv',\n",
       "   'int_rt',\n",
       "   'channel',\n",
       "   'ppmt_pnlty',\n",
       "   'prod_type',\n",
       "   'st',\n",
       "   'prop_type',\n",
       "   'zipcode',\n",
       "   'loan_purpose',\n",
       "   'orig_loan_term',\n",
       "   'cnt_borr',\n",
       "   'seller_name',\n",
       "   'servicer_name',\n",
       "   'flag_sc',\n",
       "   'pgrm_ind',\n",
       "   'rel_ref_ind',\n",
       "   'prop_val_meth',\n",
       "   'int_only_ind'],\n",
       "  'undersampling_ratio': 0.3333333333333333,\n",
       "  'verbose': 0},\n",
       " 'predict': {}}"
      ]
     },
     "execution_count": 83,
     "metadata": {},
     "output_type": "execute_result"
    }
   ],
   "source": [
    "castle.set_best(\"gs_53\")\n",
    "castle.params[\"best\"]"
   ]
  },
  {
   "cell_type": "code",
   "execution_count": 84,
   "id": "5a8bbb77-8604-47bc-8ab1-c01b2aa865e4",
   "metadata": {},
   "outputs": [
    {
     "name": "stdout",
     "output_type": "stream",
     "text": [
      "stored dictionary to ../out/grid-search/castle.json.\n"
     ]
    }
   ],
   "source": [
    "castle.dump()"
   ]
  },
  {
   "cell_type": "markdown",
   "id": "8ab6630a-6bb7-4bb1-93d0-3ec8712206a2",
   "metadata": {},
   "source": [
    "## Interpretable models "
   ]
  },
  {
   "cell_type": "markdown",
   "id": "a9efa2b9-a142-476c-b330-3e030b2bcd16",
   "metadata": {
    "tags": []
   },
   "source": [
    "### Causal Selection: PC, Logistic Regression"
   ]
  },
  {
   "cell_type": "code",
   "execution_count": 85,
   "id": "8ac97d8a-3bc0-443b-8c58-58299135a2ee",
   "metadata": {},
   "outputs": [
    {
     "name": "stdout",
     "output_type": "stream",
     "text": [
      "finished loading results from ../out/grid-search/causal-selection_pc-logistic-regression.json.\n"
     ]
    }
   ],
   "source": [
    "pc_lr = utils.GridSearch(models.CausalSelection, results[\"causal-selection_pc-logistic-regression.json\"])"
   ]
  },
  {
   "cell_type": "code",
   "execution_count": 86,
   "id": "863ce749-a2b4-45b8-a61c-7f82c2e01ba5",
   "metadata": {},
   "outputs": [
    {
     "data": {
      "image/png": "[encoded data removed]",
      "text/plain": [
       "<Figure size 1440x720 with 1 Axes>"
      ]
     },
     "metadata": {
      "needs_background": "light"
     },
     "output_type": "display_data"
    }
   ],
   "source": [
    "pc_lr.evaluate()\n",
    "pc_lr.plot(figsize=(20, 10))"
   ]
  },
  {
   "cell_type": "code",
   "execution_count": 87,
   "id": "361c834a-6944-49fd-a8bd-4baed9cf2891",
   "metadata": {},
   "outputs": [
    {
     "data": {
      "text/plain": [
       "{'train_test_split': {'to_woe': ['zipcode',\n",
       "   'cd_msa',\n",
       "   'st',\n",
       "   'seller_name',\n",
       "   'servicer_name',\n",
       "   'prop_val_meth',\n",
       "   'prop_type',\n",
       "   'flag_fthb',\n",
       "   'pgrm_ind',\n",
       "   'occpy_sts',\n",
       "   'loan_purpose',\n",
       "   'channel',\n",
       "   'prod_type'],\n",
       "  'scaler': 'StandardScaler'},\n",
       " 'undersampling': {},\n",
       " 'init': {'causal_model': 'PC',\n",
       "  'predictive_model': 'LogisticRegression',\n",
       "  'causal_init': {'alpha': 0.01},\n",
       "  'predictive_init': {'penalty': 'l2',\n",
       "   'C': 1,\n",
       "   'class_weight': None,\n",
       "   'n_jobs': -1}},\n",
       " 'fit': {'X_labels': ['fico',\n",
       "   'flag_fthb',\n",
       "   'cd_msa',\n",
       "   'mi_pct',\n",
       "   'cnt_units',\n",
       "   'occpy_sts',\n",
       "   'cltv',\n",
       "   'dti',\n",
       "   'orig_upb',\n",
       "   'ltv',\n",
       "   'int_rt',\n",
       "   'channel',\n",
       "   'ppmt_pnlty',\n",
       "   'prod_type',\n",
       "   'st',\n",
       "   'prop_type',\n",
       "   'zipcode',\n",
       "   'loan_purpose',\n",
       "   'orig_loan_term',\n",
       "   'cnt_borr',\n",
       "   'seller_name',\n",
       "   'servicer_name',\n",
       "   'flag_sc',\n",
       "   'pgrm_ind',\n",
       "   'rel_ref_ind',\n",
       "   'prop_val_meth',\n",
       "   'int_only_ind'],\n",
       "  'causal_undersampling_ratio': 0.1,\n",
       "  'predictive_undersampling_ratio': None,\n",
       "  'predictive_params': {}},\n",
       " 'predict': {}}"
      ]
     },
     "execution_count": 87,
     "metadata": {},
     "output_type": "execute_result"
    }
   ],
   "source": [
    "pc_lr.set_best(\"gs_11\")\n",
    "pc_lr.params[\"best\"]"
   ]
  },
  {
   "cell_type": "code",
   "execution_count": 88,
   "id": "256dc1fe-de2e-4394-9cee-5544679d6288",
   "metadata": {},
   "outputs": [
    {
     "name": "stdout",
     "output_type": "stream",
     "text": [
      "stored dictionary to ../out/grid-search/causal-selection_pc-logistic-regression.json.\n"
     ]
    }
   ],
   "source": [
    "pc_lr.dump()"
   ]
  },
  {
   "cell_type": "markdown",
   "id": "e260d62f-3036-4cad-869e-07e0d999ea24",
   "metadata": {
    "tags": []
   },
   "source": [
    "### Causal Selection: GES, Logistic Regression"
   ]
  },
  {
   "cell_type": "code",
   "execution_count": 89,
   "id": "e3a8d0fd-3552-46e6-b2c9-1b6318c07a00",
   "metadata": {},
   "outputs": [
    {
     "name": "stdout",
     "output_type": "stream",
     "text": [
      "finished loading results from ../out/grid-search/causal-selection_ges-logistic-regression.json.\n"
     ]
    }
   ],
   "source": [
    "ges_lr = utils.GridSearch(models.CausalSelection, results[\"causal-selection_ges-logistic-regression.json\"])"
   ]
  },
  {
   "cell_type": "code",
   "execution_count": 90,
   "id": "36db0ee6-31b6-4f82-a6e7-8c57d31d9e0d",
   "metadata": {},
   "outputs": [
    {
     "data": {
      "image/png": "[encoded data removed]",
      "text/plain": [
       "<Figure size 144x288 with 1 Axes>"
      ]
     },
     "metadata": {
      "needs_background": "light"
     },
     "output_type": "display_data"
    }
   ],
   "source": [
    "ges_lr.evaluate()\n",
    "ges_lr.plot(figsize=(2, 4))"
   ]
  },
  {
   "cell_type": "code",
   "execution_count": 91,
   "id": "fee02676-2829-4f02-91de-08e723c7ddaf",
   "metadata": {},
   "outputs": [
    {
     "data": {
      "text/plain": [
       "{'train_test_split': {'to_woe': ['zipcode',\n",
       "   'cd_msa',\n",
       "   'st',\n",
       "   'seller_name',\n",
       "   'servicer_name',\n",
       "   'prop_val_meth',\n",
       "   'prop_type',\n",
       "   'flag_fthb',\n",
       "   'pgrm_ind',\n",
       "   'occpy_sts',\n",
       "   'loan_purpose',\n",
       "   'channel',\n",
       "   'prod_type'],\n",
       "  'scaler': 'StandardScaler'},\n",
       " 'undersampling': {},\n",
       " 'init': {'causal_model': 'GES',\n",
       "  'predictive_model': 'LogisticRegression',\n",
       "  'causal_init': {},\n",
       "  'predictive_init': {'penalty': 'l2',\n",
       "   'C': 1,\n",
       "   'class_weight': None,\n",
       "   'n_jobs': -1}},\n",
       " 'fit': {'X_labels': ['fico',\n",
       "   'flag_fthb',\n",
       "   'cd_msa',\n",
       "   'mi_pct',\n",
       "   'cnt_units',\n",
       "   'occpy_sts',\n",
       "   'cltv',\n",
       "   'dti',\n",
       "   'orig_upb',\n",
       "   'ltv',\n",
       "   'int_rt',\n",
       "   'channel',\n",
       "   'ppmt_pnlty',\n",
       "   'prod_type',\n",
       "   'st',\n",
       "   'prop_type',\n",
       "   'zipcode',\n",
       "   'loan_purpose',\n",
       "   'orig_loan_term',\n",
       "   'cnt_borr',\n",
       "   'seller_name',\n",
       "   'servicer_name',\n",
       "   'flag_sc',\n",
       "   'pgrm_ind',\n",
       "   'rel_ref_ind',\n",
       "   'prop_val_meth',\n",
       "   'int_only_ind'],\n",
       "  'predictive_undersampling_ratio': None,\n",
       "  'predictive_params': {}},\n",
       " 'predict': {}}"
      ]
     },
     "execution_count": 91,
     "metadata": {},
     "output_type": "execute_result"
    }
   ],
   "source": [
    "ges_lr.set_best(\"gs_1\")\n",
    "ges_lr.params[\"best\"]"
   ]
  },
  {
   "cell_type": "code",
   "execution_count": 92,
   "id": "db6d2d2f-d72b-4814-ba52-ce51886190a6",
   "metadata": {},
   "outputs": [
    {
     "name": "stdout",
     "output_type": "stream",
     "text": [
      "stored dictionary to ../out/grid-search/causal-selection_ges-logistic-regression.json.\n"
     ]
    }
   ],
   "source": [
    "ges_lr.dump()"
   ]
  },
  {
   "cell_type": "markdown",
   "id": "11ce722e-ea35-4fca-867f-30feb33d8f7a",
   "metadata": {
    "tags": []
   },
   "source": [
    "### Causal Selection: LiNGAM, Logistic Regression"
   ]
  },
  {
   "cell_type": "code",
   "execution_count": 93,
   "id": "6dcd54bc-235d-4f3c-9111-1e6aa92488ae",
   "metadata": {},
   "outputs": [
    {
     "name": "stdout",
     "output_type": "stream",
     "text": [
      "finished loading results from ../out/grid-search/causal-selection_lingam-logistic-regression.json.\n"
     ]
    }
   ],
   "source": [
    "lingam_lr = utils.GridSearch(models.CausalSelection, results[\"causal-selection_lingam-logistic-regression.json\"])"
   ]
  },
  {
   "cell_type": "code",
   "execution_count": 94,
   "id": "d7b436d1-aa27-4671-b1bb-a5cd060656d7",
   "metadata": {},
   "outputs": [
    {
     "data": {
      "image/png": "[encoded data removed]",
      "text/plain": [
       "<Figure size 432x288 with 1 Axes>"
      ]
     },
     "metadata": {
      "needs_background": "light"
     },
     "output_type": "display_data"
    }
   ],
   "source": [
    "lingam_lr.evaluate()\n",
    "lingam_lr.plot()"
   ]
  },
  {
   "cell_type": "code",
   "execution_count": 95,
   "id": "80c0bc03-2ce4-42e5-ab9a-579fa844e3f1",
   "metadata": {},
   "outputs": [
    {
     "data": {
      "text/plain": [
       "{'train_test_split': {'to_woe': ['zipcode',\n",
       "   'cd_msa',\n",
       "   'st',\n",
       "   'seller_name',\n",
       "   'servicer_name',\n",
       "   'prop_val_meth',\n",
       "   'prop_type',\n",
       "   'flag_fthb',\n",
       "   'pgrm_ind',\n",
       "   'occpy_sts',\n",
       "   'loan_purpose',\n",
       "   'channel',\n",
       "   'prod_type'],\n",
       "  'scaler': 'StandardScaler'},\n",
       " 'undersampling': {},\n",
       " 'init': {'causal_model': 'ICALiNGAM',\n",
       "  'predictive_model': 'LogisticRegression',\n",
       "  'causal_init': {'thresh': 0.1},\n",
       "  'predictive_init': {'penalty': 'l2',\n",
       "   'C': 1,\n",
       "   'class_weight': None,\n",
       "   'n_jobs': -1}},\n",
       " 'fit': {'X_labels': ['fico',\n",
       "   'flag_fthb',\n",
       "   'cd_msa',\n",
       "   'mi_pct',\n",
       "   'cnt_units',\n",
       "   'occpy_sts',\n",
       "   'cltv',\n",
       "   'dti',\n",
       "   'orig_upb',\n",
       "   'ltv',\n",
       "   'int_rt',\n",
       "   'channel',\n",
       "   'ppmt_pnlty',\n",
       "   'prod_type',\n",
       "   'st',\n",
       "   'prop_type',\n",
       "   'zipcode',\n",
       "   'loan_purpose',\n",
       "   'orig_loan_term',\n",
       "   'cnt_borr',\n",
       "   'seller_name',\n",
       "   'servicer_name',\n",
       "   'flag_sc',\n",
       "   'pgrm_ind',\n",
       "   'rel_ref_ind',\n",
       "   'prop_val_meth',\n",
       "   'int_only_ind'],\n",
       "  'predictive_undersampling_ratio': None,\n",
       "  'predictive_params': {}},\n",
       " 'predict': {}}"
      ]
     },
     "execution_count": 95,
     "metadata": {},
     "output_type": "execute_result"
    }
   ],
   "source": [
    "lingam_lr.set_best(\"gs_3\")\n",
    "lingam_lr.params[\"best\"]"
   ]
  },
  {
   "cell_type": "code",
   "execution_count": 96,
   "id": "548d98fc-a8d0-4c6b-b3f8-e87283ed41e1",
   "metadata": {},
   "outputs": [
    {
     "name": "stdout",
     "output_type": "stream",
     "text": [
      "stored dictionary to ../out/grid-search/causal-selection_lingam-logistic-regression.json.\n"
     ]
    }
   ],
   "source": [
    "lingam_lr.dump()"
   ]
  },
  {
   "cell_type": "markdown",
   "id": "a9c804aa-a78b-4c49-90a1-736da5328aa6",
   "metadata": {
    "tags": []
   },
   "source": [
    "### Causal Selection: NOTEARS, Logistic Regression"
   ]
  },
  {
   "cell_type": "code",
   "execution_count": 97,
   "id": "9f51febd-291f-4b23-84be-3fd6c2329619",
   "metadata": {},
   "outputs": [
    {
     "name": "stdout",
     "output_type": "stream",
     "text": [
      "finished loading results from ../out/grid-search/causal-selection_notears-logistic-regression.json.\n"
     ]
    }
   ],
   "source": [
    "notears_lr = utils.GridSearch(models.CausalSelection, results[\"causal-selection_notears-logistic-regression.json\"])"
   ]
  },
  {
   "cell_type": "code",
   "execution_count": 98,
   "id": "1db55aa3-9fdb-473e-b877-dc7d612e62fa",
   "metadata": {},
   "outputs": [
    {
     "data": {
      "image/png": "[encoded data removed]",
      "text/plain": [
       "<Figure size 432x288 with 1 Axes>"
      ]
     },
     "metadata": {
      "needs_background": "light"
     },
     "output_type": "display_data"
    }
   ],
   "source": [
    "notears_lr.evaluate()\n",
    "notears_lr.plot()"
   ]
  },
  {
   "cell_type": "code",
   "execution_count": 99,
   "id": "a1c15c63-decf-4900-813a-53ffe509484c",
   "metadata": {},
   "outputs": [
    {
     "data": {
      "text/plain": [
       "{'train_test_split': {'to_woe': ['zipcode',\n",
       "   'cd_msa',\n",
       "   'st',\n",
       "   'seller_name',\n",
       "   'servicer_name',\n",
       "   'prop_val_meth',\n",
       "   'prop_type',\n",
       "   'flag_fthb',\n",
       "   'pgrm_ind',\n",
       "   'occpy_sts',\n",
       "   'loan_purpose',\n",
       "   'channel',\n",
       "   'prod_type'],\n",
       "  'scaler': 'StandardScaler'},\n",
       " 'undersampling': {},\n",
       " 'init': {'causal_model': 'Notears',\n",
       "  'predictive_model': 'LogisticRegression',\n",
       "  'causal_init': {'w_threshold': 0.01},\n",
       "  'predictive_init': {'penalty': 'l2',\n",
       "   'C': 1,\n",
       "   'class_weight': None,\n",
       "   'n_jobs': -1}},\n",
       " 'fit': {'X_labels': ['fico',\n",
       "   'flag_fthb',\n",
       "   'cd_msa',\n",
       "   'mi_pct',\n",
       "   'cnt_units',\n",
       "   'occpy_sts',\n",
       "   'cltv',\n",
       "   'dti',\n",
       "   'orig_upb',\n",
       "   'ltv',\n",
       "   'int_rt',\n",
       "   'channel',\n",
       "   'ppmt_pnlty',\n",
       "   'prod_type',\n",
       "   'st',\n",
       "   'prop_type',\n",
       "   'zipcode',\n",
       "   'loan_purpose',\n",
       "   'orig_loan_term',\n",
       "   'cnt_borr',\n",
       "   'seller_name',\n",
       "   'servicer_name',\n",
       "   'flag_sc',\n",
       "   'pgrm_ind',\n",
       "   'rel_ref_ind',\n",
       "   'prop_val_meth',\n",
       "   'int_only_ind'],\n",
       "  'causal_undersampling_ratio': 0.3,\n",
       "  'predictive_undersampling_ratio': None,\n",
       "  'predictive_params': {}},\n",
       " 'predict': {}}"
      ]
     },
     "execution_count": 99,
     "metadata": {},
     "output_type": "execute_result"
    }
   ],
   "source": [
    "notears_lr.set_best(\"gs_6\")\n",
    "notears_lr.params[\"best\"]"
   ]
  },
  {
   "cell_type": "code",
   "execution_count": 100,
   "id": "abfef2ba-cabd-497f-b3cc-df407da22d68",
   "metadata": {},
   "outputs": [
    {
     "name": "stdout",
     "output_type": "stream",
     "text": [
      "stored dictionary to ../out/grid-search/causal-selection_notears-logistic-regression.json.\n"
     ]
    }
   ],
   "source": [
    "notears_lr.dump()"
   ]
  },
  {
   "cell_type": "markdown",
   "id": "8a996a85-5f17-4775-a4ad-f6a28d161b4f",
   "metadata": {
    "tags": []
   },
   "source": [
    "### Causal Selection: PC, Decision Tree"
   ]
  },
  {
   "cell_type": "code",
   "execution_count": 101,
   "id": "5217ca9e-7e39-4c44-9569-8607a8463bbe",
   "metadata": {},
   "outputs": [
    {
     "name": "stdout",
     "output_type": "stream",
     "text": [
      "finished loading results from ../out/grid-search/causal-selection_pc-decision-tree.json.\n"
     ]
    }
   ],
   "source": [
    "pc_dt = utils.GridSearch(models.CausalSelection, results[\"causal-selection_pc-decision-tree.json\"])"
   ]
  },
  {
   "cell_type": "code",
   "execution_count": 102,
   "id": "24fc3921-f6fa-4a5c-a526-e3df94e0a2d2",
   "metadata": {},
   "outputs": [
    {
     "data": {
      "image/png": "[encoded data removed]",
      "text/plain": [
       "<Figure size 1440x720 with 1 Axes>"
      ]
     },
     "metadata": {
      "needs_background": "light"
     },
     "output_type": "display_data"
    }
   ],
   "source": [
    "pc_dt.evaluate()\n",
    "pc_dt.plot(figsize=(20,10))"
   ]
  },
  {
   "cell_type": "code",
   "execution_count": 103,
   "id": "cbfa7e4c-d4ad-4e1b-b5f8-9e5c15e28771",
   "metadata": {},
   "outputs": [
    {
     "data": {
      "text/plain": [
       "{'train_test_split': {'to_woe': ['zipcode',\n",
       "   'cd_msa',\n",
       "   'st',\n",
       "   'seller_name',\n",
       "   'servicer_name',\n",
       "   'prop_val_meth',\n",
       "   'prop_type',\n",
       "   'flag_fthb',\n",
       "   'pgrm_ind',\n",
       "   'occpy_sts',\n",
       "   'loan_purpose',\n",
       "   'channel',\n",
       "   'prod_type'],\n",
       "  'scaler': 'StandardScaler'},\n",
       " 'undersampling': {},\n",
       " 'init': {'causal_model': 'PC',\n",
       "  'predictive_model': 'DecisionTreeClassifier',\n",
       "  'causal_init': {'alpha': 0.1},\n",
       "  'predictive_init': {'max_depth': 3,\n",
       "   'max_features': 'sqrt',\n",
       "   'min_samples_leaf': 0.1,\n",
       "   'class_weight': 'balanced',\n",
       "   'random_state': 123}},\n",
       " 'fit': {'X_labels': ['fico',\n",
       "   'flag_fthb',\n",
       "   'cd_msa',\n",
       "   'mi_pct',\n",
       "   'cnt_units',\n",
       "   'occpy_sts',\n",
       "   'cltv',\n",
       "   'dti',\n",
       "   'orig_upb',\n",
       "   'ltv',\n",
       "   'int_rt',\n",
       "   'channel',\n",
       "   'ppmt_pnlty',\n",
       "   'prod_type',\n",
       "   'st',\n",
       "   'prop_type',\n",
       "   'zipcode',\n",
       "   'loan_purpose',\n",
       "   'orig_loan_term',\n",
       "   'cnt_borr',\n",
       "   'seller_name',\n",
       "   'servicer_name',\n",
       "   'flag_sc',\n",
       "   'pgrm_ind',\n",
       "   'rel_ref_ind',\n",
       "   'prop_val_meth',\n",
       "   'int_only_ind'],\n",
       "  'causal_undersampling_ratio': 0.04,\n",
       "  'predictive_undersampling_ratio': None,\n",
       "  'predictive_params': {}},\n",
       " 'predict': {}}"
      ]
     },
     "execution_count": 103,
     "metadata": {},
     "output_type": "execute_result"
    }
   ],
   "source": [
    "pc_dt.set_best(\"gs_3\")\n",
    "pc_dt.params[\"best\"]"
   ]
  },
  {
   "cell_type": "code",
   "execution_count": 104,
   "id": "9a91b7d2-a893-4786-8590-d5046f687a6a",
   "metadata": {},
   "outputs": [
    {
     "name": "stdout",
     "output_type": "stream",
     "text": [
      "stored dictionary to ../out/grid-search/causal-selection_pc-decision-tree.json.\n"
     ]
    }
   ],
   "source": [
    "pc_dt.dump()"
   ]
  },
  {
   "cell_type": "markdown",
   "id": "8d0da3b2-f7ce-44e0-8eb1-652f10b0caff",
   "metadata": {
    "tags": []
   },
   "source": [
    "### Causal Selection: GES, Decision Tree"
   ]
  },
  {
   "cell_type": "code",
   "execution_count": 105,
   "id": "5bcc338b-744e-4e7a-b45f-fd7deb588b96",
   "metadata": {},
   "outputs": [
    {
     "name": "stdout",
     "output_type": "stream",
     "text": [
      "finished loading results from ../out/grid-search/causal-selection_ges-decision-tree.json.\n"
     ]
    }
   ],
   "source": [
    "ges_dt = utils.GridSearch(models.CausalSelection, results[\"causal-selection_ges-decision-tree.json\"])"
   ]
  },
  {
   "cell_type": "code",
   "execution_count": 106,
   "id": "3de8240a-e4f7-4388-aa30-f583f3ae209f",
   "metadata": {},
   "outputs": [
    {
     "data": {
      "image/png": "[encoded data removed]",
      "text/plain": [
       "<Figure size 144x288 with 1 Axes>"
      ]
     },
     "metadata": {
      "needs_background": "light"
     },
     "output_type": "display_data"
    }
   ],
   "source": [
    "ges_dt.evaluate()\n",
    "ges_dt.plot(figsize=(2, 4))"
   ]
  },
  {
   "cell_type": "code",
   "execution_count": 107,
   "id": "54a747ed-263e-4790-9702-c95246f6ce0b",
   "metadata": {},
   "outputs": [
    {
     "data": {
      "text/plain": [
       "{'train_test_split': {'to_woe': ['zipcode',\n",
       "   'cd_msa',\n",
       "   'st',\n",
       "   'seller_name',\n",
       "   'servicer_name',\n",
       "   'prop_val_meth',\n",
       "   'prop_type',\n",
       "   'flag_fthb',\n",
       "   'pgrm_ind',\n",
       "   'occpy_sts',\n",
       "   'loan_purpose',\n",
       "   'channel',\n",
       "   'prod_type'],\n",
       "  'scaler': 'StandardScaler'},\n",
       " 'undersampling': {},\n",
       " 'init': {'causal_model': 'GES',\n",
       "  'predictive_model': 'DecisionTreeClassifier',\n",
       "  'causal_init': {},\n",
       "  'predictive_init': {'max_depth': 3,\n",
       "   'max_features': 'sqrt',\n",
       "   'min_samples_leaf': 0.1,\n",
       "   'class_weight': 'balanced',\n",
       "   'random_state': 123}},\n",
       " 'fit': {'X_labels': ['fico',\n",
       "   'flag_fthb',\n",
       "   'cd_msa',\n",
       "   'mi_pct',\n",
       "   'cnt_units',\n",
       "   'occpy_sts',\n",
       "   'cltv',\n",
       "   'dti',\n",
       "   'orig_upb',\n",
       "   'ltv',\n",
       "   'int_rt',\n",
       "   'channel',\n",
       "   'ppmt_pnlty',\n",
       "   'prod_type',\n",
       "   'st',\n",
       "   'prop_type',\n",
       "   'zipcode',\n",
       "   'loan_purpose',\n",
       "   'orig_loan_term',\n",
       "   'cnt_borr',\n",
       "   'seller_name',\n",
       "   'servicer_name',\n",
       "   'flag_sc',\n",
       "   'pgrm_ind',\n",
       "   'rel_ref_ind',\n",
       "   'prop_val_meth',\n",
       "   'int_only_ind'],\n",
       "  'predictive_undersampling_ratio': None,\n",
       "  'predictive_params': {}},\n",
       " 'predict': {}}"
      ]
     },
     "execution_count": 107,
     "metadata": {},
     "output_type": "execute_result"
    }
   ],
   "source": [
    "ges_dt.set_best(\"gs_1\")\n",
    "ges_dt.params[\"best\"]"
   ]
  },
  {
   "cell_type": "code",
   "execution_count": 108,
   "id": "d7961712-be47-4513-95a9-306c4ca79262",
   "metadata": {},
   "outputs": [
    {
     "name": "stdout",
     "output_type": "stream",
     "text": [
      "stored dictionary to ../out/grid-search/causal-selection_ges-decision-tree.json.\n"
     ]
    }
   ],
   "source": [
    "ges_dt.dump()"
   ]
  },
  {
   "cell_type": "markdown",
   "id": "336f0e73-b772-408f-9807-5e7a5c1f0ac5",
   "metadata": {
    "tags": []
   },
   "source": [
    "### Causal Selection: LiNGAM, Decision Tree"
   ]
  },
  {
   "cell_type": "code",
   "execution_count": 109,
   "id": "8e24f4a1-6f72-474c-b99f-2632a5de965f",
   "metadata": {},
   "outputs": [
    {
     "name": "stdout",
     "output_type": "stream",
     "text": [
      "finished loading results from ../out/grid-search/causal-selection_lingam-decision-tree.json.\n"
     ]
    }
   ],
   "source": [
    "lingam_dt = utils.GridSearch(models.CausalSelection, results[\"causal-selection_lingam-decision-tree.json\"])"
   ]
  },
  {
   "cell_type": "code",
   "execution_count": 110,
   "id": "fb54a431-40c1-4465-bec5-0f175af6b3f7",
   "metadata": {},
   "outputs": [
    {
     "data": {
      "image/png": "[encoded data removed]",
      "text/plain": [
       "<Figure size 432x288 with 1 Axes>"
      ]
     },
     "metadata": {
      "needs_background": "light"
     },
     "output_type": "display_data"
    }
   ],
   "source": [
    "lingam_dt.evaluate()\n",
    "lingam_dt.plot()"
   ]
  },
  {
   "cell_type": "code",
   "execution_count": 111,
   "id": "41e4907a-5ee2-4345-9c86-3a3bbb17d959",
   "metadata": {},
   "outputs": [
    {
     "data": {
      "text/plain": [
       "{'train_test_split': {'to_woe': ['zipcode',\n",
       "   'cd_msa',\n",
       "   'st',\n",
       "   'seller_name',\n",
       "   'servicer_name',\n",
       "   'prop_val_meth',\n",
       "   'prop_type',\n",
       "   'flag_fthb',\n",
       "   'pgrm_ind',\n",
       "   'occpy_sts',\n",
       "   'loan_purpose',\n",
       "   'channel',\n",
       "   'prod_type'],\n",
       "  'scaler': 'StandardScaler'},\n",
       " 'undersampling': {},\n",
       " 'init': {'causal_model': 'ICALiNGAM',\n",
       "  'predictive_model': 'DecisionTreeClassifier',\n",
       "  'causal_init': {'thresh': 0.5},\n",
       "  'predictive_init': {'max_depth': 3,\n",
       "   'max_features': 'sqrt',\n",
       "   'min_samples_leaf': 0.1,\n",
       "   'class_weight': 'balanced',\n",
       "   'random_state': 123}},\n",
       " 'fit': {'X_labels': ['fico',\n",
       "   'flag_fthb',\n",
       "   'cd_msa',\n",
       "   'mi_pct',\n",
       "   'cnt_units',\n",
       "   'occpy_sts',\n",
       "   'cltv',\n",
       "   'dti',\n",
       "   'orig_upb',\n",
       "   'ltv',\n",
       "   'int_rt',\n",
       "   'channel',\n",
       "   'ppmt_pnlty',\n",
       "   'prod_type',\n",
       "   'st',\n",
       "   'prop_type',\n",
       "   'zipcode',\n",
       "   'loan_purpose',\n",
       "   'orig_loan_term',\n",
       "   'cnt_borr',\n",
       "   'seller_name',\n",
       "   'servicer_name',\n",
       "   'flag_sc',\n",
       "   'pgrm_ind',\n",
       "   'rel_ref_ind',\n",
       "   'prop_val_meth',\n",
       "   'int_only_ind'],\n",
       "  'predictive_undersampling_ratio': None,\n",
       "  'predictive_params': {}},\n",
       " 'predict': {}}"
      ]
     },
     "execution_count": 111,
     "metadata": {},
     "output_type": "execute_result"
    }
   ],
   "source": [
    "lingam_dt.set_best(\"gs_6\")\n",
    "lingam_dt.params[\"best\"]"
   ]
  },
  {
   "cell_type": "code",
   "execution_count": 112,
   "id": "ae0224f5-e1f8-4dff-80f1-e5778da6d81f",
   "metadata": {},
   "outputs": [
    {
     "name": "stdout",
     "output_type": "stream",
     "text": [
      "stored dictionary to ../out/grid-search/causal-selection_lingam-decision-tree.json.\n"
     ]
    }
   ],
   "source": [
    "lingam_dt.dump()"
   ]
  },
  {
   "cell_type": "markdown",
   "id": "dfc4e1f4-6dc9-4591-a4e8-280c11f56f53",
   "metadata": {
    "tags": []
   },
   "source": [
    "### Causal Selection: NOTEARS, Decision Tree"
   ]
  },
  {
   "cell_type": "code",
   "execution_count": 113,
   "id": "278d14ff-5e10-4c43-a52e-6111fd922f19",
   "metadata": {},
   "outputs": [
    {
     "name": "stdout",
     "output_type": "stream",
     "text": [
      "finished loading results from ../out/grid-search/causal-selection_notears-decision-tree.json.\n"
     ]
    }
   ],
   "source": [
    "notears_dt = utils.GridSearch(models.CausalSelection, results[\"causal-selection_notears-decision-tree.json\"])"
   ]
  },
  {
   "cell_type": "code",
   "execution_count": 114,
   "id": "c4710bce-d09b-4cd1-aa62-04e3032f47ea",
   "metadata": {},
   "outputs": [
    {
     "data": {
      "image/png": "[encoded data removed]",
      "text/plain": [
       "<Figure size 432x288 with 1 Axes>"
      ]
     },
     "metadata": {
      "needs_background": "light"
     },
     "output_type": "display_data"
    }
   ],
   "source": [
    "notears_dt.evaluate()\n",
    "notears_dt.plot()"
   ]
  },
  {
   "cell_type": "code",
   "execution_count": 115,
   "id": "268d3526-b97d-4036-8033-abbc5387983f",
   "metadata": {},
   "outputs": [
    {
     "data": {
      "text/plain": [
       "{'train_test_split': {'to_woe': ['zipcode',\n",
       "   'cd_msa',\n",
       "   'st',\n",
       "   'seller_name',\n",
       "   'servicer_name',\n",
       "   'prop_val_meth',\n",
       "   'prop_type',\n",
       "   'flag_fthb',\n",
       "   'pgrm_ind',\n",
       "   'occpy_sts',\n",
       "   'loan_purpose',\n",
       "   'channel',\n",
       "   'prod_type'],\n",
       "  'scaler': 'StandardScaler'},\n",
       " 'undersampling': {},\n",
       " 'init': {'causal_model': 'Notears',\n",
       "  'predictive_model': 'DecisionTreeClassifier',\n",
       "  'causal_init': {'w_threshold': 0.01},\n",
       "  'predictive_init': {'max_depth': 3,\n",
       "   'max_features': 'sqrt',\n",
       "   'min_samples_leaf': 0.1,\n",
       "   'class_weight': 'balanced',\n",
       "   'random_state': 123}},\n",
       " 'fit': {'X_labels': ['fico',\n",
       "   'flag_fthb',\n",
       "   'cd_msa',\n",
       "   'mi_pct',\n",
       "   'cnt_units',\n",
       "   'occpy_sts',\n",
       "   'cltv',\n",
       "   'dti',\n",
       "   'orig_upb',\n",
       "   'ltv',\n",
       "   'int_rt',\n",
       "   'channel',\n",
       "   'ppmt_pnlty',\n",
       "   'prod_type',\n",
       "   'st',\n",
       "   'prop_type',\n",
       "   'zipcode',\n",
       "   'loan_purpose',\n",
       "   'orig_loan_term',\n",
       "   'cnt_borr',\n",
       "   'seller_name',\n",
       "   'servicer_name',\n",
       "   'flag_sc',\n",
       "   'pgrm_ind',\n",
       "   'rel_ref_ind',\n",
       "   'prop_val_meth',\n",
       "   'int_only_ind'],\n",
       "  'causal_undersampling_ratio': 0.3,\n",
       "  'predictive_undersampling_ratio': None,\n",
       "  'predictive_params': {}},\n",
       " 'predict': {}}"
      ]
     },
     "execution_count": 115,
     "metadata": {},
     "output_type": "execute_result"
    }
   ],
   "source": [
    "notears_dt.set_best(\"gs_6\")\n",
    "notears_dt.params[\"best\"]"
   ]
  },
  {
   "cell_type": "code",
   "execution_count": 116,
   "id": "cde8e045-6a01-47e7-a052-537f0c3e79ce",
   "metadata": {},
   "outputs": [
    {
     "name": "stdout",
     "output_type": "stream",
     "text": [
      "stored dictionary to ../out/grid-search/causal-selection_notears-decision-tree.json.\n"
     ]
    }
   ],
   "source": [
    "notears_dt.dump()"
   ]
  },
  {
   "cell_type": "markdown",
   "id": "611a5d2f-a8c5-427f-bd39-928d9f37914a",
   "metadata": {
    "tags": []
   },
   "source": [
    "## Comparision"
   ]
  },
  {
   "cell_type": "code",
   "execution_count": 117,
   "id": "04f0f818-4803-4603-a0a5-7e4627baf042",
   "metadata": {},
   "outputs": [
    {
     "name": "stdout",
     "output_type": "stream",
     "text": [
      "finished loading results from ../out/grid-search/boosting.json.\n",
      "finished loading results from ../out/grid-search/decision-tree.json.\n",
      "finished loading results from ../out/grid-search/logistic-regression.json.\n",
      "finished loading results from ../out/grid-search/causal-selection_pc-boosting.json.\n",
      "finished loading results from ../out/grid-search/causal-selection_pc-decision-tree.json.\n",
      "finished loading results from ../out/grid-search/causal-selection_pc-logistic-regression.json.\n",
      "finished loading results from ../out/grid-search/causal-selection_ges-boosting.json.\n",
      "finished loading results from ../out/grid-search/causal-selection_ges-decision-tree.json.\n",
      "finished loading results from ../out/grid-search/causal-selection_ges-logistic-regression.json.\n",
      "finished loading results from ../out/grid-search/causal-selection_lingam-boosting.json.\n",
      "finished loading results from ../out/grid-search/causal-selection_lingam-decision-tree.json.\n",
      "finished loading results from ../out/grid-search/causal-selection_lingam-logistic-regression.json.\n",
      "finished loading results from ../out/grid-search/causal-selection_notears-boosting.json.\n",
      "finished loading results from ../out/grid-search/causal-selection_notears-decision-tree.json.\n",
      "finished loading results from ../out/grid-search/causal-selection_notears-logistic-regression.json.\n",
      "finished loading results from ../out/grid-search/castle.json.\n"
     ]
    }
   ],
   "source": [
    "test_scores = {}\n",
    "train_scores = {}\n",
    "names = [\n",
    "    \"boosting\", \n",
    "    \"decision-tree\",\n",
    "    \"logistic-regression\",\n",
    "    \"causal-selection_pc-boosting\", \n",
    "    \"causal-selection_pc-decision-tree\",\n",
    "    \"causal-selection_pc-logistic-regression\",\n",
    "    \"causal-selection_ges-boosting\", \n",
    "    \"causal-selection_ges-decision-tree\",\n",
    "    \"causal-selection_ges-logistic-regression\",\n",
    "    \"causal-selection_lingam-boosting\", \n",
    "    \"causal-selection_lingam-decision-tree\",\n",
    "    \"causal-selection_lingam-logistic-regression\",\n",
    "    \"causal-selection_notears-boosting\", \n",
    "    \"causal-selection_notears-decision-tree\",\n",
    "    \"causal-selection_notears-logistic-regression\",\n",
    "    \"castle\"\n",
    "]\n",
    "for name in names:\n",
    "    gs = utils.GridSearch(None, results[f\"{name}.json\"])\n",
    "    test_scores[name] = gs.test_scores[\"best\"]\n",
    "    train_scores[name] = gs.train_scores[\"best\"].mean()"
   ]
  },
  {
   "cell_type": "code",
   "execution_count": 118,
   "id": "ef353625-d671-441b-9afe-35235e734c96",
   "metadata": {},
   "outputs": [
    {
     "data": {
      "image/png": "[encoded data removed]",
      "text/plain": [
       "<Figure size 864x576 with 1 Axes>"
      ]
     },
     "metadata": {
      "needs_background": "light"
     },
     "output_type": "display_data"
    }
   ],
   "source": [
    "plt.figure(figsize=(12, 8));\n",
    "plt.boxplot(test_scores.values(), labels = test_scores.keys());\n",
    "plt.xticks(rotation=90);\n",
    "plt.show()"
   ]
  },
  {
   "cell_type": "markdown",
   "id": "2e068007-8e3a-42a2-9c58-5022ab8177aa",
   "metadata": {},
   "source": [
    "### Boosting"
   ]
  },
  {
   "cell_type": "code",
   "execution_count": 119,
   "id": "196e986b-8ce2-42bb-9fcd-8c290b6deca3",
   "metadata": {},
   "outputs": [
    {
     "name": "stdout",
     "output_type": "stream",
     "text": [
      "finished loading results from ../out/grid-search/boosting.json.\n",
      "finished loading results from ../out/grid-search/causal-selection_pc-boosting.json.\n",
      "finished loading results from ../out/grid-search/causal-selection_ges-boosting.json.\n",
      "finished loading results from ../out/grid-search/causal-selection_lingam-boosting.json.\n",
      "finished loading results from ../out/grid-search/causal-selection_notears-boosting.json.\n",
      "finished loading results from ../out/grid-search/castle.json.\n"
     ]
    }
   ],
   "source": [
    "predictive_model = \"boosting\"\n",
    "test_scores = {}\n",
    "train_scores = {}\n",
    "names = [\n",
    "    predictive_model,\n",
    "    f\"causal-selection_pc-{predictive_model}\", \n",
    "    f\"causal-selection_ges-{predictive_model}\", \n",
    "    f\"causal-selection_lingam-{predictive_model}\", \n",
    "    f\"causal-selection_notears-{predictive_model}\", \n",
    "    \"castle\"\n",
    "\n",
    "]\n",
    "for name in names:\n",
    "    gs = utils.GridSearch(None, results[f\"{name}.json\"])\n",
    "    test_scores[name] = gs.test_scores[\"best\"]\n",
    "    train_scores[name] = gs.train_scores[\"best\"].mean()"
   ]
  },
  {
   "cell_type": "code",
   "execution_count": 120,
   "id": "9a7eeb59-e057-4520-ba95-1320d403dde4",
   "metadata": {},
   "outputs": [
    {
     "data": {
      "image/png": "[encoded data removed]",
      "text/plain": [
       "<Figure size 576x432 with 1 Axes>"
      ]
     },
     "metadata": {
      "needs_background": "light"
     },
     "output_type": "display_data"
    }
   ],
   "source": [
    "plt.figure(figsize=(8, 6));\n",
    "plt.boxplot(test_scores.values(), labels = test_scores.keys());\n",
    "plt.xticks(rotation=90);\n",
    "plt.show()"
   ]
  },
  {
   "cell_type": "markdown",
   "id": "0705be88-ca5a-4fe6-a788-cab8bfe2d08d",
   "metadata": {},
   "source": [
    "### Logistic Regression"
   ]
  },
  {
   "cell_type": "code",
   "execution_count": 121,
   "id": "734fd3f2-6583-4c7a-bdff-d9c523850f17",
   "metadata": {},
   "outputs": [
    {
     "name": "stdout",
     "output_type": "stream",
     "text": [
      "finished loading results from ../out/grid-search/logistic-regression.json.\n",
      "finished loading results from ../out/grid-search/causal-selection_pc-logistic-regression.json.\n",
      "finished loading results from ../out/grid-search/causal-selection_ges-logistic-regression.json.\n",
      "finished loading results from ../out/grid-search/causal-selection_lingam-logistic-regression.json.\n",
      "finished loading results from ../out/grid-search/causal-selection_notears-logistic-regression.json.\n",
      "finished loading results from ../out/grid-search/castle.json.\n"
     ]
    }
   ],
   "source": [
    "predictive_model = \"logistic-regression\"\n",
    "test_scores = {}\n",
    "train_scores = {}\n",
    "names = [\n",
    "    predictive_model,\n",
    "    f\"causal-selection_pc-{predictive_model}\", \n",
    "    f\"causal-selection_ges-{predictive_model}\", \n",
    "    f\"causal-selection_lingam-{predictive_model}\", \n",
    "    f\"causal-selection_notears-{predictive_model}\", \n",
    "    \"castle\"\n",
    "\n",
    "]\n",
    "for name in names:\n",
    "    gs = utils.GridSearch(None, results[f\"{name}.json\"])\n",
    "    test_scores[name] = gs.test_scores[\"best\"]\n",
    "    train_scores[name] = gs.train_scores[\"best\"].mean()"
   ]
  },
  {
   "cell_type": "code",
   "execution_count": 122,
   "id": "c0c9f277-f391-4ee0-a106-4bc80829ff63",
   "metadata": {},
   "outputs": [
    {
     "data": {
      "image/png": "[encoded data removed]",
      "text/plain": [
       "<Figure size 576x432 with 1 Axes>"
      ]
     },
     "metadata": {
      "needs_background": "light"
     },
     "output_type": "display_data"
    }
   ],
   "source": [
    "plt.figure(figsize=(8, 6));\n",
    "plt.boxplot(test_scores.values(), labels = test_scores.keys());\n",
    "plt.xticks(rotation=90);\n",
    "plt.show()"
   ]
  },
  {
   "cell_type": "markdown",
   "id": "3d4635ad-28b1-48ed-803c-37fb38c45b9c",
   "metadata": {},
   "source": [
    "### Decision Tree"
   ]
  },
  {
   "cell_type": "code",
   "execution_count": 123,
   "id": "367c961e-8fe7-45f8-9100-f7cc8e560141",
   "metadata": {},
   "outputs": [
    {
     "name": "stdout",
     "output_type": "stream",
     "text": [
      "finished loading results from ../out/grid-search/decision-tree.json.\n",
      "finished loading results from ../out/grid-search/causal-selection_pc-decision-tree.json.\n",
      "finished loading results from ../out/grid-search/causal-selection_ges-decision-tree.json.\n",
      "finished loading results from ../out/grid-search/causal-selection_lingam-decision-tree.json.\n",
      "finished loading results from ../out/grid-search/causal-selection_notears-decision-tree.json.\n",
      "finished loading results from ../out/grid-search/castle.json.\n"
     ]
    }
   ],
   "source": [
    "predictive_model = \"decision-tree\"\n",
    "test_scores = {}\n",
    "train_scores = {}\n",
    "names = [\n",
    "    predictive_model,\n",
    "    f\"causal-selection_pc-{predictive_model}\", \n",
    "    f\"causal-selection_ges-{predictive_model}\", \n",
    "    f\"causal-selection_lingam-{predictive_model}\", \n",
    "    f\"causal-selection_notears-{predictive_model}\", \n",
    "    \"castle\"\n",
    "\n",
    "]\n",
    "for name in names:\n",
    "    gs = utils.GridSearch(None, results[f\"{name}.json\"])\n",
    "    test_scores[name] = gs.test_scores[\"best\"]\n",
    "    train_scores[name] = gs.train_scores[\"best\"].mean()"
   ]
  },
  {
   "cell_type": "code",
   "execution_count": 124,
   "id": "b755a24f-3054-41e7-b764-1bb5fd69beb1",
   "metadata": {},
   "outputs": [
    {
     "data": {
      "image/png": "[encoded data removed]",
      "text/plain": [
       "<Figure size 576x432 with 1 Axes>"
      ]
     },
     "metadata": {
      "needs_background": "light"
     },
     "output_type": "display_data"
    }
   ],
   "source": [
    "plt.figure(figsize=(8, 6));\n",
    "plt.boxplot(test_scores.values(), labels = test_scores.keys());\n",
    "plt.xticks(rotation=90);\n",
    "plt.show()"
   ]
  },
  {
   "cell_type": "markdown",
   "id": "c2f13aad-2767-4d93-8c09-fd51cbc1ff81",
   "metadata": {},
   "source": [
    "### PC"
   ]
  },
  {
   "cell_type": "code",
   "execution_count": 125,
   "id": "e158aa79-b822-444c-a29e-6f6f6c13672e",
   "metadata": {},
   "outputs": [
    {
     "name": "stdout",
     "output_type": "stream",
     "text": [
      "finished loading results from ../out/grid-search/boosting.json.\n",
      "finished loading results from ../out/grid-search/causal-selection_pc-boosting.json.\n",
      "finished loading results from ../out/grid-search/logistic-regression.json.\n",
      "finished loading results from ../out/grid-search/causal-selection_pc-logistic-regression.json.\n",
      "finished loading results from ../out/grid-search/decision-tree.json.\n",
      "finished loading results from ../out/grid-search/causal-selection_pc-decision-tree.json.\n"
     ]
    }
   ],
   "source": [
    "causal_model = \"pc\"\n",
    "predictive_models = [\"boosting\", \"logistic-regression\", \"decision-tree\"]\n",
    "test_scores = {}\n",
    "train_scores = {}\n",
    "names = [f\"causal-selection_{causal_model}-{predictive_model}\" for predictive_model in predictive_models]\n",
    "\n",
    "for name in sum(list(zip(predictive_models, names)), ()):\n",
    "    gs = utils.GridSearch(None, results[f\"{name}.json\"])\n",
    "    test_scores[name] = gs.test_scores[\"best\"]\n",
    "    train_scores[name] = gs.train_scores[\"best\"].mean()"
   ]
  },
  {
   "cell_type": "code",
   "execution_count": 126,
   "id": "4c950c02-4dbb-45d4-b3b6-a31250b99484",
   "metadata": {},
   "outputs": [
    {
     "data": {
      "image/png": "[encoded data removed]",
      "text/plain": [
       "<Figure size 576x432 with 1 Axes>"
      ]
     },
     "metadata": {
      "needs_background": "light"
     },
     "output_type": "display_data"
    }
   ],
   "source": [
    "plt.figure(figsize=(8, 6));\n",
    "plt.boxplot(test_scores.values(), labels = test_scores.keys());\n",
    "plt.xticks(rotation=90);\n",
    "plt.show()"
   ]
  },
  {
   "cell_type": "markdown",
   "id": "a3ecb3b2-15a3-48de-974a-10f13678b067",
   "metadata": {},
   "source": [
    "### GES"
   ]
  },
  {
   "cell_type": "code",
   "execution_count": 127,
   "id": "00d37216-5e1e-4c80-960a-e55353534851",
   "metadata": {},
   "outputs": [
    {
     "name": "stdout",
     "output_type": "stream",
     "text": [
      "finished loading results from ../out/grid-search/boosting.json.\n",
      "finished loading results from ../out/grid-search/causal-selection_ges-boosting.json.\n",
      "finished loading results from ../out/grid-search/logistic-regression.json.\n",
      "finished loading results from ../out/grid-search/causal-selection_ges-logistic-regression.json.\n",
      "finished loading results from ../out/grid-search/decision-tree.json.\n",
      "finished loading results from ../out/grid-search/causal-selection_ges-decision-tree.json.\n"
     ]
    }
   ],
   "source": [
    "causal_model = \"ges\"\n",
    "predictive_models = [\"boosting\", \"logistic-regression\", \"decision-tree\"]\n",
    "test_scores = {}\n",
    "train_scores = {}\n",
    "names = [f\"causal-selection_{causal_model}-{predictive_model}\" for predictive_model in predictive_models]\n",
    "\n",
    "for name in sum(list(zip(predictive_models, names)), ()):\n",
    "    gs = utils.GridSearch(None, results[f\"{name}.json\"])\n",
    "    test_scores[name] = gs.test_scores[\"best\"]\n",
    "    train_scores[name] = gs.train_scores[\"best\"].mean()"
   ]
  },
  {
   "cell_type": "code",
   "execution_count": 128,
   "id": "09268788-e768-4ba8-a16a-d3f20b057215",
   "metadata": {},
   "outputs": [
    {
     "data": {
      "image/png": "[encoded data removed]",
      "text/plain": [
       "<Figure size 576x432 with 1 Axes>"
      ]
     },
     "metadata": {
      "needs_background": "light"
     },
     "output_type": "display_data"
    }
   ],
   "source": [
    "plt.figure(figsize=(8, 6));\n",
    "plt.boxplot(test_scores.values(), labels = test_scores.keys());\n",
    "plt.xticks(rotation=90);\n",
    "plt.show()"
   ]
  },
  {
   "cell_type": "markdown",
   "id": "8a4b09a8-19ee-4b12-828c-73c4c907f720",
   "metadata": {},
   "source": [
    "### LiNGAM"
   ]
  },
  {
   "cell_type": "code",
   "execution_count": 129,
   "id": "cc8c9755-4ba5-43a6-bf22-1e42055f61be",
   "metadata": {},
   "outputs": [
    {
     "name": "stdout",
     "output_type": "stream",
     "text": [
      "finished loading results from ../out/grid-search/boosting.json.\n",
      "finished loading results from ../out/grid-search/causal-selection_lingam-boosting.json.\n",
      "finished loading results from ../out/grid-search/logistic-regression.json.\n",
      "finished loading results from ../out/grid-search/causal-selection_lingam-logistic-regression.json.\n",
      "finished loading results from ../out/grid-search/decision-tree.json.\n",
      "finished loading results from ../out/grid-search/causal-selection_lingam-decision-tree.json.\n"
     ]
    }
   ],
   "source": [
    "causal_model = \"lingam\"\n",
    "predictive_models = [\"boosting\", \"logistic-regression\", \"decision-tree\"]\n",
    "test_scores = {}\n",
    "train_scores = {}\n",
    "names = [f\"causal-selection_{causal_model}-{predictive_model}\" for predictive_model in predictive_models]\n",
    "\n",
    "for name in sum(list(zip(predictive_models, names)), ()):\n",
    "    gs = utils.GridSearch(None, results[f\"{name}.json\"])\n",
    "    test_scores[name] = gs.test_scores[\"best\"]\n",
    "    train_scores[name] = gs.train_scores[\"best\"].mean()"
   ]
  },
  {
   "cell_type": "code",
   "execution_count": 130,
   "id": "83042bc1-06f3-4398-87c9-e3ecf3739e4a",
   "metadata": {},
   "outputs": [
    {
     "data": {
      "image/png": "[encoded data removed]",
      "text/plain": [
       "<Figure size 576x432 with 1 Axes>"
      ]
     },
     "metadata": {
      "needs_background": "light"
     },
     "output_type": "display_data"
    }
   ],
   "source": [
    "plt.figure(figsize=(8, 6));\n",
    "plt.boxplot(test_scores.values(), labels = test_scores.keys());\n",
    "plt.xticks(rotation=90);\n",
    "plt.show()"
   ]
  },
  {
   "cell_type": "markdown",
   "id": "4b359c20-1cf5-4208-8573-ae64d07b67c1",
   "metadata": {},
   "source": [
    "### NOTEARS"
   ]
  },
  {
   "cell_type": "code",
   "execution_count": 131,
   "id": "4481de11-e23e-4ecf-a404-bc27fc743655",
   "metadata": {},
   "outputs": [
    {
     "name": "stdout",
     "output_type": "stream",
     "text": [
      "finished loading results from ../out/grid-search/boosting.json.\n",
      "finished loading results from ../out/grid-search/causal-selection_notears-boosting.json.\n",
      "finished loading results from ../out/grid-search/logistic-regression.json.\n",
      "finished loading results from ../out/grid-search/causal-selection_notears-logistic-regression.json.\n",
      "finished loading results from ../out/grid-search/decision-tree.json.\n",
      "finished loading results from ../out/grid-search/causal-selection_notears-decision-tree.json.\n"
     ]
    }
   ],
   "source": [
    "causal_model = \"notears\"\n",
    "predictive_models = [\"boosting\", \"logistic-regression\", \"decision-tree\"]\n",
    "test_scores = {}\n",
    "train_scores = {}\n",
    "names = [f\"causal-selection_{causal_model}-{predictive_model}\" for predictive_model in predictive_models]\n",
    "\n",
    "for name in sum(list(zip(predictive_models, names)), ()):\n",
    "    gs = utils.GridSearch(None, results[f\"{name}.json\"])\n",
    "    test_scores[name] = gs.test_scores[\"best\"]\n",
    "    train_scores[name] = gs.train_scores[\"best\"].mean()"
   ]
  },
  {
   "cell_type": "code",
   "execution_count": 132,
   "id": "816df5ec-31b4-4e25-9f48-ef9e955dc739",
   "metadata": {},
   "outputs": [
    {
     "data": {
      "image/png": "[encoded data removed]",
      "text/plain": [
       "<Figure size 576x432 with 1 Axes>"
      ]
     },
     "metadata": {
      "needs_background": "light"
     },
     "output_type": "display_data"
    }
   ],
   "source": [
    "plt.figure(figsize=(8, 6));\n",
    "plt.boxplot(test_scores.values(), labels = test_scores.keys());\n",
    "plt.xticks(rotation=90);\n",
    "plt.show()"
   ]
  },
  {
   "cell_type": "code",
   "execution_count": 133,
   "id": "b39faf44-e9f1-4afc-bf2e-f984fc0c599f",
   "metadata": {},
   "outputs": [
    {
     "name": "stdout",
     "output_type": "stream",
     "text": [
      "finished loading results from ../out/grid-search/causal-selection_pc-boosting.json.\n",
      "finished loading results from ../out/grid-search/causal-selection_pc-decision-tree.json.\n",
      "finished loading results from ../out/grid-search/causal-selection_pc-logistic-regression.json.\n"
     ]
    }
   ],
   "source": [
    "test_scores = {}\n",
    "train_scores = {}\n",
    "names = [\n",
    "    \"causal-selection_pc-boosting\", \n",
    "    \"causal-selection_pc-decision-tree\",\n",
    "    \"causal-selection_pc-logistic-regression\",\n",
    "]\n",
    "for name in names:\n",
    "    gs = utils.GridSearch(None, results[f\"{name}.json\"])\n",
    "    test_scores[name] = gs.test_scores[\"best\"]\n",
    "    train_scores[name] = gs.train_scores[\"best\"].mean()"
   ]
  },
  {
   "cell_type": "code",
   "execution_count": 134,
   "id": "72da5a0a-7bdb-45a8-aab4-c0cf1a5d039c",
   "metadata": {},
   "outputs": [
    {
     "data": {
      "image/png": "[encoded data removed]",
      "text/plain": [
       "<Figure size 864x576 with 1 Axes>"
      ]
     },
     "metadata": {
      "needs_background": "light"
     },
     "output_type": "display_data"
    }
   ],
   "source": [
    "plt.figure(figsize=(12, 8));\n",
    "plt.boxplot(test_scores.values(), labels = test_scores.keys());\n",
    "plt.xticks(rotation=90);\n",
    "plt.show()"
   ]
  }
 ],
 "metadata": {
  "kernelspec": {
   "display_name": "Python 3 (ipykernel)",
   "language": "python",
   "name": "python3"
  },
  "language_info": {
   "codemirror_mode": {
    "name": "ipython",
    "version": 3
   },
   "file_extension": ".py",
   "mimetype": "text/x-python",
   "name": "python",
   "nbconvert_exporter": "python",
   "pygments_lexer": "ipython3",
   "version": "3.9.13"
  }
 },
 "nbformat": 4,
 "nbformat_minor": 5
}
